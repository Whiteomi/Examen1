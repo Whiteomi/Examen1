{
  "cells": [
    {
      "cell_type": "markdown",
      "metadata": {
        "id": "view-in-github",
        "colab_type": "text"
      },
      "source": [
        "<a href=\"https://colab.research.google.com/github/Whiteomi/Examen1/blob/main/Consumer_mit_lift_lab.ipynb\" target=\"_parent\"><img src=\"https://colab.research.google.com/assets/colab-badge.svg\" alt=\"Open In Colab\"/></a>"
      ]
    },
    {
      "cell_type": "code",
      "execution_count": 1,
      "metadata": {
        "id": "FcviQTWO4TZm"
      },
      "outputs": [],
      "source": [
        "#Importamos librerias requeridas\n",
        "import pandas as pd \n",
        "import numpy as np \n",
        "import matplotlib.pyplot as  plt"
      ]
    },
    {
      "cell_type": "code",
      "execution_count": null,
      "metadata": {
        "id": "veqyg0qf4yCq"
      },
      "outputs": [],
      "source": [
        "#Cargar archivo csv desde seaborn\n",
        "from google.colab import files \n",
        "files.upload()"
      ]
    },
    {
      "cell_type": "code",
      "execution_count": 12,
      "metadata": {
        "id": "1zRzGUUO49EH",
        "colab": {
          "base_uri": "https://localhost:8080/",
          "height": 560
        },
        "outputId": "bc360b5a-d659-4a3e-d322-1fb529e6308d"
      },
      "outputs": [
        {
          "output_type": "execute_result",
          "data": {
            "text/plain": [
              "                             _record_id             _title  \\\n",
              "0  060a856c-e3b8-41a7-b680-9756172d1c29  November 12, 2022   \n",
              "1  c42fdf22-b93b-443e-8f46-6043613cb0c3  November 12, 2022   \n",
              "2  3ccaedc0-949e-4555-afad-b2e1d77c3219  November 12, 2022   \n",
              "3  91d8a240-af2c-451b-900f-3480f82e05db  November 12, 2022   \n",
              "4  3efefc56-bd45-4e4a-bf02-ab725e9fb41a  November 12, 2022   \n",
              "\n",
              "        _server_updated_at                   _updated_by  \\\n",
              "0  2022-11-12 22:43:08 UTC         Ulises Núñez Bautista   \n",
              "1  2022-11-12 22:15:02 UTC          Salomon Abdala Perez   \n",
              "2  2022-11-12 22:15:02 UTC          Salomon Abdala Perez   \n",
              "3  2022-11-12 20:41:38 UTC  Jorge Alberto Ostorga Flores   \n",
              "4  2022-11-12 19:49:13 UTC  Jorge Alberto Ostorga Flores   \n",
              "\n",
              "                                       _geometry  _latitude  _longitude  \\\n",
              "0  SRID=4326;POINT(-98.2349802856 19.0598413203)  19.059841  -98.234980   \n",
              "1    SRID=4326;POINT(-98.2335660729 19.05847939)  19.058479  -98.233566   \n",
              "2  SRID=4326;POINT(-98.2303385023 19.0620767997)  19.062077  -98.230339   \n",
              "3  SRID=4326;POINT(-98.2329163449 19.0555346049)  19.055535  -98.232916   \n",
              "4  SRID=4326;POINT(-98.2329944224 19.0590117522)  19.059012  -98.232994   \n",
              "\n",
              "  282_payment_method_that_purchase 283_fulfill_needs 300_did_not_find  ...  \\\n",
              "0                         Efectivo                no     agua de coco  ...   \n",
              "1                         Efectivo               yes              NaN  ...   \n",
              "2                         Efectivo               yes              NaN  ...   \n",
              "3    Tarjeta de débito y/o crédito               yes              NaN  ...   \n",
              "4                         Efectivo               yes              NaN  ...   \n",
              "\n",
              "  81_number_online_purchases_month 288_number_app_purchases_month  \\\n",
              "0                                1                              0   \n",
              "1                                1                              2   \n",
              "2                                0                              0   \n",
              "3                                2                              3   \n",
              "4                                2                              5   \n",
              "\n",
              "   289_number_whatsapp_purchases_month 83_willingness_ultrafast_delivery  \\\n",
              "0                                    0                                 0   \n",
              "1                                    0                                35   \n",
              "2                                    0                                40   \n",
              "3                                    0                                 0   \n",
              "4                                    0                                 0   \n",
              "\n",
              "  84_willingness_sameday_delivery 241_age_of_the_interviewee  \\\n",
              "0                               0                         35   \n",
              "1                              50                         27   \n",
              "2                              25                         42   \n",
              "3                               0                         27   \n",
              "4                              50                         35   \n",
              "\n",
              "  240_gender_interviewee       indicate_the_type_of_store  \\\n",
              "0                   Male                        Cafeteria   \n",
              "1                 Female   Grocery store (aka. nanostore)   \n",
              "2                 Female  Micro-restaurant (aka. fondita)   \n",
              "3                 Female                        Cafeteria   \n",
              "4                 Female                        Cafeteria   \n",
              "\n",
              "     name_of_the_store storefront_picture_just_once_if_possible  \n",
              "0  Paleteria El Carmen                                      NaN  \n",
              "1        Gerardo Saénz                                      NaN  \n",
              "2                 Rozt                                  1 Photo  \n",
              "3         Café Colibrí                                  1 Photo  \n",
              "4              La fête                                  1 Photo  \n",
              "\n",
              "[5 rows x 36 columns]"
            ],
            "text/html": [
              "\n",
              "  <div id=\"df-a2ac51c0-fd75-422e-9838-3d24c3dc6ec8\">\n",
              "    <div class=\"colab-df-container\">\n",
              "      <div>\n",
              "<style scoped>\n",
              "    .dataframe tbody tr th:only-of-type {\n",
              "        vertical-align: middle;\n",
              "    }\n",
              "\n",
              "    .dataframe tbody tr th {\n",
              "        vertical-align: top;\n",
              "    }\n",
              "\n",
              "    .dataframe thead th {\n",
              "        text-align: right;\n",
              "    }\n",
              "</style>\n",
              "<table border=\"1\" class=\"dataframe\">\n",
              "  <thead>\n",
              "    <tr style=\"text-align: right;\">\n",
              "      <th></th>\n",
              "      <th>_record_id</th>\n",
              "      <th>_title</th>\n",
              "      <th>_server_updated_at</th>\n",
              "      <th>_updated_by</th>\n",
              "      <th>_geometry</th>\n",
              "      <th>_latitude</th>\n",
              "      <th>_longitude</th>\n",
              "      <th>282_payment_method_that_purchase</th>\n",
              "      <th>283_fulfill_needs</th>\n",
              "      <th>300_did_not_find</th>\n",
              "      <th>...</th>\n",
              "      <th>81_number_online_purchases_month</th>\n",
              "      <th>288_number_app_purchases_month</th>\n",
              "      <th>289_number_whatsapp_purchases_month</th>\n",
              "      <th>83_willingness_ultrafast_delivery</th>\n",
              "      <th>84_willingness_sameday_delivery</th>\n",
              "      <th>241_age_of_the_interviewee</th>\n",
              "      <th>240_gender_interviewee</th>\n",
              "      <th>indicate_the_type_of_store</th>\n",
              "      <th>name_of_the_store</th>\n",
              "      <th>storefront_picture_just_once_if_possible</th>\n",
              "    </tr>\n",
              "  </thead>\n",
              "  <tbody>\n",
              "    <tr>\n",
              "      <th>0</th>\n",
              "      <td>060a856c-e3b8-41a7-b680-9756172d1c29</td>\n",
              "      <td>November 12, 2022</td>\n",
              "      <td>2022-11-12 22:43:08 UTC</td>\n",
              "      <td>Ulises Núñez Bautista</td>\n",
              "      <td>SRID=4326;POINT(-98.2349802856 19.0598413203)</td>\n",
              "      <td>19.059841</td>\n",
              "      <td>-98.234980</td>\n",
              "      <td>Efectivo</td>\n",
              "      <td>no</td>\n",
              "      <td>agua de coco</td>\n",
              "      <td>...</td>\n",
              "      <td>1</td>\n",
              "      <td>0</td>\n",
              "      <td>0</td>\n",
              "      <td>0</td>\n",
              "      <td>0</td>\n",
              "      <td>35</td>\n",
              "      <td>Male</td>\n",
              "      <td>Cafeteria</td>\n",
              "      <td>Paleteria El Carmen</td>\n",
              "      <td>NaN</td>\n",
              "    </tr>\n",
              "    <tr>\n",
              "      <th>1</th>\n",
              "      <td>c42fdf22-b93b-443e-8f46-6043613cb0c3</td>\n",
              "      <td>November 12, 2022</td>\n",
              "      <td>2022-11-12 22:15:02 UTC</td>\n",
              "      <td>Salomon Abdala Perez</td>\n",
              "      <td>SRID=4326;POINT(-98.2335660729 19.05847939)</td>\n",
              "      <td>19.058479</td>\n",
              "      <td>-98.233566</td>\n",
              "      <td>Efectivo</td>\n",
              "      <td>yes</td>\n",
              "      <td>NaN</td>\n",
              "      <td>...</td>\n",
              "      <td>1</td>\n",
              "      <td>2</td>\n",
              "      <td>0</td>\n",
              "      <td>35</td>\n",
              "      <td>50</td>\n",
              "      <td>27</td>\n",
              "      <td>Female</td>\n",
              "      <td>Grocery store (aka. nanostore)</td>\n",
              "      <td>Gerardo Saénz</td>\n",
              "      <td>NaN</td>\n",
              "    </tr>\n",
              "    <tr>\n",
              "      <th>2</th>\n",
              "      <td>3ccaedc0-949e-4555-afad-b2e1d77c3219</td>\n",
              "      <td>November 12, 2022</td>\n",
              "      <td>2022-11-12 22:15:02 UTC</td>\n",
              "      <td>Salomon Abdala Perez</td>\n",
              "      <td>SRID=4326;POINT(-98.2303385023 19.0620767997)</td>\n",
              "      <td>19.062077</td>\n",
              "      <td>-98.230339</td>\n",
              "      <td>Efectivo</td>\n",
              "      <td>yes</td>\n",
              "      <td>NaN</td>\n",
              "      <td>...</td>\n",
              "      <td>0</td>\n",
              "      <td>0</td>\n",
              "      <td>0</td>\n",
              "      <td>40</td>\n",
              "      <td>25</td>\n",
              "      <td>42</td>\n",
              "      <td>Female</td>\n",
              "      <td>Micro-restaurant (aka. fondita)</td>\n",
              "      <td>Rozt</td>\n",
              "      <td>1 Photo</td>\n",
              "    </tr>\n",
              "    <tr>\n",
              "      <th>3</th>\n",
              "      <td>91d8a240-af2c-451b-900f-3480f82e05db</td>\n",
              "      <td>November 12, 2022</td>\n",
              "      <td>2022-11-12 20:41:38 UTC</td>\n",
              "      <td>Jorge Alberto Ostorga Flores</td>\n",
              "      <td>SRID=4326;POINT(-98.2329163449 19.0555346049)</td>\n",
              "      <td>19.055535</td>\n",
              "      <td>-98.232916</td>\n",
              "      <td>Tarjeta de débito y/o crédito</td>\n",
              "      <td>yes</td>\n",
              "      <td>NaN</td>\n",
              "      <td>...</td>\n",
              "      <td>2</td>\n",
              "      <td>3</td>\n",
              "      <td>0</td>\n",
              "      <td>0</td>\n",
              "      <td>0</td>\n",
              "      <td>27</td>\n",
              "      <td>Female</td>\n",
              "      <td>Cafeteria</td>\n",
              "      <td>Café Colibrí</td>\n",
              "      <td>1 Photo</td>\n",
              "    </tr>\n",
              "    <tr>\n",
              "      <th>4</th>\n",
              "      <td>3efefc56-bd45-4e4a-bf02-ab725e9fb41a</td>\n",
              "      <td>November 12, 2022</td>\n",
              "      <td>2022-11-12 19:49:13 UTC</td>\n",
              "      <td>Jorge Alberto Ostorga Flores</td>\n",
              "      <td>SRID=4326;POINT(-98.2329944224 19.0590117522)</td>\n",
              "      <td>19.059012</td>\n",
              "      <td>-98.232994</td>\n",
              "      <td>Efectivo</td>\n",
              "      <td>yes</td>\n",
              "      <td>NaN</td>\n",
              "      <td>...</td>\n",
              "      <td>2</td>\n",
              "      <td>5</td>\n",
              "      <td>0</td>\n",
              "      <td>0</td>\n",
              "      <td>50</td>\n",
              "      <td>35</td>\n",
              "      <td>Female</td>\n",
              "      <td>Cafeteria</td>\n",
              "      <td>La fête</td>\n",
              "      <td>1 Photo</td>\n",
              "    </tr>\n",
              "  </tbody>\n",
              "</table>\n",
              "<p>5 rows × 36 columns</p>\n",
              "</div>\n",
              "      <button class=\"colab-df-convert\" onclick=\"convertToInteractive('df-a2ac51c0-fd75-422e-9838-3d24c3dc6ec8')\"\n",
              "              title=\"Convert this dataframe to an interactive table.\"\n",
              "              style=\"display:none;\">\n",
              "        \n",
              "  <svg xmlns=\"http://www.w3.org/2000/svg\" height=\"24px\"viewBox=\"0 0 24 24\"\n",
              "       width=\"24px\">\n",
              "    <path d=\"M0 0h24v24H0V0z\" fill=\"none\"/>\n",
              "    <path d=\"M18.56 5.44l.94 2.06.94-2.06 2.06-.94-2.06-.94-.94-2.06-.94 2.06-2.06.94zm-11 1L8.5 8.5l.94-2.06 2.06-.94-2.06-.94L8.5 2.5l-.94 2.06-2.06.94zm10 10l.94 2.06.94-2.06 2.06-.94-2.06-.94-.94-2.06-.94 2.06-2.06.94z\"/><path d=\"M17.41 7.96l-1.37-1.37c-.4-.4-.92-.59-1.43-.59-.52 0-1.04.2-1.43.59L10.3 9.45l-7.72 7.72c-.78.78-.78 2.05 0 2.83L4 21.41c.39.39.9.59 1.41.59.51 0 1.02-.2 1.41-.59l7.78-7.78 2.81-2.81c.8-.78.8-2.07 0-2.86zM5.41 20L4 18.59l7.72-7.72 1.47 1.35L5.41 20z\"/>\n",
              "  </svg>\n",
              "      </button>\n",
              "      \n",
              "  <style>\n",
              "    .colab-df-container {\n",
              "      display:flex;\n",
              "      flex-wrap:wrap;\n",
              "      gap: 12px;\n",
              "    }\n",
              "\n",
              "    .colab-df-convert {\n",
              "      background-color: #E8F0FE;\n",
              "      border: none;\n",
              "      border-radius: 50%;\n",
              "      cursor: pointer;\n",
              "      display: none;\n",
              "      fill: #1967D2;\n",
              "      height: 32px;\n",
              "      padding: 0 0 0 0;\n",
              "      width: 32px;\n",
              "    }\n",
              "\n",
              "    .colab-df-convert:hover {\n",
              "      background-color: #E2EBFA;\n",
              "      box-shadow: 0px 1px 2px rgba(60, 64, 67, 0.3), 0px 1px 3px 1px rgba(60, 64, 67, 0.15);\n",
              "      fill: #174EA6;\n",
              "    }\n",
              "\n",
              "    [theme=dark] .colab-df-convert {\n",
              "      background-color: #3B4455;\n",
              "      fill: #D2E3FC;\n",
              "    }\n",
              "\n",
              "    [theme=dark] .colab-df-convert:hover {\n",
              "      background-color: #434B5C;\n",
              "      box-shadow: 0px 1px 3px 1px rgba(0, 0, 0, 0.15);\n",
              "      filter: drop-shadow(0px 1px 2px rgba(0, 0, 0, 0.3));\n",
              "      fill: #FFFFFF;\n",
              "    }\n",
              "  </style>\n",
              "\n",
              "      <script>\n",
              "        const buttonEl =\n",
              "          document.querySelector('#df-a2ac51c0-fd75-422e-9838-3d24c3dc6ec8 button.colab-df-convert');\n",
              "        buttonEl.style.display =\n",
              "          google.colab.kernel.accessAllowed ? 'block' : 'none';\n",
              "\n",
              "        async function convertToInteractive(key) {\n",
              "          const element = document.querySelector('#df-a2ac51c0-fd75-422e-9838-3d24c3dc6ec8');\n",
              "          const dataTable =\n",
              "            await google.colab.kernel.invokeFunction('convertToInteractive',\n",
              "                                                     [key], {});\n",
              "          if (!dataTable) return;\n",
              "\n",
              "          const docLinkHtml = 'Like what you see? Visit the ' +\n",
              "            '<a target=\"_blank\" href=https://colab.research.google.com/notebooks/data_table.ipynb>data table notebook</a>'\n",
              "            + ' to learn more about interactive tables.';\n",
              "          element.innerHTML = '';\n",
              "          dataTable['output_type'] = 'display_data';\n",
              "          await google.colab.output.renderOutput(dataTable, element);\n",
              "          const docLink = document.createElement('div');\n",
              "          docLink.innerHTML = docLinkHtml;\n",
              "          element.appendChild(docLink);\n",
              "        }\n",
              "      </script>\n",
              "    </div>\n",
              "  </div>\n",
              "  "
            ]
          },
          "metadata": {},
          "execution_count": 12
        }
      ],
      "source": [
        "#Carga desde un archivo .xlsx sin indice \n",
        "Consumer_Mit= pd.read_excel('consumer_mit_lift_lab.xlsx')\n",
        "Consumer_Mit.head(5)"
      ]
    },
    {
      "cell_type": "code",
      "source": [
        "#Corroboramos valores nulos \n",
        "valores_nulos=Consumer_Mit.isnull().sum()\n",
        "valores_nulos"
      ],
      "metadata": {
        "colab": {
          "base_uri": "https://localhost:8080/"
        },
        "id": "bcnrwM226oHw",
        "outputId": "ec3dd98d-bf1d-474a-e6b8-bbd4d6201712"
      },
      "execution_count": 15,
      "outputs": [
        {
          "output_type": "execute_result",
          "data": {
            "text/plain": [
              "_record_id                                    0\n",
              "_title                                        0\n",
              "_server_updated_at                            0\n",
              "_updated_by                                   0\n",
              "_geometry                                     0\n",
              "_latitude                                     0\n",
              "_longitude                                    0\n",
              "282_payment_method_that_purchase              0\n",
              "283_fulfill_needs                             0\n",
              "300_did_not_find                            109\n",
              "237_distance_household_interviewee            0\n",
              "299_means_transportation_consumer             0\n",
              "238_frequency_buying_store                    0\n",
              "284_additional_products_store               111\n",
              "301_electricity_bill                          0\n",
              "305_electricity_bill_store                    7\n",
              "302_water_bill                                0\n",
              "306_water_bill_store                          4\n",
              "303_gas_bill                                  0\n",
              "307_gas_bill_store                            3\n",
              "286_topups                                    0\n",
              "308_topups_in_store                          12\n",
              "287_wire_transfers                            0\n",
              "309_wiretransfers_in_store                    2\n",
              "320_other_services_in_store                   0\n",
              "304_additional_services_store                86\n",
              "81_number_online_purchases_month              0\n",
              "288_number_app_purchases_month                0\n",
              "289_number_whatsapp_purchases_month           0\n",
              "83_willingness_ultrafast_delivery             0\n",
              "84_willingness_sameday_delivery               0\n",
              "241_age_of_the_interviewee                    0\n",
              "240_gender_interviewee                        0\n",
              "indicate_the_type_of_store                    0\n",
              "name_of_the_store                             0\n",
              "storefront_picture_just_once_if_possible     11\n",
              "dtype: int64"
            ]
          },
          "metadata": {},
          "execution_count": 15
        }
      ]
    },
    {
      "cell_type": "markdown",
      "source": [
        "**Métodos para sustituir valores nulos **"
      ],
      "metadata": {
        "id": "aX0uY0ewD9jd"
      }
    },
    {
      "cell_type": "code",
      "source": [
        "#Sustituir valores nulos por un str en concreto \n",
        "Consumer_Mit[\"300_did_not_find\"]= Consumer_Mit[\"300_did_not_find\"].fillna(\"y_producto\")\n",
        "#Este método llamado valores por un str en concreto se utilizo para la sustitución de valores nulos en el apartado de 300_did_not_find, ya que son valores de tipo str. "
      ],
      "metadata": {
        "id": "WE0C5MmQ6RER"
      },
      "execution_count": 19,
      "outputs": []
    },
    {
      "cell_type": "code",
      "source": [
        "#Corroboramos valores nulos \n",
        "valores_nulos=Consumer_Mit.isnull().sum()\n",
        "valores_nulos"
      ],
      "metadata": {
        "colab": {
          "base_uri": "https://localhost:8080/"
        },
        "id": "T1h43_vG7MWE",
        "outputId": "3dfd751e-bf82-4904-afe7-9f474143989d"
      },
      "execution_count": 20,
      "outputs": [
        {
          "output_type": "execute_result",
          "data": {
            "text/plain": [
              "_record_id                                    0\n",
              "_title                                        0\n",
              "_server_updated_at                            0\n",
              "_updated_by                                   0\n",
              "_geometry                                     0\n",
              "_latitude                                     0\n",
              "_longitude                                    0\n",
              "282_payment_method_that_purchase              0\n",
              "283_fulfill_needs                             0\n",
              "300_did_not_find                              0\n",
              "237_distance_household_interviewee            0\n",
              "299_means_transportation_consumer             0\n",
              "238_frequency_buying_store                    0\n",
              "284_additional_products_store               111\n",
              "301_electricity_bill                          0\n",
              "305_electricity_bill_store                    7\n",
              "302_water_bill                                0\n",
              "306_water_bill_store                          4\n",
              "303_gas_bill                                  0\n",
              "307_gas_bill_store                            3\n",
              "286_topups                                    0\n",
              "308_topups_in_store                          12\n",
              "287_wire_transfers                            0\n",
              "309_wiretransfers_in_store                    2\n",
              "320_other_services_in_store                   0\n",
              "304_additional_services_store                86\n",
              "81_number_online_purchases_month              0\n",
              "288_number_app_purchases_month                0\n",
              "289_number_whatsapp_purchases_month           0\n",
              "83_willingness_ultrafast_delivery             0\n",
              "84_willingness_sameday_delivery               0\n",
              "241_age_of_the_interviewee                    0\n",
              "240_gender_interviewee                        0\n",
              "indicate_the_type_of_store                    0\n",
              "name_of_the_store                             0\n",
              "storefront_picture_just_once_if_possible     11\n",
              "dtype: int64"
            ]
          },
          "metadata": {},
          "execution_count": 20
        }
      ]
    },
    {
      "cell_type": "code",
      "source": [
        "#Sustituir valores nulos por un str en concreto \n",
        "Consumer_Mit[\"284_additional_products_store\"]= Consumer_Mit[\"284_additional_products_store\"].fillna(\"y_producto_adicional\")\n",
        "#Este método llamado valores por un str en concreto se utilizo para la sustitución de valores nulos en el apartado de 284_additional_products_store , ya que son valores de tipo str. "
      ],
      "metadata": {
        "id": "1j3tui1_8MnB"
      },
      "execution_count": 21,
      "outputs": []
    },
    {
      "cell_type": "code",
      "source": [
        "#Corroboramos valores nulos \n",
        "valores_nulos=Consumer_Mit.isnull().sum()\n",
        "valores_nulos"
      ],
      "metadata": {
        "colab": {
          "base_uri": "https://localhost:8080/"
        },
        "id": "yRBakGEV8ZbV",
        "outputId": "44bdd0a8-fe1d-45c8-a8ac-1f1825212824"
      },
      "execution_count": 22,
      "outputs": [
        {
          "output_type": "execute_result",
          "data": {
            "text/plain": [
              "_record_id                                   0\n",
              "_title                                       0\n",
              "_server_updated_at                           0\n",
              "_updated_by                                  0\n",
              "_geometry                                    0\n",
              "_latitude                                    0\n",
              "_longitude                                   0\n",
              "282_payment_method_that_purchase             0\n",
              "283_fulfill_needs                            0\n",
              "300_did_not_find                             0\n",
              "237_distance_household_interviewee           0\n",
              "299_means_transportation_consumer            0\n",
              "238_frequency_buying_store                   0\n",
              "284_additional_products_store                0\n",
              "301_electricity_bill                         0\n",
              "305_electricity_bill_store                   7\n",
              "302_water_bill                               0\n",
              "306_water_bill_store                         4\n",
              "303_gas_bill                                 0\n",
              "307_gas_bill_store                           3\n",
              "286_topups                                   0\n",
              "308_topups_in_store                         12\n",
              "287_wire_transfers                           0\n",
              "309_wiretransfers_in_store                   2\n",
              "320_other_services_in_store                  0\n",
              "304_additional_services_store               86\n",
              "81_number_online_purchases_month             0\n",
              "288_number_app_purchases_month               0\n",
              "289_number_whatsapp_purchases_month          0\n",
              "83_willingness_ultrafast_delivery            0\n",
              "84_willingness_sameday_delivery              0\n",
              "241_age_of_the_interviewee                   0\n",
              "240_gender_interviewee                       0\n",
              "indicate_the_type_of_store                   0\n",
              "name_of_the_store                            0\n",
              "storefront_picture_just_once_if_possible    11\n",
              "dtype: int64"
            ]
          },
          "metadata": {},
          "execution_count": 22
        }
      ]
    },
    {
      "cell_type": "code",
      "source": [
        "#Sustituir valores nulos por valores no nulos hacia atras \"backward fill\" (\"bfill\")\n",
        "#Filtro por columnas \n",
        "Consumer_Mit[\"305_electricity_bill_store\"]=Consumer_Mit[\"305_electricity_bill_store\"].fillna(method=\"bfill\")\n",
        "#En este apartado se utilizo la sustitución de valores nulos por valores no nulos hacía atras \"backward\", rellenando los valores nulos con los str que se encuentran atrás del valor nulo."
      ],
      "metadata": {
        "id": "7mZD4_B08pbn"
      },
      "execution_count": 23,
      "outputs": []
    },
    {
      "cell_type": "code",
      "source": [
        "#Corroboramos valores nulos \n",
        "valores_nulos=Consumer_Mit.isnull().sum()\n",
        "valores_nulos"
      ],
      "metadata": {
        "colab": {
          "base_uri": "https://localhost:8080/"
        },
        "id": "Qc1LxXlk9b8E",
        "outputId": "b1c2d790-65b5-4356-cf92-9f1f6bf7c818"
      },
      "execution_count": 24,
      "outputs": [
        {
          "output_type": "execute_result",
          "data": {
            "text/plain": [
              "_record_id                                   0\n",
              "_title                                       0\n",
              "_server_updated_at                           0\n",
              "_updated_by                                  0\n",
              "_geometry                                    0\n",
              "_latitude                                    0\n",
              "_longitude                                   0\n",
              "282_payment_method_that_purchase             0\n",
              "283_fulfill_needs                            0\n",
              "300_did_not_find                             0\n",
              "237_distance_household_interviewee           0\n",
              "299_means_transportation_consumer            0\n",
              "238_frequency_buying_store                   0\n",
              "284_additional_products_store                0\n",
              "301_electricity_bill                         0\n",
              "305_electricity_bill_store                   0\n",
              "302_water_bill                               0\n",
              "306_water_bill_store                         4\n",
              "303_gas_bill                                 0\n",
              "307_gas_bill_store                           3\n",
              "286_topups                                   0\n",
              "308_topups_in_store                         12\n",
              "287_wire_transfers                           0\n",
              "309_wiretransfers_in_store                   2\n",
              "320_other_services_in_store                  0\n",
              "304_additional_services_store               86\n",
              "81_number_online_purchases_month             0\n",
              "288_number_app_purchases_month               0\n",
              "289_number_whatsapp_purchases_month          0\n",
              "83_willingness_ultrafast_delivery            0\n",
              "84_willingness_sameday_delivery              0\n",
              "241_age_of_the_interviewee                   0\n",
              "240_gender_interviewee                       0\n",
              "indicate_the_type_of_store                   0\n",
              "name_of_the_store                            0\n",
              "storefront_picture_just_once_if_possible    11\n",
              "dtype: int64"
            ]
          },
          "metadata": {},
          "execution_count": 24
        }
      ]
    },
    {
      "cell_type": "code",
      "source": [
        "#Sustituir valores nulos por valores no nulos hacia adelante \"forward fill\" (\"ffill\")\n",
        "#Filtro por columnas \n",
        "Consumer_Mit[\"306_water_bill_store\"]=Consumer_Mit[\"306_water_bill_store\"].fillna(method=\"ffill\")\n",
        "#En este apartado se utilizo la sustitución de valores nulos por valores no nulos hacía adelante \"forward\", rellenando los valores nulos con los str que se encuentran adelante del valor nulo."
      ],
      "metadata": {
        "id": "90jccvC2-NbF"
      },
      "execution_count": 25,
      "outputs": []
    },
    {
      "cell_type": "code",
      "source": [
        "#Corroboramos valores nulos \n",
        "valores_nulos=Consumer_Mit.isnull().sum()\n",
        "valores_nulos"
      ],
      "metadata": {
        "colab": {
          "base_uri": "https://localhost:8080/"
        },
        "id": "pKpuY-vN-68x",
        "outputId": "7e85dae1-4475-4108-f3a0-f7920aa392a0"
      },
      "execution_count": 26,
      "outputs": [
        {
          "output_type": "execute_result",
          "data": {
            "text/plain": [
              "_record_id                                   0\n",
              "_title                                       0\n",
              "_server_updated_at                           0\n",
              "_updated_by                                  0\n",
              "_geometry                                    0\n",
              "_latitude                                    0\n",
              "_longitude                                   0\n",
              "282_payment_method_that_purchase             0\n",
              "283_fulfill_needs                            0\n",
              "300_did_not_find                             0\n",
              "237_distance_household_interviewee           0\n",
              "299_means_transportation_consumer            0\n",
              "238_frequency_buying_store                   0\n",
              "284_additional_products_store                0\n",
              "301_electricity_bill                         0\n",
              "305_electricity_bill_store                   0\n",
              "302_water_bill                               0\n",
              "306_water_bill_store                         0\n",
              "303_gas_bill                                 0\n",
              "307_gas_bill_store                           3\n",
              "286_topups                                   0\n",
              "308_topups_in_store                         12\n",
              "287_wire_transfers                           0\n",
              "309_wiretransfers_in_store                   2\n",
              "320_other_services_in_store                  0\n",
              "304_additional_services_store               86\n",
              "81_number_online_purchases_month             0\n",
              "288_number_app_purchases_month               0\n",
              "289_number_whatsapp_purchases_month          0\n",
              "83_willingness_ultrafast_delivery            0\n",
              "84_willingness_sameday_delivery              0\n",
              "241_age_of_the_interviewee                   0\n",
              "240_gender_interviewee                       0\n",
              "indicate_the_type_of_store                   0\n",
              "name_of_the_store                            0\n",
              "storefront_picture_just_once_if_possible    11\n",
              "dtype: int64"
            ]
          },
          "metadata": {},
          "execution_count": 26
        }
      ]
    },
    {
      "cell_type": "code",
      "source": [
        "#Sustituir valores nulos por valores no nulos hacia atras \"backward fill\" (\"bfill\")\n",
        "#Filtro por columnas \n",
        "Consumer_Mit[\"307_gas_bill_store\"]=Consumer_Mit[\"307_gas_bill_store\"].fillna(method=\"bfill\")\n",
        "#En este apartado se utilizo la sustitución de valores nulos por valores no nulos hacía atras \"backward\", rellenando los valores nulos con los str que se encuentran atrás del valor nulo."
      ],
      "metadata": {
        "id": "47cu-gez_Km5"
      },
      "execution_count": 27,
      "outputs": []
    },
    {
      "cell_type": "code",
      "source": [
        "#Corroboramos valores nulos \n",
        "valores_nulos=Consumer_Mit.isnull().sum()\n",
        "valores_nulos"
      ],
      "metadata": {
        "colab": {
          "base_uri": "https://localhost:8080/"
        },
        "id": "SJv1bxm5_gI9",
        "outputId": "5d00099c-8dc5-4f6f-8a1c-d8a1d6a052fd"
      },
      "execution_count": 28,
      "outputs": [
        {
          "output_type": "execute_result",
          "data": {
            "text/plain": [
              "_record_id                                   0\n",
              "_title                                       0\n",
              "_server_updated_at                           0\n",
              "_updated_by                                  0\n",
              "_geometry                                    0\n",
              "_latitude                                    0\n",
              "_longitude                                   0\n",
              "282_payment_method_that_purchase             0\n",
              "283_fulfill_needs                            0\n",
              "300_did_not_find                             0\n",
              "237_distance_household_interviewee           0\n",
              "299_means_transportation_consumer            0\n",
              "238_frequency_buying_store                   0\n",
              "284_additional_products_store                0\n",
              "301_electricity_bill                         0\n",
              "305_electricity_bill_store                   0\n",
              "302_water_bill                               0\n",
              "306_water_bill_store                         0\n",
              "303_gas_bill                                 0\n",
              "307_gas_bill_store                           0\n",
              "286_topups                                   0\n",
              "308_topups_in_store                         12\n",
              "287_wire_transfers                           0\n",
              "309_wiretransfers_in_store                   2\n",
              "320_other_services_in_store                  0\n",
              "304_additional_services_store               86\n",
              "81_number_online_purchases_month             0\n",
              "288_number_app_purchases_month               0\n",
              "289_number_whatsapp_purchases_month          0\n",
              "83_willingness_ultrafast_delivery            0\n",
              "84_willingness_sameday_delivery              0\n",
              "241_age_of_the_interviewee                   0\n",
              "240_gender_interviewee                       0\n",
              "indicate_the_type_of_store                   0\n",
              "name_of_the_store                            0\n",
              "storefront_picture_just_once_if_possible    11\n",
              "dtype: int64"
            ]
          },
          "metadata": {},
          "execution_count": 28
        }
      ]
    },
    {
      "cell_type": "code",
      "source": [
        "#Sustituir valores nulos por valores no nulos hacia adelante \"forward fill\" (\"ffill\")\n",
        "#Filtro por columnas \n",
        "Consumer_Mit[\"308_topups_in_store\"]=Consumer_Mit[\"308_topups_in_store\"].fillna(method=\"ffill\")\n",
        "#En este apartado se utilizo la sustitución de valores nulos por valores no nulos hacía adelante \"forward\", rellenando los valores nulos con los str que se encuentran adelante del valor nulo."
      ],
      "metadata": {
        "id": "S2KvcHZq_vA0"
      },
      "execution_count": 29,
      "outputs": []
    },
    {
      "cell_type": "code",
      "source": [
        "#Corroboramos valores nulos \n",
        "valores_nulos=Consumer_Mit.isnull().sum()\n",
        "valores_nulos"
      ],
      "metadata": {
        "colab": {
          "base_uri": "https://localhost:8080/"
        },
        "id": "P1IXjd9WAXXF",
        "outputId": "efe1419c-95c5-4dc3-e1b1-7b502b34d7a5"
      },
      "execution_count": 30,
      "outputs": [
        {
          "output_type": "execute_result",
          "data": {
            "text/plain": [
              "_record_id                                   0\n",
              "_title                                       0\n",
              "_server_updated_at                           0\n",
              "_updated_by                                  0\n",
              "_geometry                                    0\n",
              "_latitude                                    0\n",
              "_longitude                                   0\n",
              "282_payment_method_that_purchase             0\n",
              "283_fulfill_needs                            0\n",
              "300_did_not_find                             0\n",
              "237_distance_household_interviewee           0\n",
              "299_means_transportation_consumer            0\n",
              "238_frequency_buying_store                   0\n",
              "284_additional_products_store                0\n",
              "301_electricity_bill                         0\n",
              "305_electricity_bill_store                   0\n",
              "302_water_bill                               0\n",
              "306_water_bill_store                         0\n",
              "303_gas_bill                                 0\n",
              "307_gas_bill_store                           0\n",
              "286_topups                                   0\n",
              "308_topups_in_store                          0\n",
              "287_wire_transfers                           0\n",
              "309_wiretransfers_in_store                   2\n",
              "320_other_services_in_store                  0\n",
              "304_additional_services_store               86\n",
              "81_number_online_purchases_month             0\n",
              "288_number_app_purchases_month               0\n",
              "289_number_whatsapp_purchases_month          0\n",
              "83_willingness_ultrafast_delivery            0\n",
              "84_willingness_sameday_delivery              0\n",
              "241_age_of_the_interviewee                   0\n",
              "240_gender_interviewee                       0\n",
              "indicate_the_type_of_store                   0\n",
              "name_of_the_store                            0\n",
              "storefront_picture_just_once_if_possible    11\n",
              "dtype: int64"
            ]
          },
          "metadata": {},
          "execution_count": 30
        }
      ]
    },
    {
      "cell_type": "code",
      "source": [
        "#Sustituir valores nulos por un str en concreto \n",
        "Consumer_Mit[\"309_wiretransfers_in_store\"]= Consumer_Mit[\"309_wiretransfers_in_store\"].fillna(\"no\")\n",
        "#Este método llamado valores por un str en concreto se utilizo para la sustitución de valores nulos en el apartado de 309_wiretransfers_in_store, ya que son valores de tipo str y se reemplazaron por un \"no\" "
      ],
      "metadata": {
        "id": "iqcTGQZuAc_7"
      },
      "execution_count": 31,
      "outputs": []
    },
    {
      "cell_type": "code",
      "source": [
        "#Corroboramos valores nulos \n",
        "valores_nulos=Consumer_Mit.isnull().sum()\n",
        "valores_nulos"
      ],
      "metadata": {
        "colab": {
          "base_uri": "https://localhost:8080/"
        },
        "id": "UE_IYlp4A8ud",
        "outputId": "cfdbb0a9-dc62-4f14-c581-b850d4aab197"
      },
      "execution_count": 32,
      "outputs": [
        {
          "output_type": "execute_result",
          "data": {
            "text/plain": [
              "_record_id                                   0\n",
              "_title                                       0\n",
              "_server_updated_at                           0\n",
              "_updated_by                                  0\n",
              "_geometry                                    0\n",
              "_latitude                                    0\n",
              "_longitude                                   0\n",
              "282_payment_method_that_purchase             0\n",
              "283_fulfill_needs                            0\n",
              "300_did_not_find                             0\n",
              "237_distance_household_interviewee           0\n",
              "299_means_transportation_consumer            0\n",
              "238_frequency_buying_store                   0\n",
              "284_additional_products_store                0\n",
              "301_electricity_bill                         0\n",
              "305_electricity_bill_store                   0\n",
              "302_water_bill                               0\n",
              "306_water_bill_store                         0\n",
              "303_gas_bill                                 0\n",
              "307_gas_bill_store                           0\n",
              "286_topups                                   0\n",
              "308_topups_in_store                          0\n",
              "287_wire_transfers                           0\n",
              "309_wiretransfers_in_store                   0\n",
              "320_other_services_in_store                  0\n",
              "304_additional_services_store               86\n",
              "81_number_online_purchases_month             0\n",
              "288_number_app_purchases_month               0\n",
              "289_number_whatsapp_purchases_month          0\n",
              "83_willingness_ultrafast_delivery            0\n",
              "84_willingness_sameday_delivery              0\n",
              "241_age_of_the_interviewee                   0\n",
              "240_gender_interviewee                       0\n",
              "indicate_the_type_of_store                   0\n",
              "name_of_the_store                            0\n",
              "storefront_picture_just_once_if_possible    11\n",
              "dtype: int64"
            ]
          },
          "metadata": {},
          "execution_count": 32
        }
      ]
    },
    {
      "cell_type": "code",
      "source": [
        "#Sustituir valores nulos por un str en concreto \n",
        "Consumer_Mit[\"304_additional_services_store\"]= Consumer_Mit[\"304_additional_services_store\"].fillna(\"y_servicio_adicional\")\n",
        "#Este método llamado valores por un str en concreto se utilizo para la sustitución de valores nulos en el apartado de 304_additional_services_store, ya que son valores de tipo str. "
      ],
      "metadata": {
        "id": "IUR8g6m1Btag"
      },
      "execution_count": 34,
      "outputs": []
    },
    {
      "cell_type": "code",
      "source": [
        "#Corroboramos valores nulos \n",
        "valores_nulos=Consumer_Mit.isnull().sum()\n",
        "valores_nulos"
      ],
      "metadata": {
        "colab": {
          "base_uri": "https://localhost:8080/"
        },
        "id": "CTCUmtYpCVOq",
        "outputId": "189fa451-806c-436c-bd3f-37e3f8b864e5"
      },
      "execution_count": 35,
      "outputs": [
        {
          "output_type": "execute_result",
          "data": {
            "text/plain": [
              "_record_id                                   0\n",
              "_title                                       0\n",
              "_server_updated_at                           0\n",
              "_updated_by                                  0\n",
              "_geometry                                    0\n",
              "_latitude                                    0\n",
              "_longitude                                   0\n",
              "282_payment_method_that_purchase             0\n",
              "283_fulfill_needs                            0\n",
              "300_did_not_find                             0\n",
              "237_distance_household_interviewee           0\n",
              "299_means_transportation_consumer            0\n",
              "238_frequency_buying_store                   0\n",
              "284_additional_products_store                0\n",
              "301_electricity_bill                         0\n",
              "305_electricity_bill_store                   0\n",
              "302_water_bill                               0\n",
              "306_water_bill_store                         0\n",
              "303_gas_bill                                 0\n",
              "307_gas_bill_store                           0\n",
              "286_topups                                   0\n",
              "308_topups_in_store                          0\n",
              "287_wire_transfers                           0\n",
              "309_wiretransfers_in_store                   0\n",
              "320_other_services_in_store                  0\n",
              "304_additional_services_store                0\n",
              "81_number_online_purchases_month             0\n",
              "288_number_app_purchases_month               0\n",
              "289_number_whatsapp_purchases_month          0\n",
              "83_willingness_ultrafast_delivery            0\n",
              "84_willingness_sameday_delivery              0\n",
              "241_age_of_the_interviewee                   0\n",
              "240_gender_interviewee                       0\n",
              "indicate_the_type_of_store                   0\n",
              "name_of_the_store                            0\n",
              "storefront_picture_just_once_if_possible    11\n",
              "dtype: int64"
            ]
          },
          "metadata": {},
          "execution_count": 35
        }
      ]
    },
    {
      "cell_type": "code",
      "source": [
        "#Sustituir valores nulos por un str en concreto \n",
        "Consumer_Mit[\"storefront_picture_just_once_if_possible\"]= Consumer_Mit[\"storefront_picture_just_once_if_possible\"].fillna(\"no_photo\")\n",
        "#Este método llamado valores por un str en concreto se utilizo para la sustitución de valores nulos en el apartado de storefront_picture_just_once_if_possible, ya que son valores de tipo str. Se sustituyo po la palabra no_photo."
      ],
      "metadata": {
        "id": "CLN2vsIJCtbJ"
      },
      "execution_count": 36,
      "outputs": []
    },
    {
      "cell_type": "code",
      "source": [
        "#Corroboramos valores nulos \n",
        "valores_nulos=Consumer_Mit.isnull().sum()\n",
        "valores_nulos"
      ],
      "metadata": {
        "colab": {
          "base_uri": "https://localhost:8080/"
        },
        "id": "m0huxUURDE87",
        "outputId": "fc498cc9-75e2-47ec-ecc4-6ae3778e578b"
      },
      "execution_count": 37,
      "outputs": [
        {
          "output_type": "execute_result",
          "data": {
            "text/plain": [
              "_record_id                                  0\n",
              "_title                                      0\n",
              "_server_updated_at                          0\n",
              "_updated_by                                 0\n",
              "_geometry                                   0\n",
              "_latitude                                   0\n",
              "_longitude                                  0\n",
              "282_payment_method_that_purchase            0\n",
              "283_fulfill_needs                           0\n",
              "300_did_not_find                            0\n",
              "237_distance_household_interviewee          0\n",
              "299_means_transportation_consumer           0\n",
              "238_frequency_buying_store                  0\n",
              "284_additional_products_store               0\n",
              "301_electricity_bill                        0\n",
              "305_electricity_bill_store                  0\n",
              "302_water_bill                              0\n",
              "306_water_bill_store                        0\n",
              "303_gas_bill                                0\n",
              "307_gas_bill_store                          0\n",
              "286_topups                                  0\n",
              "308_topups_in_store                         0\n",
              "287_wire_transfers                          0\n",
              "309_wiretransfers_in_store                  0\n",
              "320_other_services_in_store                 0\n",
              "304_additional_services_store               0\n",
              "81_number_online_purchases_month            0\n",
              "288_number_app_purchases_month              0\n",
              "289_number_whatsapp_purchases_month         0\n",
              "83_willingness_ultrafast_delivery           0\n",
              "84_willingness_sameday_delivery             0\n",
              "241_age_of_the_interviewee                  0\n",
              "240_gender_interviewee                      0\n",
              "indicate_the_type_of_store                  0\n",
              "name_of_the_store                           0\n",
              "storefront_picture_just_once_if_possible    0\n",
              "dtype: int64"
            ]
          },
          "metadata": {},
          "execution_count": 37
        }
      ]
    },
    {
      "cell_type": "code",
      "source": [
        "#Corroboramos valores nulos \n",
        "valores_nulos=Consumer_Mit.isnull().sum().sum()\n",
        "valores_nulos"
      ],
      "metadata": {
        "colab": {
          "base_uri": "https://localhost:8080/"
        },
        "id": "G6SjabDtD0Y8",
        "outputId": "93c2a92e-37e5-417c-df82-c22e3c453eae"
      },
      "execution_count": 38,
      "outputs": [
        {
          "output_type": "execute_result",
          "data": {
            "text/plain": [
              "0"
            ]
          },
          "metadata": {},
          "execution_count": 38
        }
      ]
    },
    {
      "cell_type": "markdown",
      "source": [
        "Métodos para sustituir outliers (Desviación estandar)"
      ],
      "metadata": {
        "id": "8JtzjYXLEHLU"
      }
    },
    {
      "cell_type": "code",
      "source": [
        "#Realizamos diagrama de caja o bigote de cada columna del dataframe \n",
        "fig = plt.figure(figsize =(15, 8))\n",
        "Consumer_Mit.plot(kind='box', vert=False)\n",
        "plt.title(\"Valores Atípicos del Dataframe\")\n",
        "plt.show() #Dibujamos el diagrama"
      ],
      "metadata": {
        "colab": {
          "base_uri": "https://localhost:8080/",
          "height": 298
        },
        "id": "NuJhSVKwEO4q",
        "outputId": "77043107-8430-481c-a952-724a50bf77fe"
      },
      "execution_count": 43,
      "outputs": [
        {
          "output_type": "display_data",
          "data": {
            "text/plain": [
              "<Figure size 1080x576 with 0 Axes>"
            ]
          },
          "metadata": {}
        },
        {
          "output_type": "display_data",
          "data": {
            "text/plain": [
              "<Figure size 432x288 with 1 Axes>"
            ],
            "image/png": "[encoded data removed]"
          },
          "metadata": {
            "needs_background": "light"
          }
        }
      ]
    },
    {
      "cell_type": "code",
      "source": [
        "#Método aplicando desviación estandar. Encuentro los valores extremos \n",
        "y=Consumer_Mit[\"241_age_of_the_interviewee\"]\n",
        "Limite_Superior= y.mean() + 3*y.std()\n",
        "Limite_Inferior= y.mean() - 3*y.std()\n",
        "print(\"Limite superior permitido\", Limite_Superior)\n",
        "print(\"Limite inferior permitido\", Limite_Inferior)"
      ],
      "metadata": {
        "colab": {
          "base_uri": "https://localhost:8080/"
        },
        "id": "FOfuY4jJJTlC",
        "outputId": "70d5b73d-a749-40ee-a3bf-19f136ba02aa"
      },
      "execution_count": 48,
      "outputs": [
        {
          "output_type": "stream",
          "name": "stdout",
          "text": [
            "Limite superior permitido 72.24935911243217\n",
            "Limite inferior permitido -12.07544606895392\n"
          ]
        }
      ]
    },
    {
      "cell_type": "code",
      "source": [
        "#Encontramos Ouliers \n",
        "outliers=Consumer_Mit[(y>Limite_Superior) | (y<Limite_Inferior)]\n",
        "outliers"
      ],
      "metadata": {
        "id": "28SUCcbqJlBa"
      },
      "execution_count": null,
      "outputs": []
    },
    {
      "cell_type": "code",
      "source": [
        "#Obtenemos datos limpios \n",
        "data_clean=Consumer_Mit[(y<=Limite_Superior) & (y>Limite_Inferior)]\n",
        "data_clean"
      ],
      "metadata": {
        "id": "eRE4cG27Jo7E"
      },
      "execution_count": null,
      "outputs": []
    },
    {
      "cell_type": "code",
      "source": [
        "#Realizamos diagrama de caja o bigote \n",
        "fig = plt.figure(figsize =(10, 6))\n",
        "plt.boxplot(data_clean[\"241_age_of_the_interviewee\"])\n",
        "plt.title(\"Outliers de Precio Venta\")\n",
        "plt.show() # Dibujamos el diagrama"
      ],
      "metadata": {
        "colab": {
          "base_uri": "https://localhost:8080/",
          "height": 390
        },
        "id": "TZ0Dtz8pJvhJ",
        "outputId": "e37d76a3-e40e-42b6-d996-9ccebf042820"
      },
      "execution_count": 51,
      "outputs": [
        {
          "output_type": "display_data",
          "data": {
            "text/plain": [
              "<Figure size 720x432 with 1 Axes>"
            ],
            "image/png": "[encoded data removed]"
          },
          "metadata": {
            "needs_background": "light"
          }
        }
      ]
    },
    {
      "cell_type": "code",
      "source": [
        "#Realizamos una copia del dataframe \n",
        "Consumer_Mit= data_clean.copy()"
      ],
      "metadata": {
        "id": "Fn76KNhIK62U"
      },
      "execution_count": 52,
      "outputs": []
    },
    {
      "cell_type": "markdown",
      "source": [
        "Método de IQR ( Rango Inter Quartilico )"
      ],
      "metadata": {
        "id": "RjZ8kDjLN9ER"
      }
    },
    {
      "cell_type": "code",
      "source": [
        "#Metodo aplicando Cuartiles. Encuentro cuartiles 0.25 y 0.75\n",
        "y=Consumer_Mit[\"84_willingness_sameday_delivery\"]\n",
        "\n",
        "percentile25=y.quantile(0.25) #Q1\n",
        "percentile75=y.quantile(0.75) #Q3\n",
        "iqr= percentile75 - percentile25\n",
        "\n",
        "Limite_Superior_iqr= percentile75 + 1.5*iqr\n",
        "Limite_Inferior_iqr =percentile25 - 1.5*iqr\n",
        "print(\"Limite superior permitido\", Limite_Superior_iqr)\n",
        "print(\"Limite inferior permitido\", Limite_Inferior_iqr)"
      ],
      "metadata": {
        "colab": {
          "base_uri": "https://localhost:8080/"
        },
        "id": "HNLsTVlxLYl2",
        "outputId": "030445ea-55e0-411b-d420-61569dcacbcf"
      },
      "execution_count": 54,
      "outputs": [
        {
          "output_type": "stream",
          "name": "stdout",
          "text": [
            "Limite superior permitido 233.125\n",
            "Limite inferior permitido -121.875\n"
          ]
        }
      ]
    },
    {
      "cell_type": "code",
      "source": [
        "#Encomntramos Ouliers \n",
        "ouliers_iqr=Consumer_Mit[(y>Limite_Superior_iqr) | (y<Limite_Inferior_iqr)]\n",
        "ouliers_iqr"
      ],
      "metadata": {
        "id": "bBWtslqlM4Nu"
      },
      "execution_count": null,
      "outputs": []
    },
    {
      "cell_type": "code",
      "source": [
        "#Obtenemos datos limpios \n",
        "data_clean_iqr=Consumer_Mit[(y<=Limite_Superior_iqr) & (y>=Limite_Inferior_iqr)]\n",
        "data_clean_iqr"
      ],
      "metadata": {
        "id": "T6JHPaPPM9dM"
      },
      "execution_count": null,
      "outputs": []
    },
    {
      "cell_type": "code",
      "source": [
        "#Realizamos diagrama de caja o bigote \n",
        "fig = plt.figure(figsize =(5, 3))\n",
        "plt.boxplot(data_clean_iqr[\"84_willingness_sameday_delivery\"])\n",
        "plt.title(\"Outliers de Precio Venta\")\n",
        "plt.show() # Dibujamos el diagrama"
      ],
      "metadata": {
        "colab": {
          "base_uri": "https://localhost:8080/",
          "height": 227
        },
        "id": "lx0mgc3pNEpL",
        "outputId": "7b1b3337-551a-406c-c975-0dbe847297b1"
      },
      "execution_count": 59,
      "outputs": [
        {
          "output_type": "display_data",
          "data": {
            "text/plain": [
              "<Figure size 360x216 with 1 Axes>"
            ],
            "image/png": "[encoded data removed]"
          },
          "metadata": {
            "needs_background": "light"
          }
        }
      ]
    },
    {
      "cell_type": "markdown",
      "source": [
        "Método Mean "
      ],
      "metadata": {
        "id": "qYq48u7qN-tA"
      }
    },
    {
      "cell_type": "code",
      "source": [
        "#Realizamos una copia del dataframe \n",
        "Consumer_Mit2= data_clean_iqr.copy()"
      ],
      "metadata": {
        "id": "fJe56VqRObuC"
      },
      "execution_count": 61,
      "outputs": []
    },
    {
      "cell_type": "code",
      "source": [
        "#Reemplazamos valores atipicos (nulos) del dataframe con \"mean\"\n",
        "Consumer_Mit3_iqr=Consumer_Mit2.fillna(round(Consumer_Mit2.mean(),1))\n",
        "Consumer_Mit3_iqr"
      ],
      "metadata": {
        "id": "kTXtap-0PLb5"
      },
      "execution_count": null,
      "outputs": []
    },
    {
      "cell_type": "code",
      "source": [
        "#Realizamos diagrama de caja o bigote de cada columna del dataframe \n",
        "fig = plt.figure(figsize =(15, 8))\n",
        "Consumer_Mit3_iqr.plot(kind='box', vert=False)\n",
        "plt.title(\"Valores Atípicos del Dataframe\")\n",
        "plt.show() #Dibujamos el diagrama"
      ],
      "metadata": {
        "colab": {
          "base_uri": "https://localhost:8080/",
          "height": 298
        },
        "id": "wGF6V3X2Qk8_",
        "outputId": "87024068-2fa8-42a4-9123-9191a5e332b7"
      },
      "execution_count": 70,
      "outputs": [
        {
          "output_type": "display_data",
          "data": {
            "text/plain": [
              "<Figure size 1080x576 with 0 Axes>"
            ]
          },
          "metadata": {}
        },
        {
          "output_type": "display_data",
          "data": {
            "text/plain": [
              "<Figure size 432x288 with 1 Axes>"
            ],
            "image/png": "[encoded data removed]"
          },
          "metadata": {
            "needs_background": "light"
          }
        }
      ]
    },
    {
      "cell_type": "code",
      "source": [
        "#Corroboramos valores nulos \n",
        "valores_nulos=Consumer_Mit3_iqr.isnull().sum()\n",
        "valores_nulos"
      ],
      "metadata": {
        "colab": {
          "base_uri": "https://localhost:8080/"
        },
        "id": "q_q8hPcYROrj",
        "outputId": "20e28fd1-0ee8-4ccb-c01b-852660c6c730"
      },
      "execution_count": 72,
      "outputs": [
        {
          "output_type": "execute_result",
          "data": {
            "text/plain": [
              "_record_id                                  0\n",
              "_title                                      0\n",
              "_server_updated_at                          0\n",
              "_updated_by                                 0\n",
              "_geometry                                   0\n",
              "_latitude                                   0\n",
              "_longitude                                  0\n",
              "282_payment_method_that_purchase            0\n",
              "283_fulfill_needs                           0\n",
              "300_did_not_find                            0\n",
              "237_distance_household_interviewee          0\n",
              "299_means_transportation_consumer           0\n",
              "238_frequency_buying_store                  0\n",
              "284_additional_products_store               0\n",
              "301_electricity_bill                        0\n",
              "305_electricity_bill_store                  0\n",
              "302_water_bill                              0\n",
              "306_water_bill_store                        0\n",
              "303_gas_bill                                0\n",
              "307_gas_bill_store                          0\n",
              "286_topups                                  0\n",
              "308_topups_in_store                         0\n",
              "287_wire_transfers                          0\n",
              "309_wiretransfers_in_store                  0\n",
              "320_other_services_in_store                 0\n",
              "304_additional_services_store               0\n",
              "81_number_online_purchases_month            0\n",
              "288_number_app_purchases_month              0\n",
              "289_number_whatsapp_purchases_month         0\n",
              "83_willingness_ultrafast_delivery           0\n",
              "84_willingness_sameday_delivery             0\n",
              "241_age_of_the_interviewee                  0\n",
              "240_gender_interviewee                      0\n",
              "indicate_the_type_of_store                  0\n",
              "name_of_the_store                           0\n",
              "storefront_picture_just_once_if_possible    0\n",
              "dtype: int64"
            ]
          },
          "metadata": {},
          "execution_count": 72
        }
      ]
    },
    {
      "cell_type": "markdown",
      "source": [
        "Descargar DataFrame"
      ],
      "metadata": {
        "id": "V45mYUtZRijc"
      }
    },
    {
      "cell_type": "code",
      "source": [
        "#Convertir DataFrame a CSV \n",
        "Consumer_Mit3_iqr.to_csv(\"Consumer_Mit_sin_nulos.csv\")"
      ],
      "metadata": {
        "id": "b9-QWW2NRmNg"
      },
      "execution_count": 74,
      "outputs": []
    },
    {
      "cell_type": "code",
      "source": [
        "#Descargar archivo filtrado en csv \n",
        "from google.colab import files \n",
        "\n",
        "files.download(\"Consumer_Mit_sin_nulos.csv\")"
      ],
      "metadata": {
        "colab": {
          "base_uri": "https://localhost:8080/",
          "height": 17
        },
        "id": "HN6MmnswSQsC",
        "outputId": "a6312357-e58e-4b63-e32e-524def2f19aa"
      },
      "execution_count": 75,
      "outputs": [
        {
          "output_type": "display_data",
          "data": {
            "text/plain": [
              "<IPython.core.display.Javascript object>"
            ],
            "application/javascript": [
              "\n",
              "    async function download(id, filename, size) {\n",
              "      if (!google.colab.kernel.accessAllowed) {\n",
              "        return;\n",
              "      }\n",
              "      const div = document.createElement('div');\n",
              "      const label = document.createElement('label');\n",
              "      label.textContent = `Downloading \"${filename}\": `;\n",
              "      div.appendChild(label);\n",
              "      const progress = document.createElement('progress');\n",
              "      progress.max = size;\n",
              "      div.appendChild(progress);\n",
              "      document.body.appendChild(div);\n",
              "\n",
              "      const buffers = [];\n",
              "      let downloaded = 0;\n",
              "\n",
              "      const channel = await google.colab.kernel.comms.open(id);\n",
              "      // Send a message to notify the kernel that we're ready.\n",
              "      channel.send({})\n",
              "\n",
              "      for await (const message of channel.messages) {\n",
              "        // Send a message to notify the kernel that we're ready.\n",
              "        channel.send({})\n",
              "        if (message.buffers) {\n",
              "          for (const buffer of message.buffers) {\n",
              "            buffers.push(buffer);\n",
              "            downloaded += buffer.byteLength;\n",
              "            progress.value = downloaded;\n",
              "          }\n",
              "        }\n",
              "      }\n",
              "      const blob = new Blob(buffers, {type: 'application/binary'});\n",
              "      const a = document.createElement('a');\n",
              "      a.href = window.URL.createObjectURL(blob);\n",
              "      a.download = filename;\n",
              "      div.appendChild(a);\n",
              "      a.click();\n",
              "      div.remove();\n",
              "    }\n",
              "  "
            ]
          },
          "metadata": {}
        },
        {
          "output_type": "display_data",
          "data": {
            "text/plain": [
              "<IPython.core.display.Javascript object>"
            ],
            "application/javascript": [
              "download(\"download_c2fd97ce-e115-4221-a50b-3a4d539a4be8\", \"Consumer_Mit_sin_nulos.csv\", 53956)"
            ]
          },
          "metadata": {}
        }
      ]
    }
  ],
  "metadata": {
    "colab": {
      "provenance": [],
      "authorship_tag": "ABX9TyO6hno8Yt++Gb4PwbPj0hzL",
      "include_colab_link": true
    },
    "kernelspec": {
      "display_name": "Python 3",
      "name": "python3"
    },
    "language_info": {
      "name": "python"
    }
  },
  "nbformat": 4,
  "nbformat_minor": 0
}