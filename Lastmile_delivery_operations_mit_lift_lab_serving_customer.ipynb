{
  "nbformat": 4,
  "nbformat_minor": 0,
  "metadata": {
    "colab": {
      "provenance": [],
      "authorship_tag": "ABX9TyPYZOvgObekeRtz+Aam8RN3",
      "include_colab_link": true
    },
    "kernelspec": {
      "name": "python3",
      "display_name": "Python 3"
    },
    "language_info": {
      "name": "python"
    }
  },
  "cells": [
    {
      "cell_type": "markdown",
      "metadata": {
        "id": "view-in-github",
        "colab_type": "text"
      },
      "source": [
        "<a href=\"https://colab.research.google.com/github/Whiteomi/Examen1/blob/main/Lastmile_delivery_operations_mit_lift_lab_serving_customer.ipynb\" target=\"_parent\"><img src=\"https://colab.research.google.com/assets/colab-badge.svg\" alt=\"Open In Colab\"/></a>"
      ]
    },
    {
      "cell_type": "code",
      "execution_count": null,
      "metadata": {
        "id": "G_9VMkrQM_ee"
      },
      "outputs": [],
      "source": [
        "#Importamos librerias requeridas\n",
        "import pandas as pd \n",
        "import numpy as np \n",
        "import matplotlib.pyplot as  plt"
      ]
    },
    {
      "cell_type": "code",
      "source": [
        "#Cargar archivo csv desde seaborn\n",
        "from google.colab import files \n",
        "files.upload()"
      ],
      "metadata": {
        "id": "2bENUiEAODIr"
      },
      "execution_count": null,
      "outputs": []
    },
    {
      "cell_type": "code",
      "source": [
        "#Carga desde un archivo .csv sin indice \n",
        "data = pd.read_csv('lastmile_delivery_operations_mit_lift_lab_serving_customer.csv')\n",
        "data.head(5)"
      ],
      "metadata": {
        "id": "6rCAAg68OK1s"
      },
      "execution_count": null,
      "outputs": []
    },
    {
      "cell_type": "code",
      "source": [
        "#Identificar valores nulos por columna \n",
        "valores_nulos=data.isnull().sum()\n",
        "valores_nulos"
      ],
      "metadata": {
        "colab": {
          "base_uri": "https://localhost:8080/"
        },
        "id": "A0w_XX2bOXPx",
        "outputId": "659fcc85-411e-440a-e643-12902839c826"
      },
      "execution_count": null,
      "outputs": [
        {
          "output_type": "execute_result",
          "data": {
            "text/plain": [
              "_child_record_id                           0\n",
              "_record_id                                 0\n",
              "_parent_id                                 0\n",
              "_title                                     0\n",
              "_version                                   0\n",
              "_created_at                                0\n",
              "_updated_at                                0\n",
              "_created_by                                0\n",
              "_updated_by                                0\n",
              "_index                                     0\n",
              "_geometry                                  0\n",
              "_latitude                                  0\n",
              "_longitude                                 0\n",
              "_changeset_id                              0\n",
              "_created_duration                          0\n",
              "_updated_duration                          0\n",
              "_edited_duration                           0\n",
              "name_of_the_store                          0\n",
              "entering_the_store                         0\n",
              "number_of_customers_in_store               0\n",
              "number_of_suppliers_in_store               0\n",
              "picture_cargo_being_delivered             10\n",
              "picture_cargo_being_delivered_captions    33\n",
              "picture_cargo_being_delivered_urls        10\n",
              "number_of_cases_boxes_delivered            0\n",
              "trolley_in_use                             0\n",
              "leaving_the_store                          0\n",
              "dtype: int64"
            ]
          },
          "metadata": {},
          "execution_count": 4
        }
      ]
    },
    {
      "cell_type": "markdown",
      "source": [
        "Métodos para sustituir valores nulos "
      ],
      "metadata": {
        "id": "gkD9nBhUPa0V"
      }
    },
    {
      "cell_type": "code",
      "source": [
        "#Sustituir valores nulos por un str en concreto \n",
        "data[\"picture_cargo_being_delivered\"]= data[\"picture_cargo_being_delivered\"].fillna(\"sin_fuente\")\n",
        "#Este método llamado valores por un str en concreto se utilizo para la sustitución de valores nulos en el apartado de 300_did_not_find, ya que son valores de tipo str. Se sustituyo por la palabra \"sin_fuente\". "
      ],
      "metadata": {
        "id": "D0EHtKpqPB8Y"
      },
      "execution_count": null,
      "outputs": []
    },
    {
      "cell_type": "code",
      "source": [
        "#Identificar valores nulos por columna \n",
        "valores_nulos=data.isnull().sum()\n",
        "valores_nulos"
      ],
      "metadata": {
        "colab": {
          "base_uri": "https://localhost:8080/"
        },
        "id": "JfKNKi_zPoH5",
        "outputId": "557c47e7-ce1c-484d-8b3b-af16d914c913"
      },
      "execution_count": null,
      "outputs": [
        {
          "output_type": "execute_result",
          "data": {
            "text/plain": [
              "_child_record_id                           0\n",
              "_record_id                                 0\n",
              "_parent_id                                 0\n",
              "_title                                     0\n",
              "_version                                   0\n",
              "_created_at                                0\n",
              "_updated_at                                0\n",
              "_created_by                                0\n",
              "_updated_by                                0\n",
              "_index                                     0\n",
              "_geometry                                  0\n",
              "_latitude                                  0\n",
              "_longitude                                 0\n",
              "_changeset_id                              0\n",
              "_created_duration                          0\n",
              "_updated_duration                          0\n",
              "_edited_duration                           0\n",
              "name_of_the_store                          0\n",
              "entering_the_store                         0\n",
              "number_of_customers_in_store               0\n",
              "number_of_suppliers_in_store               0\n",
              "picture_cargo_being_delivered              0\n",
              "picture_cargo_being_delivered_captions    33\n",
              "picture_cargo_being_delivered_urls        10\n",
              "number_of_cases_boxes_delivered            0\n",
              "trolley_in_use                             0\n",
              "leaving_the_store                          0\n",
              "dtype: int64"
            ]
          },
          "metadata": {},
          "execution_count": 6
        }
      ]
    },
    {
      "cell_type": "code",
      "source": [
        "#Sustituir valores nulos por valores no nulos hacia adelante \"forward fill\" (\"ffill\")\n",
        "#Filtro por columnas \n",
        "data[\"picture_cargo_being_delivered_captions\"]=data[\"picture_cargo_being_delivered_captions\"].fillna(method=\"ffill\")\n",
        "#En este apartado se utilizo la sustitución de valores nulos por valores no nulos hacía adelante \"forward\", rellenando los valores nulos con los str que se encuentran adelante del valor nulo."
      ],
      "metadata": {
        "id": "9Jz-MQBaTEbM"
      },
      "execution_count": null,
      "outputs": []
    },
    {
      "cell_type": "code",
      "source": [
        "#Identificar valores nulos por columna \n",
        "valores_nulos=data.isnull().sum()\n",
        "valores_nulos"
      ],
      "metadata": {
        "colab": {
          "base_uri": "https://localhost:8080/"
        },
        "id": "u3u0o1_PTUjn",
        "outputId": "fbaa75d3-a47b-4ac6-8d40-a4407f39d1b9"
      },
      "execution_count": null,
      "outputs": [
        {
          "output_type": "execute_result",
          "data": {
            "text/plain": [
              "_child_record_id                           0\n",
              "_record_id                                 0\n",
              "_parent_id                                 0\n",
              "_title                                     0\n",
              "_version                                   0\n",
              "_created_at                                0\n",
              "_updated_at                                0\n",
              "_created_by                                0\n",
              "_updated_by                                0\n",
              "_index                                     0\n",
              "_geometry                                  0\n",
              "_latitude                                  0\n",
              "_longitude                                 0\n",
              "_changeset_id                              0\n",
              "_created_duration                          0\n",
              "_updated_duration                          0\n",
              "_edited_duration                           0\n",
              "name_of_the_store                          0\n",
              "entering_the_store                         0\n",
              "number_of_customers_in_store               0\n",
              "number_of_suppliers_in_store               0\n",
              "picture_cargo_being_delivered              0\n",
              "picture_cargo_being_delivered_captions     0\n",
              "picture_cargo_being_delivered_urls        10\n",
              "number_of_cases_boxes_delivered            0\n",
              "trolley_in_use                             0\n",
              "leaving_the_store                          0\n",
              "dtype: int64"
            ]
          },
          "metadata": {},
          "execution_count": 8
        }
      ]
    },
    {
      "cell_type": "code",
      "source": [
        "#Sustituir valores nulos por un str en concreto \n",
        "data[\"picture_cargo_being_delivered_urls\"]= data[\"picture_cargo_being_delivered_urls\"].fillna(\"no_existe_fuente\")\n",
        "#Este método llamado valores por un str en concreto se utilizo para la sustitución de valores nulos en el apartado de 300_did_not_find, ya que son valores de tipo str. Se sustituyo por la palabra \"no_existe_fuente\". "
      ],
      "metadata": {
        "id": "GU4BhSs3U43c"
      },
      "execution_count": null,
      "outputs": []
    },
    {
      "cell_type": "code",
      "source": [
        "#Identificar valores nulos por columna \n",
        "valores_nulos=data.isnull().sum()\n",
        "valores_nulos"
      ],
      "metadata": {
        "colab": {
          "base_uri": "https://localhost:8080/"
        },
        "id": "qPWlztENVJmb",
        "outputId": "601ea990-a496-4d74-d27f-3a8cf1998421"
      },
      "execution_count": null,
      "outputs": [
        {
          "output_type": "execute_result",
          "data": {
            "text/plain": [
              "_child_record_id                          0\n",
              "_record_id                                0\n",
              "_parent_id                                0\n",
              "_title                                    0\n",
              "_version                                  0\n",
              "_created_at                               0\n",
              "_updated_at                               0\n",
              "_created_by                               0\n",
              "_updated_by                               0\n",
              "_index                                    0\n",
              "_geometry                                 0\n",
              "_latitude                                 0\n",
              "_longitude                                0\n",
              "_changeset_id                             0\n",
              "_created_duration                         0\n",
              "_updated_duration                         0\n",
              "_edited_duration                          0\n",
              "name_of_the_store                         0\n",
              "entering_the_store                        0\n",
              "number_of_customers_in_store              0\n",
              "number_of_suppliers_in_store              0\n",
              "picture_cargo_being_delivered             0\n",
              "picture_cargo_being_delivered_captions    0\n",
              "picture_cargo_being_delivered_urls        0\n",
              "number_of_cases_boxes_delivered           0\n",
              "trolley_in_use                            0\n",
              "leaving_the_store                         0\n",
              "dtype: int64"
            ]
          },
          "metadata": {},
          "execution_count": 10
        }
      ]
    },
    {
      "cell_type": "code",
      "source": [
        "#Corroboramos valores nulos \n",
        "valores_nulos=data.isnull().sum().sum()\n",
        "valores_nulos"
      ],
      "metadata": {
        "colab": {
          "base_uri": "https://localhost:8080/"
        },
        "id": "DJg0VDveVP8i",
        "outputId": "ad0c06cb-b442-440a-e518-0d859fbe5819"
      },
      "execution_count": null,
      "outputs": [
        {
          "output_type": "execute_result",
          "data": {
            "text/plain": [
              "0"
            ]
          },
          "metadata": {},
          "execution_count": 11
        }
      ]
    },
    {
      "cell_type": "markdown",
      "source": [
        "Métodos para sustituir outliers"
      ],
      "metadata": {
        "id": "i6_29ScjVTpZ"
      }
    },
    {
      "cell_type": "code",
      "source": [
        "#Realizamos diagrama de caja o bigote de cada columna del dataframe \n",
        "fig = plt.figure(figsize =(15, 8))\n",
        "data.plot(kind='box', vert=False)\n",
        "plt.title(\"Valores Atípicos del Dataframe\")\n",
        "plt.show() #Dibujamos el diagrama"
      ],
      "metadata": {
        "colab": {
          "base_uri": "https://localhost:8080/",
          "height": 298
        },
        "id": "DMd6h3JLVUW-",
        "outputId": "fab89fbf-53bd-41ea-e0b8-8e00b82a25e6"
      },
      "execution_count": null,
      "outputs": [
        {
          "output_type": "display_data",
          "data": {
            "text/plain": [
              "<Figure size 1080x576 with 0 Axes>"
            ]
          },
          "metadata": {}
        },
        {
          "output_type": "display_data",
          "data": {
            "text/plain": [
              "<Figure size 432x288 with 1 Axes>"
            ],
            "image/png": "[encoded data removed]"
          },
          "metadata": {
            "needs_background": "light"
          }
        }
      ]
    },
    {
      "cell_type": "markdown",
      "source": [
        "Método de IQR ( Rango Inter Quartilico ) Para este caso se realizo el método de aplicar cuartiles, y así encontrar los outliers y obtener datos limpios y para comprobar se realizo el diagrama de bigote. Se utilizo este metodo ya que son valores numericos los que se encuentran como outliers."
      ],
      "metadata": {
        "id": "lgIVLd6PVyPs"
      }
    },
    {
      "cell_type": "code",
      "source": [
        "#Metodo aplicando Cuartiles. Encuentro cuartiles 0.25 y 0.75\n",
        "y=data[\"number_of_cases_boxes_delivered\"]\n",
        "\n",
        "percentile25=y.quantile(0.25) #Q1\n",
        "percentile75=y.quantile(0.75) #Q3\n",
        "iqr= percentile75 - percentile25\n",
        "\n",
        "Limite_Superior_iqr= percentile75 + 1.5*iqr\n",
        "Limite_Inferior_iqr =percentile25 - 1.5*iqr\n",
        "print(\"Limite superior permitido\", Limite_Superior_iqr)\n",
        "print(\"Limite inferior permitido\", Limite_Inferior_iqr)"
      ],
      "metadata": {
        "colab": {
          "base_uri": "https://localhost:8080/"
        },
        "id": "H874FsdEVy24",
        "outputId": "9427b2e1-dc33-4e10-87b5-7cb20147e739"
      },
      "execution_count": null,
      "outputs": [
        {
          "output_type": "stream",
          "name": "stdout",
          "text": [
            "Limite superior permitido 12.0\n",
            "Limite inferior permitido -4.0\n"
          ]
        }
      ]
    },
    {
      "cell_type": "code",
      "source": [
        "#Encomntramos Ouliers \n",
        "ouliers_iqr=data[(y>Limite_Superior_iqr) | (y<Limite_Inferior_iqr)]\n",
        "ouliers_iqr"
      ],
      "metadata": {
        "id": "mF669Vh1WB06"
      },
      "execution_count": null,
      "outputs": []
    },
    {
      "cell_type": "code",
      "source": [
        "#Obtenemos datos limpios \n",
        "data_clean_iqr=data[(y<=Limite_Superior_iqr) & (y>=Limite_Inferior_iqr)]\n",
        "data_clean_iqr"
      ],
      "metadata": {
        "id": "yeNCNvAnWFRd"
      },
      "execution_count": null,
      "outputs": []
    },
    {
      "cell_type": "code",
      "source": [
        "#Realizamos diagrama de caja o bigote \n",
        "fig = plt.figure(figsize =(5, 3))\n",
        "plt.boxplot(data_clean_iqr[\"number_of_cases_boxes_delivered\"])\n",
        "plt.title(\"Outliers de number_of_cases_boxes_delivered\")\n",
        "plt.show() # Dibujamos el diagrama"
      ],
      "metadata": {
        "colab": {
          "base_uri": "https://localhost:8080/",
          "height": 227
        },
        "id": "Jf5pdMX1WI1J",
        "outputId": "8da125cb-a8aa-4dd4-ee09-960c89d0a71e"
      },
      "execution_count": null,
      "outputs": [
        {
          "output_type": "display_data",
          "data": {
            "text/plain": [
              "<Figure size 360x216 with 1 Axes>"
            ],
            "image/png": "[encoded data removed]"
          },
          "metadata": {
            "needs_background": "light"
          }
        }
      ]
    },
    {
      "cell_type": "markdown",
      "source": [
        "Método de IQR ( Rango Inter Quartilico ) Para este caso se realizo el método de aplicar cuartiles, y así encontrar los outliers y obtener datos limpios y para comprobar se realizo el diagrama de bigote. Se utilizo este metodo ya que son valores numericos los que se encuentran como outliers."
      ],
      "metadata": {
        "id": "HTVtLsRPdOK0"
      }
    },
    {
      "cell_type": "code",
      "source": [
        "#Realizamos una copia del dataframe \n",
        "data= data_clean_iqr.copy()"
      ],
      "metadata": {
        "id": "FGaT2UlZdTId"
      },
      "execution_count": null,
      "outputs": []
    },
    {
      "cell_type": "code",
      "source": [
        "#Metodo aplicando Cuartiles. Encuentro cuartiles 0.25 y 0.75\n",
        "y=data[\"number_of_suppliers_in_store\"]\n",
        "\n",
        "percentile25=y.quantile(0.25) #Q1\n",
        "percentile75=y.quantile(0.75) #Q3\n",
        "iqr= percentile75 - percentile25\n",
        "\n",
        "Limite_Superior_iqr= percentile75 + 1.5*iqr\n",
        "Limite_Inferior_iqr =percentile25 - 1.5*iqr\n",
        "print(\"Limite superior permitido\", Limite_Superior_iqr)\n",
        "print(\"Limite inferior permitido\", Limite_Inferior_iqr)"
      ],
      "metadata": {
        "colab": {
          "base_uri": "https://localhost:8080/"
        },
        "id": "-ovHZIpfdmXF",
        "outputId": "71aaeb9e-ad79-4d05-8fc3-96bc4509914a"
      },
      "execution_count": null,
      "outputs": [
        {
          "output_type": "stream",
          "name": "stdout",
          "text": [
            "Limite superior permitido 3.5\n",
            "Limite inferior permitido -0.5\n"
          ]
        }
      ]
    },
    {
      "cell_type": "code",
      "source": [
        "#Encomntramos Ouliers \n",
        "ouliers_iqr=data[(y>Limite_Superior_iqr) | (y<Limite_Inferior_iqr)]\n",
        "ouliers_iqr"
      ],
      "metadata": {
        "id": "RmchgNfpeE61"
      },
      "execution_count": null,
      "outputs": []
    },
    {
      "cell_type": "code",
      "source": [
        "#Obtenemos datos limpios \n",
        "data_clean_iqr=data[(y<=Limite_Superior_iqr) & (y>=Limite_Inferior_iqr)]\n",
        "data_clean_iqr"
      ],
      "metadata": {
        "id": "IoIuz505eKK0"
      },
      "execution_count": null,
      "outputs": []
    },
    {
      "cell_type": "code",
      "source": [
        "#Realizamos diagrama de caja o bigote \n",
        "fig = plt.figure(figsize =(5, 3))\n",
        "plt.boxplot(data_clean_iqr[\"number_of_suppliers_in_store\"])\n",
        "plt.title(\"Outliers de number_of_suppliers_in_store\")\n",
        "plt.show() # Dibujamos el diagrama"
      ],
      "metadata": {
        "colab": {
          "base_uri": "https://localhost:8080/",
          "height": 227
        },
        "id": "vz7upI3eeN6f",
        "outputId": "88ede3a6-48bb-4afb-e44e-6e6d39a5e5a1"
      },
      "execution_count": null,
      "outputs": [
        {
          "output_type": "display_data",
          "data": {
            "text/plain": [
              "<Figure size 360x216 with 1 Axes>"
            ],
            "image/png": "[encoded data removed]"
          },
          "metadata": {
            "needs_background": "light"
          }
        }
      ]
    },
    {
      "cell_type": "markdown",
      "source": [
        "Método de IQR ( Rango Inter Quartilico ) Para este caso se realizo el método de aplicar cuartiles, y así encontrar los outliers y obtener datos limpios y para comprobar se realizo el diagrama de bigote. Se utilizo este metodo ya que son valores numericos los que se encuentran como outliers."
      ],
      "metadata": {
        "id": "s_pHBNu1e7Ro"
      }
    },
    {
      "cell_type": "code",
      "source": [
        "#Realizamos una copia del dataframe \n",
        "data= data_clean_iqr.copy()"
      ],
      "metadata": {
        "id": "7pn69ckje8Ax"
      },
      "execution_count": null,
      "outputs": []
    },
    {
      "cell_type": "code",
      "source": [
        "#Metodo aplicando Cuartiles. Encuentro cuartiles 0.25 y 0.75\n",
        "y=data[\"number_of_customers_in_store\"]\n",
        "\n",
        "percentile25=y.quantile(0.25) #Q1\n",
        "percentile75=y.quantile(0.75) #Q3\n",
        "iqr= percentile75 - percentile25\n",
        "\n",
        "Limite_Superior_iqr= percentile75 + 1.5*iqr\n",
        "Limite_Inferior_iqr =percentile25 - 1.5*iqr\n",
        "print(\"Limite superior permitido\", Limite_Superior_iqr)\n",
        "print(\"Limite inferior permitido\", Limite_Inferior_iqr)"
      ],
      "metadata": {
        "colab": {
          "base_uri": "https://localhost:8080/"
        },
        "id": "rgj7VCPDe_Uk",
        "outputId": "3fcc31ec-e6e3-4adb-cffd-090ac398fe07"
      },
      "execution_count": null,
      "outputs": [
        {
          "output_type": "stream",
          "name": "stdout",
          "text": [
            "Limite superior permitido 6.25\n",
            "Limite inferior permitido -3.75\n"
          ]
        }
      ]
    },
    {
      "cell_type": "code",
      "source": [
        "#Encomntramos Ouliers \n",
        "ouliers_iqr=data[(y>Limite_Superior_iqr) | (y<Limite_Inferior_iqr)]\n",
        "ouliers_iqr"
      ],
      "metadata": {
        "id": "MarGw6NcfKgX"
      },
      "execution_count": null,
      "outputs": []
    },
    {
      "cell_type": "code",
      "source": [
        "#Obtenemos datos limpios \n",
        "data_clean_iqr=data[(y<=Limite_Superior_iqr) & (y>=Limite_Inferior_iqr)]\n",
        "data_clean_iqr"
      ],
      "metadata": {
        "id": "7KrUtch-fPmv"
      },
      "execution_count": null,
      "outputs": []
    },
    {
      "cell_type": "code",
      "source": [
        "#Realizamos diagrama de caja o bigote \n",
        "fig = plt.figure(figsize =(5, 3))\n",
        "plt.boxplot(data_clean_iqr[\"number_of_customers_in_store\"])\n",
        "plt.title(\"Outliers de number_of_customers_in_store\")\n",
        "plt.show() # Dibujamos el diagrama"
      ],
      "metadata": {
        "colab": {
          "base_uri": "https://localhost:8080/",
          "height": 227
        },
        "id": "EOTx44wDfSpT",
        "outputId": "e4d74aac-0ae4-48c2-ea43-74f0df91d2b6"
      },
      "execution_count": null,
      "outputs": [
        {
          "output_type": "display_data",
          "data": {
            "text/plain": [
              "<Figure size 360x216 with 1 Axes>"
            ],
            "image/png": "[encoded data removed]"
          },
          "metadata": {
            "needs_background": "light"
          }
        }
      ]
    },
    {
      "cell_type": "markdown",
      "source": [
        "Método de IQR ( Rango Inter Quartilico ) Para este caso se realizo el método de aplicar cuartiles, y así encontrar los outliers y obtener datos limpios y para comprobar se realizo el diagrama de bigote. Se utilizo este metodo ya que son valores numericos los que se encuentran como outliers."
      ],
      "metadata": {
        "id": "y7CwfVO8gUm2"
      }
    },
    {
      "cell_type": "code",
      "source": [
        "#Realizamos una copia del dataframe \n",
        "data= data_clean_iqr.copy()"
      ],
      "metadata": {
        "id": "LGURyfF1gXp4"
      },
      "execution_count": null,
      "outputs": []
    },
    {
      "cell_type": "code",
      "source": [
        "#Metodo aplicando Cuartiles. Encuentro cuartiles 0.25 y 0.75\n",
        "y=data[\"_edited_duration\"]\n",
        "\n",
        "percentile25=y.quantile(0.25) #Q1\n",
        "percentile75=y.quantile(0.75) #Q3\n",
        "iqr= percentile75 - percentile25\n",
        "\n",
        "Limite_Superior_iqr= percentile75 + 1.5*iqr\n",
        "Limite_Inferior_iqr =percentile25 - 1.5*iqr\n",
        "print(\"Limite superior permitido\", Limite_Superior_iqr)\n",
        "print(\"Limite inferior permitido\", Limite_Inferior_iqr)"
      ],
      "metadata": {
        "colab": {
          "base_uri": "https://localhost:8080/"
        },
        "id": "GLbePzHJgaF1",
        "outputId": "a5f1e0fa-8b19-4d65-943d-6c68c4f66593"
      },
      "execution_count": null,
      "outputs": [
        {
          "output_type": "stream",
          "name": "stdout",
          "text": [
            "Limite superior permitido 178.0\n",
            "Limite inferior permitido -38.0\n"
          ]
        }
      ]
    },
    {
      "cell_type": "code",
      "source": [
        "#Encomntramos Ouliers \n",
        "ouliers_iqr=data[(y>Limite_Superior_iqr) | (y<Limite_Inferior_iqr)]\n",
        "ouliers_iqr"
      ],
      "metadata": {
        "id": "i70xXNAhgyoC"
      },
      "execution_count": null,
      "outputs": []
    },
    {
      "cell_type": "code",
      "source": [
        "#Obtenemos datos limpios \n",
        "data_clean_iqr=data[(y<=Limite_Superior_iqr) & (y>=Limite_Inferior_iqr)]\n",
        "data_clean_iqr"
      ],
      "metadata": {
        "id": "vtRZ5ZRDg8jO"
      },
      "execution_count": null,
      "outputs": []
    },
    {
      "cell_type": "code",
      "source": [
        "#Realizamos diagrama de caja o bigote \n",
        "fig = plt.figure(figsize =(5, 3))\n",
        "plt.boxplot(data_clean_iqr[\"_edited_duration\"])\n",
        "plt.title(\"Outliers de _edited_duration\")\n",
        "plt.show() # Dibujamos el diagrama"
      ],
      "metadata": {
        "colab": {
          "base_uri": "https://localhost:8080/",
          "height": 227
        },
        "id": "XuAEiGZBhABs",
        "outputId": "41186585-3715-402a-f2f1-21709c078706"
      },
      "execution_count": null,
      "outputs": [
        {
          "output_type": "display_data",
          "data": {
            "text/plain": [
              "<Figure size 360x216 with 1 Axes>"
            ],
            "image/png": "[encoded data removed]"
          },
          "metadata": {
            "needs_background": "light"
          }
        }
      ]
    },
    {
      "cell_type": "markdown",
      "source": [
        "Método de IQR ( Rango Inter Quartilico ) Para este caso se realizo el método de aplicar cuartiles, y así encontrar los outliers y obtener datos limpios y para comprobar se realizo el diagrama de bigote. Se utilizo este metodo ya que son valores numericos los que se encuentran como outliers."
      ],
      "metadata": {
        "id": "YcpRgP-zjr2f"
      }
    },
    {
      "cell_type": "code",
      "source": [
        "#Realizamos una copia del dataframe \n",
        "data= data_clean_iqr.copy()"
      ],
      "metadata": {
        "id": "XOsuK26mjsYV"
      },
      "execution_count": null,
      "outputs": []
    },
    {
      "cell_type": "code",
      "source": [
        "#Metodo aplicando Cuartiles. Encuentro cuartiles 0.25 y 0.75\n",
        "y=data[\"_updated_duration\"]\n",
        "\n",
        "percentile25=y.quantile(0.25) #Q1\n",
        "percentile75=y.quantile(0.75) #Q3\n",
        "iqr= percentile75 - percentile25\n",
        "\n",
        "Limite_Superior_iqr= percentile75 + 1.5*iqr\n",
        "Limite_Inferior_iqr =percentile25 - 1.5*iqr\n",
        "print(\"Limite superior permitido\", Limite_Superior_iqr)\n",
        "print(\"Limite inferior permitido\", Limite_Inferior_iqr)"
      ],
      "metadata": {
        "colab": {
          "base_uri": "https://localhost:8080/"
        },
        "id": "AjySWijYjxfF",
        "outputId": "f18db1f8-9811-4a7d-abba-df2421294413"
      },
      "execution_count": null,
      "outputs": [
        {
          "output_type": "stream",
          "name": "stdout",
          "text": [
            "Limite superior permitido 133.5\n",
            "Limite inferior permitido -14.5\n"
          ]
        }
      ]
    },
    {
      "cell_type": "code",
      "source": [
        "#Encomntramos Ouliers \n",
        "ouliers_iqr=data[(y>Limite_Superior_iqr) | (y<Limite_Inferior_iqr)]\n",
        "ouliers_iqr"
      ],
      "metadata": {
        "id": "3rf2dB89j480"
      },
      "execution_count": null,
      "outputs": []
    },
    {
      "cell_type": "code",
      "source": [
        "#Obtenemos datos limpios \n",
        "data_clean_iqr=data[(y<=Limite_Superior_iqr) & (y>=Limite_Inferior_iqr)]\n",
        "data_clean_iqr"
      ],
      "metadata": {
        "id": "938QQ4Phj-Ed"
      },
      "execution_count": null,
      "outputs": []
    },
    {
      "cell_type": "code",
      "source": [
        "#Realizamos diagrama de caja o bigote \n",
        "fig = plt.figure(figsize =(5, 3))\n",
        "plt.boxplot(data_clean_iqr[\"_updated_duration\"])\n",
        "plt.title(\"Outliers de _updated_duration\")\n",
        "plt.show() # Dibujamos el diagrama"
      ],
      "metadata": {
        "colab": {
          "base_uri": "https://localhost:8080/",
          "height": 227
        },
        "id": "ZbDfKJBRkCOX",
        "outputId": "aaa13783-bdfb-472e-e279-1d2b608c1473"
      },
      "execution_count": null,
      "outputs": [
        {
          "output_type": "display_data",
          "data": {
            "text/plain": [
              "<Figure size 360x216 with 1 Axes>"
            ],
            "image/png": "[encoded data removed]"
          },
          "metadata": {
            "needs_background": "light"
          }
        }
      ]
    },
    {
      "cell_type": "markdown",
      "source": [
        "Método de IQR ( Rango Inter Quartilico ) Para este caso se realizo el método de aplicar cuartiles, y así encontrar los outliers y obtener datos limpios y para comprobar se realizo el diagrama de bigote. Se utilizo este metodo ya que son valores numericos los que se encuentran como outliers."
      ],
      "metadata": {
        "id": "P71unIvjlCJN"
      }
    },
    {
      "cell_type": "code",
      "source": [
        "#Realizamos una copia del dataframe \n",
        "data= data_clean_iqr.copy()"
      ],
      "metadata": {
        "id": "iNWjBBhRlCsF"
      },
      "execution_count": null,
      "outputs": []
    },
    {
      "cell_type": "code",
      "source": [
        "#Metodo aplicando Cuartiles. Encuentro cuartiles 0.25 y 0.75\n",
        "y=data[\"_created_duration\"]\n",
        "\n",
        "percentile25=y.quantile(0.25) #Q1\n",
        "percentile75=y.quantile(0.75) #Q3\n",
        "iqr= percentile75 - percentile25\n",
        "\n",
        "Limite_Superior_iqr= percentile75 + 1.5*iqr\n",
        "Limite_Inferior_iqr =percentile25 - 1.5*iqr\n",
        "print(\"Limite superior permitido\", Limite_Superior_iqr)\n",
        "print(\"Limite inferior permitido\", Limite_Inferior_iqr)"
      ],
      "metadata": {
        "colab": {
          "base_uri": "https://localhost:8080/"
        },
        "id": "geFKl-5VlFYA",
        "outputId": "b6e4e0a3-5b47-4205-c36e-dd695d26683e"
      },
      "execution_count": null,
      "outputs": [
        {
          "output_type": "stream",
          "name": "stdout",
          "text": [
            "Limite superior permitido 0.0\n",
            "Limite inferior permitido 0.0\n"
          ]
        }
      ]
    },
    {
      "cell_type": "code",
      "source": [
        "#Encomntramos Ouliers \n",
        "ouliers_iqr=data[(y>Limite_Superior_iqr) | (y<Limite_Inferior_iqr)]\n",
        "ouliers_iqr"
      ],
      "metadata": {
        "id": "GDYJ3yTPlFbZ"
      },
      "execution_count": null,
      "outputs": []
    },
    {
      "cell_type": "code",
      "source": [
        "#Obtenemos datos limpios \n",
        "data_clean_iqr=data[(y<=Limite_Superior_iqr) & (y>=Limite_Inferior_iqr)]\n",
        "data_clean_iqr"
      ],
      "metadata": {
        "id": "vZYcCX7nlVf3"
      },
      "execution_count": null,
      "outputs": []
    },
    {
      "cell_type": "code",
      "source": [
        "#Realizamos diagrama de caja o bigote \n",
        "fig = plt.figure(figsize =(5, 3))\n",
        "plt.boxplot(data_clean_iqr[\"_created_duration\"])\n",
        "plt.title(\"Outliers de _created_duration\")\n",
        "plt.show() # Dibujamos el diagrama"
      ],
      "metadata": {
        "id": "VeBIFRbClZAR",
        "outputId": "879a9231-a8b9-4a41-efe2-4d21930d0fb9",
        "colab": {
          "base_uri": "https://localhost:8080/",
          "height": 227
        }
      },
      "execution_count": null,
      "outputs": [
        {
          "output_type": "display_data",
          "data": {
            "text/plain": [
              "<Figure size 360x216 with 1 Axes>"
            ],
            "image/png": "[encoded data removed]"
          },
          "metadata": {
            "needs_background": "light"
          }
        }
      ]
    },
    {
      "cell_type": "markdown",
      "source": [
        "Descargamos DataFrame "
      ],
      "metadata": {
        "id": "pjKDPkNa2V4w"
      }
    },
    {
      "cell_type": "code",
      "source": [
        "#Convertir DataFrame a CSV \n",
        "data.to_csv(\"lastmile_delivery_operations_mit_lift_lab_serving_customer_sin_nulos.csv\")"
      ],
      "metadata": {
        "id": "YXq5e6GM2KE4"
      },
      "execution_count": 57,
      "outputs": []
    },
    {
      "cell_type": "code",
      "source": [
        "#Descargar archivo filtrado en csv \n",
        "from google.colab import files \n",
        "\n",
        "files.download(\"lastmile_delivery_operations_mit_lift_lab_serving_customer_sin_nulos.csv\")"
      ],
      "metadata": {
        "colab": {
          "base_uri": "https://localhost:8080/",
          "height": 17
        },
        "id": "IjKuZgJi2lEt",
        "outputId": "3493de75-1ab5-4887-a29c-62f20b1b8f2a"
      },
      "execution_count": 58,
      "outputs": [
        {
          "output_type": "display_data",
          "data": {
            "text/plain": [
              "<IPython.core.display.Javascript object>"
            ],
            "application/javascript": [
              "\n",
              "    async function download(id, filename, size) {\n",
              "      if (!google.colab.kernel.accessAllowed) {\n",
              "        return;\n",
              "      }\n",
              "      const div = document.createElement('div');\n",
              "      const label = document.createElement('label');\n",
              "      label.textContent = `Downloading \"${filename}\": `;\n",
              "      div.appendChild(label);\n",
              "      const progress = document.createElement('progress');\n",
              "      progress.max = size;\n",
              "      div.appendChild(progress);\n",
              "      document.body.appendChild(div);\n",
              "\n",
              "      const buffers = [];\n",
              "      let downloaded = 0;\n",
              "\n",
              "      const channel = await google.colab.kernel.comms.open(id);\n",
              "      // Send a message to notify the kernel that we're ready.\n",
              "      channel.send({})\n",
              "\n",
              "      for await (const message of channel.messages) {\n",
              "        // Send a message to notify the kernel that we're ready.\n",
              "        channel.send({})\n",
              "        if (message.buffers) {\n",
              "          for (const buffer of message.buffers) {\n",
              "            buffers.push(buffer);\n",
              "            downloaded += buffer.byteLength;\n",
              "            progress.value = downloaded;\n",
              "          }\n",
              "        }\n",
              "      }\n",
              "      const blob = new Blob(buffers, {type: 'application/binary'});\n",
              "      const a = document.createElement('a');\n",
              "      a.href = window.URL.createObjectURL(blob);\n",
              "      a.download = filename;\n",
              "      div.appendChild(a);\n",
              "      a.click();\n",
              "      div.remove();\n",
              "    }\n",
              "  "
            ]
          },
          "metadata": {}
        },
        {
          "output_type": "display_data",
          "data": {
            "text/plain": [
              "<IPython.core.display.Javascript object>"
            ],
            "application/javascript": [
              "download(\"download_bbc98f53-5d23-4d64-9806-9c924f5887a5\", \"lastmile_delivery_operations_mit_lift_lab_serving_customer_sin_nulos.csv\", 14705)"
            ]
          },
          "metadata": {}
        }
      ]
    }
  ]
}