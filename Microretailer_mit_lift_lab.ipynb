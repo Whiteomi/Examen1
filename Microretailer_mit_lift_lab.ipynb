{
  "nbformat": 4,
  "nbformat_minor": 0,
  "metadata": {
    "colab": {
      "provenance": [],
      "authorship_tag": "ABX9TyPFzVBPciAjI3E8BdsSR1mf",
      "include_colab_link": true
    },
    "kernelspec": {
      "name": "python3",
      "display_name": "Python 3"
    },
    "language_info": {
      "name": "python"
    }
  },
  "cells": [
    {
      "cell_type": "markdown",
      "metadata": {
        "id": "view-in-github",
        "colab_type": "text"
      },
      "source": [
        "<a href=\"https://colab.research.google.com/github/Whiteomi/Examen1/blob/main/Microretailer_mit_lift_lab.ipynb\" target=\"_parent\"><img src=\"https://colab.research.google.com/assets/colab-badge.svg\" alt=\"Open In Colab\"/></a>"
      ]
    },
    {
      "cell_type": "code",
      "execution_count": 7,
      "metadata": {
        "id": "0NTOIwhtD4zs"
      },
      "outputs": [],
      "source": [
        "#Importamos librerias requeridas\n",
        "import pandas as pd \n",
        "import numpy as np \n",
        "import matplotlib.pyplot as  plt"
      ]
    },
    {
      "cell_type": "code",
      "source": [
        "#Cargar archivo csv desde seaborn\n",
        "from google.colab import files \n",
        "files.upload()"
      ],
      "metadata": {
        "id": "1a_ieEjZEXcC"
      },
      "execution_count": null,
      "outputs": []
    },
    {
      "cell_type": "code",
      "source": [
        "#Carga desde un archivo .xlsx sin indice \n",
        "data= pd.read_excel('microretailer_mit_lift_lab.xlsx')"
      ],
      "metadata": {
        "id": "DDNtrtYvExN1"
      },
      "execution_count": null,
      "outputs": []
    },
    {
      "cell_type": "markdown",
      "source": [
        "**Método de eliminación de valores nulos**"
      ],
      "metadata": {
        "id": "fnmjd_40FIZa"
      }
    },
    {
      "cell_type": "code",
      "source": [
        "#Identificar valores nulos por columna \n",
        "valores_nulos=data.isnull().sum()\n",
        "valores_nulos"
      ],
      "metadata": {
        "id": "q7Qu71auFQjj"
      },
      "execution_count": null,
      "outputs": []
    },
    {
      "cell_type": "markdown",
      "source": [
        "Métodos para sustituir valores nulos "
      ],
      "metadata": {
        "id": "d6IS72dAUhdG"
      }
    },
    {
      "cell_type": "code",
      "source": [
        "#Sustituir valores nulos por un str en concreto \n",
        "data[\"268_number_fridges\"]= data[\"268_number_fridges\"].fillna(\"no_existe_información\")\n",
        "#Este método llamado valores por un str en concreto se utilizo para la sustitución de valores nulos en el apartado de 300_did_not_find, ya que son valores de tipo str.\n",
        "#Se sustituyo por la palabra \"no_existe_información\". "
      ],
      "metadata": {
        "id": "ra26-gbXUh1v"
      },
      "execution_count": 8,
      "outputs": []
    },
    {
      "cell_type": "code",
      "source": [
        "#Sustituir valores nulos por un str en concreto \n",
        "data[\"233_date_establishment\"]= data[\"233_date_establishment\"].fillna(\"no_info\")\n",
        "#Este método llamado valores por un str en concreto se utilizo para la sustitución de valores nulos en el apartado de 300_did_not_find, ya que son valores de tipo str.\n",
        "#Se sustituyo por la palabra \"no_info\". "
      ],
      "metadata": {
        "id": "GUVuLY3LVeGn"
      },
      "execution_count": 134,
      "outputs": []
    },
    {
      "cell_type": "code",
      "source": [
        "#Sustituir valores nulos por un str en concreto \n",
        "data[\"pictures_of_shelves_if_possible\"]= data[\"pictures_of_shelves_if_possible\"].fillna(\"no_photo\")\n",
        "#Este método llamado valores por un str en concreto se utilizo para la sustitución de valores nulos en el apartado de 300_did_not_find, ya que son valores de tipo str.\n",
        "#Se sustituyo por la palabra \"no_photo\". "
      ],
      "metadata": {
        "id": "aPpmDluDXBYi"
      },
      "execution_count": 136,
      "outputs": []
    },
    {
      "cell_type": "code",
      "source": [
        "#Sustituir valores nulos por un str en concreto \n",
        "data[\"2_current_permanent_employees\"]= data[\"2_current_permanent_employees\"].fillna(\"no_cuenta_con_empleados_permanentes\")\n",
        "#Este método llamado valores por un str en concreto se utilizo para la sustitución de valores nulos en el apartado de 300_did_not_find, ya que son valores de tipo str.\n",
        "#Se sustituyo por la palabra \"no_cuenta_con_empleados_permanentes\". "
      ],
      "metadata": {
        "id": "ErQP4nvVXQTx"
      },
      "execution_count": 14,
      "outputs": []
    },
    {
      "cell_type": "code",
      "source": [
        "#Sustituir valores nulos por un str en concreto \n",
        "data[\"4_number_permanent_employees_last_year\"]= data[\"4_number_permanent_employees_last_year\"].fillna(\"no_tiene_información\")\n",
        "#Este método llamado valores por un str en concreto se utilizo para la sustitución de valores nulos en el apartado de 300_did_not_find, ya que son valores de tipo str.\n",
        "#Se sustituyo por la palabra \"no_tiene_información\". "
      ],
      "metadata": {
        "id": "U2-uPBIAYbOa"
      },
      "execution_count": 16,
      "outputs": []
    },
    {
      "cell_type": "code",
      "source": [
        "#Sustituir valores nulos por un str en concreto \n",
        "data[\"5_change_store_space_last_year\"]= data[\"5_change_store_space_last_year\"].fillna(\"no_info\")\n",
        "#Este método llamado valores por un str en concreto se utilizo para la sustitución de valores nulos en el apartado de 300_did_not_find, ya que son valores de tipo str.\n",
        "#Se sustituyo por la palabra \"no_info\". "
      ],
      "metadata": {
        "id": "6YdYc4goYvcB"
      },
      "execution_count": 18,
      "outputs": []
    },
    {
      "cell_type": "code",
      "source": [
        "#Sustituir valores nulos por un str en concreto \n",
        "data[\"6_change_employees_average_salary_last_year\"]= data[\"6_change_employees_average_salary_last_year\"].fillna(\"sin_contestar\")\n",
        "#Este método llamado valores por un str en concreto se utilizo para la sustitución de valores nulos en el apartado de 300_did_not_find, ya que son valores de tipo str.\n",
        "#Se sustituyo por la palabra \"sin_contestar\". "
      ],
      "metadata": {
        "id": "xhpERwV7Y_eC"
      },
      "execution_count": 20,
      "outputs": []
    },
    {
      "cell_type": "code",
      "source": [
        "#Sustituir valores nulos por valores no nulos hacia adelante \"forward fill\" (\"ffill\")\n",
        "#Filtro por columnas \n",
        "data[\"20_reviews_finances_monthly\"]=data[\"20_reviews_finances_monthly\"].fillna(method=\"ffill\")\n",
        "#En este apartado se utilizo la sustitución de valores nulos por valores no nulos hacía adelante \"forward\"\n",
        "#Rellenando los valores nulos con los str que se encuentran adelante del valor nulo."
      ],
      "metadata": {
        "id": "Nk02_OtAZitP"
      },
      "execution_count": 22,
      "outputs": []
    },
    {
      "cell_type": "code",
      "source": [
        "#Sustituir valores nulos por un str en concreto \n",
        "data[\"49_inventory_records\"]= data[\"49_inventory_records\"].fillna(\"no_info\")\n",
        "#Este método llamado valores por un str en concreto se utilizo para la sustitución de valores nulos en el apartado de 300_did_not_find, ya que son valores de tipo str.\n",
        "#Se sustituyo por la palabra \"no_info\". "
      ],
      "metadata": {
        "id": "kCU4le-GaSsW"
      },
      "execution_count": 24,
      "outputs": []
    },
    {
      "cell_type": "code",
      "source": [
        "#Sustituir valores nulos por un str en concreto \n",
        "data[\"18_sales_records\"]= data[\"18_sales_records\"].fillna(\"no_info\")\n",
        "#Este método llamado valores por un str en concreto se utilizo para la sustitución de valores nulos en el apartado de 300_did_not_find, ya que son valores de tipo str.\n",
        "#Se sustituyo por la palabra \"no_info\". "
      ],
      "metadata": {
        "id": "g8eRV4Jmaky4"
      },
      "execution_count": 26,
      "outputs": []
    },
    {
      "cell_type": "code",
      "source": [
        "#Sustituir valores nulos por un str en concreto \n",
        "data[\"155_sales_registers_used_for\"]= data[\"155_sales_registers_used_for\"].fillna(\"no_info\")\n",
        "#Este método llamado valores por un str en concreto se utilizo para la sustitución de valores nulos en el apartado de 300_did_not_find, ya que son valores de tipo str.\n",
        "#Se sustituyo por la palabra \"no_info\". "
      ],
      "metadata": {
        "id": "dcZnNOmIa0p7"
      },
      "execution_count": 28,
      "outputs": []
    },
    {
      "cell_type": "code",
      "source": [
        "#Sustituir valores nulos por un str en concreto \n",
        "data[\"103_number_own_fridges\"]= data[\"103_number_own_fridges\"].fillna(\"nothing\")\n",
        "#Este método llamado valores por un str en concreto se utilizo para la sustitución de valores nulos en el apartado de 300_did_not_find, ya que son valores de tipo str.\n",
        "#Se sustituyo por la palabra \"no_info\". "
      ],
      "metadata": {
        "id": "K46Lj7C9bHQQ"
      },
      "execution_count": 30,
      "outputs": []
    },
    {
      "cell_type": "code",
      "source": [
        "#Sustituir valores nulos por valores no nulos hacia adelante \"forward fill\" (\"ffill\")\n",
        "#Filtro por columnas \n",
        "data[\"19_tax_id\"]=data[\"19_tax_id\"].fillna(method=\"ffill\")\n",
        "#En este apartado se utilizo la sustitución de valores nulos por valores no nulos hacía adelante \"forward\"\n",
        "#Rellenando los valores nulos con los str que se encuentran adelante del valor nulo."
      ],
      "metadata": {
        "id": "ci810YstbjeP"
      },
      "execution_count": 32,
      "outputs": []
    },
    {
      "cell_type": "code",
      "source": [
        "#Sustituir valores nulos por un str en concreto \n",
        "data[\"145_number_direct_competitors\"]= data[\"103_number_own_fridges\"].fillna(\"nothing\")\n",
        "#Este método llamado valores por un str en concreto se utilizo para la sustitución de valores nulos en el apartado de 300_did_not_find, ya que son valores de tipo str.\n",
        "#Se sustituyo por la palabra \"nothing\". "
      ],
      "metadata": {
        "id": "lK_qAWEQctBp"
      },
      "execution_count": 37,
      "outputs": []
    },
    {
      "cell_type": "code",
      "source": [
        "#Sustituir valores nulos por un str en concreto \n",
        "data[\"310_burnout\"]= data[\"310_burnout\"].fillna(\"nothing\")\n",
        "#Este método llamado valores por un str en concreto se utilizo para la sustitución de valores nulos en el apartado de 300_did_not_find, ya que son valores de tipo str.\n",
        "#Se sustituyo por la palabra \"nothing\". "
      ],
      "metadata": {
        "id": "TLZJJ25nvpHL"
      },
      "execution_count": 137,
      "outputs": []
    },
    {
      "cell_type": "code",
      "source": [
        "#Sustituir valores nulos por un str en concreto \n",
        "data[\"24_burnout\"]= data[\"24_burnout\"].fillna(\"nothing\")\n",
        "#Este método llamado valores por un str en concreto se utilizo para la sustitución de valores nulos en el apartado de 300_did_not_find, ya que son valores de tipo str.\n",
        "#Se sustituyo por la palabra \"nothing\". "
      ],
      "metadata": {
        "id": "2fgKfpQudCo7"
      },
      "execution_count": 38,
      "outputs": []
    },
    {
      "cell_type": "code",
      "source": [
        "#Sustituir valores nulos por un str en concreto \n",
        "data[\"186_internet_connection\"]= data[\"186_internet_connection\"].fillna(\"nothing\")\n",
        "#Este método llamado valores por un str en concreto se utilizo para la sustitución de valores nulos en el apartado de 300_did_not_find, ya que son valores de tipo str.\n",
        "#Se sustituyo por la palabra \"nothing\". "
      ],
      "metadata": {
        "id": "GPE79o2bdOLh"
      },
      "execution_count": 39,
      "outputs": []
    },
    {
      "cell_type": "code",
      "source": [
        "#Sustituir valores nulos por un str en concreto \n",
        "data[\"210_sales_channels\"]= data[\"210_sales_channels\"].fillna(\"nothing\")\n",
        "#Este método llamado valores por un str en concreto se utilizo para la sustitución de valores nulos en el apartado de 300_did_not_find, ya que son valores de tipo str.\n",
        "#Se sustituyo por la palabra \"nothing\". "
      ],
      "metadata": {
        "id": "mgMLbiTNdbj0"
      },
      "execution_count": 40,
      "outputs": []
    },
    {
      "cell_type": "code",
      "source": [
        "#Sustituir valores nulos por un str en concreto \n",
        "data[\"189_payment_methods\"]= data[\"189_payment_methods\"].fillna(\"nothing\")\n",
        "#Este método llamado valores por un str en concreto se utilizo para la sustitución de valores nulos en el apartado de 300_did_not_find, ya que son valores de tipo str.\n",
        "#Se sustituyo por la palabra \"nothing\". "
      ],
      "metadata": {
        "id": "ulPsUyS7dbmD"
      },
      "execution_count": 41,
      "outputs": []
    },
    {
      "cell_type": "code",
      "source": [
        "#Sustituir valores nulos por un str en concreto \n",
        "data[\"28_prefered_payment_method\"]= data[\"28_prefered_payment_method\"].fillna(\"nothing\")\n",
        "#Este método llamado valores por un str en concreto se utilizo para la sustitución de valores nulos en el apartado de 300_did_not_find, ya que son valores de tipo str.\n",
        "#Se sustituyo por la palabra \"nothing\". "
      ],
      "metadata": {
        "id": "vfhCTo5Jdbpa"
      },
      "execution_count": 42,
      "outputs": []
    },
    {
      "cell_type": "code",
      "source": [
        "#Sustituir valores nulos por un str en concreto \n",
        "data[\"31_different_prices_payment_method\"]= data[\"31_different_prices_payment_method\"].fillna(\"nothing\")\n",
        "#Este método llamado valores por un str en concreto se utilizo para la sustitución de valores nulos en el apartado de 300_did_not_find, ya que son valores de tipo str.\n",
        "#Se sustituyo por la palabra \"nothing\"."
      ],
      "metadata": {
        "id": "TiLxdQHidxsL"
      },
      "execution_count": 43,
      "outputs": []
    },
    {
      "cell_type": "code",
      "source": [
        "#Sustituir valores nulos por un str en concreto \n",
        "data[\"269_cash_discount\"]= data[\"269_cash_discount\"].fillna(\"nothing\")\n",
        "#Este método llamado valores por un str en concreto se utilizo para la sustitución de valores nulos en el apartado de 300_did_not_find, ya que son valores de tipo str.\n",
        "#Se sustituyo por la palabra \"nothing\"."
      ],
      "metadata": {
        "id": "wP00c_r_dxuM"
      },
      "execution_count": 44,
      "outputs": []
    },
    {
      "cell_type": "code",
      "source": [
        "#Sustituir valores nulos por un str en concreto \n",
        "data[\"270_card_extra_charge\"]= data[\"270_card_extra_charge\"].fillna(\"nothing\")\n",
        "#Este método llamado valores por un str en concreto se utilizo para la sustitución de valores nulos en el apartado de 300_did_not_find, ya que son valores de tipo str.\n",
        "#Se sustituyo por la palabra \"nothing\"."
      ],
      "metadata": {
        "id": "Mm-cw-mZdxwX"
      },
      "execution_count": 45,
      "outputs": []
    },
    {
      "cell_type": "code",
      "source": [
        "#Sustituir valores nulos por un str en concreto \n",
        "data[\"271_card_fee\"]= data[\"271_card_fee\"].fillna(\"nothing\")\n",
        "#Este método llamado valores por un str en concreto se utilizo para la sustitución de valores nulos en el apartado de 300_did_not_find, ya que son valores de tipo str.\n",
        "#Se sustituyo por la palabra \"nothing\"."
      ],
      "metadata": {
        "id": "_9sdtSt_dxye"
      },
      "execution_count": 46,
      "outputs": []
    },
    {
      "cell_type": "code",
      "source": [
        "#Sustituir valores nulos por un str en concreto \n",
        "data[\"272_card_days_receive_money\"]= data[\"272_card_days_receive_money\"].fillna(\"nothing\")\n",
        "#Este método llamado valores por un str en concreto se utilizo para la sustitución de valores nulos en el apartado de 300_did_not_find, ya que son valores de tipo str.\n",
        "#Se sustituyo por la palabra \"nothing\"."
      ],
      "metadata": {
        "id": "PQnhdujQdx1t"
      },
      "execution_count": 47,
      "outputs": []
    },
    {
      "cell_type": "code",
      "source": [
        "#Sustituir valores nulos por un str en concreto \n",
        "data[\"273_platform_extra_charge\"]= data[\"273_platform_extra_charge\"].fillna(\"nothing\")\n",
        "#Este método llamado valores por un str en concreto se utilizo para la sustitución de valores nulos en el apartado de 300_did_not_find, ya que son valores de tipo str.\n",
        "#Se sustituyo por la palabra \"nothing\"."
      ],
      "metadata": {
        "id": "VGc0qrVSf6kB"
      },
      "execution_count": 48,
      "outputs": []
    },
    {
      "cell_type": "code",
      "source": [
        "#Sustituir valores nulos por un str en concreto \n",
        "data[\"274_platform_fee\"]= data[\"274_platform_fee\"].fillna(\"nothing\")\n",
        "#Este método llamado valores por un str en concreto se utilizo para la sustitución de valores nulos en el apartado de 300_did_not_find, ya que son valores de tipo str.\n",
        "#Se sustituyo por la palabra \"nothing\"."
      ],
      "metadata": {
        "id": "gff5rgozf6qp"
      },
      "execution_count": 49,
      "outputs": []
    },
    {
      "cell_type": "code",
      "source": [
        "#Sustituir valores nulos por un str en concreto \n",
        "data[\"275_platform_days_receive_money\"]= data[\"275_platform_days_receive_money\"].fillna(\"nothing\")\n",
        "#Este método llamado valores por un str en concreto se utilizo para la sustitución de valores nulos en el apartado de 300_did_not_find, ya que son valores de tipo str.\n",
        "#Se sustituyo por la palabra \"nothing\"."
      ],
      "metadata": {
        "id": "AXrswXX8f6s-"
      },
      "execution_count": 50,
      "outputs": []
    },
    {
      "cell_type": "code",
      "source": [
        "#Sustituir valores nulos por un str en concreto \n",
        "data[\"30_payment_methods_large_purchases\"]= data[\"30_payment_methods_large_purchases\"].fillna(\"nothing\")\n",
        "#Este método llamado valores por un str en concreto se utilizo para la sustitución de valores nulos en el apartado de 300_did_not_find, ya que son valores de tipo str.\n",
        "#Se sustituyo por la palabra \"nothing\"."
      ],
      "metadata": {
        "id": "otAvJf4Qf6vJ"
      },
      "execution_count": 51,
      "outputs": []
    },
    {
      "cell_type": "code",
      "source": [
        "#Sustituir valores nulos por un str en concreto \n",
        "data[\"214_customer_relationship_tools\"]= data[\"214_customer_relationship_tools\"].fillna(\"nothing\")\n",
        "#Este método llamado valores por un str en concreto se utilizo para la sustitución de valores nulos en el apartado de 300_did_not_find, ya que son valores de tipo str.\n",
        "#Se sustituyo por la palabra \"nothing\"."
      ],
      "metadata": {
        "id": "b-TulLbqf6xu"
      },
      "execution_count": 52,
      "outputs": []
    },
    {
      "cell_type": "code",
      "source": [
        "#Sustituir valores nulos por un str en concreto \n",
        "data[\"33_credit_to_customers\"]= data[\"33_credit_to_customers\"].fillna(\"nothing\")\n",
        "#Este método llamado valores por un str en concreto se utilizo para la sustitución de valores nulos en el apartado de 300_did_not_find, ya que son valores de tipo str.\n",
        "#Se sustituyo por la palabra \"nothing\"."
      ],
      "metadata": {
        "id": "JDEZMyIBgbgh"
      },
      "execution_count": 53,
      "outputs": []
    },
    {
      "cell_type": "code",
      "source": [
        "#Sustituir valores nulos por un str en concreto \n",
        "data[\"276_expected_days_informal_credit\"]= data[\"276_expected_days_informal_credit\"].fillna(\"nothing\")\n",
        "#Este método llamado valores por un str en concreto se utilizo para la sustitución de valores nulos en el apartado de 300_did_not_find, ya que son valores de tipo str.\n",
        "#Se sustituyo por la palabra \"nothing\"."
      ],
      "metadata": {
        "id": "qqKZC_yggbir"
      },
      "execution_count": 54,
      "outputs": []
    },
    {
      "cell_type": "code",
      "source": [
        "#Sustituir valores nulos por un str en concreto \n",
        "data[\"35_interest_rate\"]= data[\"35_interest_rate\"].fillna(\"nothing\")\n",
        "#Este método llamado valores por un str en concreto se utilizo para la sustitución de valores nulos en el apartado de 300_did_not_find, ya que son valores de tipo str.\n",
        "#Se sustituyo por la palabra \"nothing\"."
      ],
      "metadata": {
        "id": "-m9EeMs0gbkq"
      },
      "execution_count": 55,
      "outputs": []
    },
    {
      "cell_type": "code",
      "source": [
        "#Sustituir valores nulos por un str en concreto \n",
        "data[\"36_credit_default_rate\"]= data[\"36_credit_default_rate\"].fillna(\"nothing\")\n",
        "#Este método llamado valores por un str en concreto se utilizo para la sustitución de valores nulos en el apartado de 300_did_not_find, ya que son valores de tipo str.\n",
        "#Se sustituyo por la palabra \"nothing\"."
      ],
      "metadata": {
        "id": "uRRJxXlWgboN"
      },
      "execution_count": 56,
      "outputs": []
    },
    {
      "cell_type": "code",
      "source": [
        "#Sustituir valores nulos por un str en concreto \n",
        "data[\"38_average_margin_profits\"]= data[\"38_average_margin_profits\"].fillna(\"nothing\")\n",
        "#Este método llamado valores por un str en concreto se utilizo para la sustitución de valores nulos en el apartado de 300_did_not_find, ya que son valores de tipo str.\n",
        "#Se sustituyo por la palabra \"nothing\"."
      ],
      "metadata": {
        "id": "VMPgvTIkgbwG"
      },
      "execution_count": 57,
      "outputs": []
    },
    {
      "cell_type": "code",
      "source": [
        "#Sustituir valores nulos por un str en concreto \n",
        "data[\"193_sales_planning_tools\"]= data[\"193_sales_planning_tools\"].fillna(\"nothing\")\n",
        "#Este método llamado valores por un str en concreto se utilizo para la sustitución de valores nulos en el apartado de 300_did_not_find, ya que son valores de tipo str.\n",
        "#Se sustituyo por la palabra \"nothing\"."
      ],
      "metadata": {
        "id": "IPiHpKuSf61M"
      },
      "execution_count": 58,
      "outputs": []
    },
    {
      "cell_type": "code",
      "source": [
        "#Sustituir valores nulos por un str en concreto \n",
        "data[\"227_agreement_ecommerce_platforms\"]= data[\"227_agreement_ecommerce_platforms\"].fillna(\"nothing\")\n",
        "#Este método llamado valores por un str en concreto se utilizo para la sustitución de valores nulos en el apartado de 300_did_not_find, ya que son valores de tipo str.\n",
        "#Se sustituyo por la palabra \"nothing\"."
      ],
      "metadata": {
        "id": "m2LAyBHxgwEI"
      },
      "execution_count": 59,
      "outputs": []
    },
    {
      "cell_type": "code",
      "source": [
        "#Sustituir valores nulos por un str en concreto \n",
        "data[\"60_services\"]= data[\"60_services\"].fillna(\"nothing\")\n",
        "#Este método llamado valores por un str en concreto se utilizo para la sustitución de valores nulos en el apartado de 300_did_not_find, ya que son valores de tipo str.\n",
        "#Se sustituyo por la palabra \"nothing\"."
      ],
      "metadata": {
        "id": "LvCq3SGBgwGS"
      },
      "execution_count": 60,
      "outputs": []
    },
    {
      "cell_type": "code",
      "source": [
        "#Sustituir valores nulos por un str en concreto \n",
        "data[\"315_frequency_topups\"]= data[\"315_frequency_topups\"].fillna(\"nothing\")\n",
        "#Este método llamado valores por un str en concreto se utilizo para la sustitución de valores nulos en el apartado de 300_did_not_find, ya que son valores de tipo str.\n",
        "#Se sustituyo por la palabra \"nothing\"."
      ],
      "metadata": {
        "id": "rOtR_sESgwJ2"
      },
      "execution_count": 61,
      "outputs": []
    },
    {
      "cell_type": "code",
      "source": [
        "#Sustituir valores nulos por un str en concreto \n",
        "data[\"316_frequency_utility_bills\"]= data[\"316_frequency_utility_bills\"].fillna(\"nothing\")\n",
        "#Este método llamado valores por un str en concreto se utilizo para la sustitución de valores nulos en el apartado de 300_did_not_find, ya que son valores de tipo str.\n",
        "#Se sustituyo por la palabra \"nothing\"."
      ],
      "metadata": {
        "id": "JbtQqBaSgwXE"
      },
      "execution_count": 62,
      "outputs": []
    },
    {
      "cell_type": "code",
      "source": [
        "#Sustituir valores nulos por un str en concreto \n",
        "data[\"317_home_deliveries\"]= data[\"317_home_deliveries\"].fillna(\"nothing\")\n",
        "#Este método llamado valores por un str en concreto se utilizo para la sustitución de valores nulos en el apartado de 300_did_not_find, ya que son valores de tipo str.\n",
        "#Se sustituyo por la palabra \"nothing\"."
      ],
      "metadata": {
        "id": "3nzyw-3Rhobp"
      },
      "execution_count": 63,
      "outputs": []
    },
    {
      "cell_type": "code",
      "source": [
        "#Sustituir valores nulos por un str en concreto \n",
        "data[\"62_frequency_only_services\"]= data[\"62_frequency_only_services\"].fillna(\"nothing\")\n",
        "#Este método llamado valores por un str en concreto se utilizo para la sustitución de valores nulos en el apartado de 300_did_not_find, ya que son valores de tipo str.\n",
        "#Se sustituyo por la palabra \"nothing\"."
      ],
      "metadata": {
        "id": "XCdHnoFthodk"
      },
      "execution_count": 64,
      "outputs": []
    },
    {
      "cell_type": "code",
      "source": [
        "#Sustituir valores nulos por un str en concreto \n",
        "data[\"78_number_home_deliveries_week\"]= data[\"78_number_home_deliveries_week\"].fillna(\"nothing\")\n",
        "#Este método llamado valores por un str en concreto se utilizo para la sustitución de valores nulos en el apartado de 300_did_not_find, ya que son valores de tipo str.\n",
        "#Se sustituyo por la palabra \"nothing\"."
      ],
      "metadata": {
        "id": "xWWG37JlhogB"
      },
      "execution_count": 65,
      "outputs": []
    },
    {
      "cell_type": "code",
      "source": [
        "#Sustituir valores nulos por un str en concreto \n",
        "data[\"77_delivery_timeslots\"]= data[\"77_delivery_timeslots\"].fillna(\"nothing\")\n",
        "#Este método llamado valores por un str en concreto se utilizo para la sustitución de valores nulos en el apartado de 300_did_not_find, ya que son valores de tipo str.\n",
        "#Se sustituyo por la palabra \"nothing\"."
      ],
      "metadata": {
        "id": "t8At4V3phoiX"
      },
      "execution_count": 66,
      "outputs": []
    },
    {
      "cell_type": "code",
      "source": [
        "#Sustituir valores nulos por un str en concreto \n",
        "data[\"79_delivery_vehicle\"]= data[\"79_delivery_vehicle\"].fillna(\"nothing\")\n",
        "#Este método llamado valores por un str en concreto se utilizo para la sustitución de valores nulos en el apartado de 300_did_not_find, ya que son valores de tipo str.\n",
        "#Se sustituyo por la palabra \"nothing\"."
      ],
      "metadata": {
        "id": "xsWAAErdhokj"
      },
      "execution_count": 67,
      "outputs": []
    },
    {
      "cell_type": "code",
      "source": [
        "#Sustituir valores nulos por un str en concreto \n",
        "data[\"64_comission_services\"]= data[\"64_comission_services\"].fillna(\"nothing\")\n",
        "#Este método llamado valores por un str en concreto se utilizo para la sustitución de valores nulos en el apartado de 300_did_not_find, ya que son valores de tipo str.\n",
        "#Se sustituyo por la palabra \"nothing\"."
      ],
      "metadata": {
        "id": "1qdqeuP_honJ"
      },
      "execution_count": 68,
      "outputs": []
    },
    {
      "cell_type": "code",
      "source": [
        "#Sustituir valores nulos por un str en concreto \n",
        "data[\"66_percentaje_services_income\"]= data[\"66_percentaje_services_income\"].fillna(\"nothing\")\n",
        "#Este método llamado valores por un str en concreto se utilizo para la sustitución de valores nulos en el apartado de 300_did_not_find, ya que son valores de tipo str.\n",
        "#Se sustituyo por la palabra \"nothing\"."
      ],
      "metadata": {
        "id": "86ruHI5Thop5"
      },
      "execution_count": 69,
      "outputs": []
    },
    {
      "cell_type": "code",
      "source": [
        "#Sustituir valores nulos por un str en concreto \n",
        "data[\"69_why_not_services\"]= data[\"69_why_not_services\"].fillna(\"nothing\")\n",
        "#Este método llamado valores por un str en concreto se utilizo para la sustitución de valores nulos en el apartado de 300_did_not_find, ya que son valores de tipo str.\n",
        "#Se sustituyo por la palabra \"nothing\"."
      ],
      "metadata": {
        "id": "tKLWWtx2hosJ"
      },
      "execution_count": 70,
      "outputs": []
    },
    {
      "cell_type": "code",
      "source": [
        "#Sustituir valores nulos por un str en concreto \n",
        "data[\"311_topups\"]= data[\"311_topups\"].fillna(\"nothing\")\n",
        "#Este método llamado valores por un str en concreto se utilizo para la sustitución de valores nulos en el apartado de 300_did_not_find, ya que son valores de tipo str.\n",
        "#Se sustituyo por la palabra \"nothing\"."
      ],
      "metadata": {
        "id": "LHgd6L9Qhouc"
      },
      "execution_count": 71,
      "outputs": []
    },
    {
      "cell_type": "code",
      "source": [
        "#Sustituir valores nulos por un str en concreto \n",
        "data[\"312_payment_of_utilities\"]= data[\"312_payment_of_utilities\"].fillna(\"nothing\")\n",
        "#Este método llamado valores por un str en concreto se utilizo para la sustitución de valores nulos en el apartado de 300_did_not_find, ya que son valores de tipo str.\n",
        "#Se sustituyo por la palabra \"nothing\"."
      ],
      "metadata": {
        "id": "-uE7ZdkEhoww"
      },
      "execution_count": 72,
      "outputs": []
    },
    {
      "cell_type": "code",
      "source": [
        "#Sustituir valores nulos por un str en concreto \n",
        "data[\"313_home_deliveries\"]= data[\"313_home_deliveries\"].fillna(\"nothing\")\n",
        "#Este método llamado valores por un str en concreto se utilizo para la sustitución de valores nulos en el apartado de 300_did_not_find, ya que son valores de tipo str.\n",
        "#Se sustituyo por la palabra \"nothing\"."
      ],
      "metadata": {
        "id": "D2mtT52Pho0F"
      },
      "execution_count": 73,
      "outputs": []
    },
    {
      "cell_type": "code",
      "source": [
        "#Sustituir valores nulos por un str en concreto \n",
        "data[\"314_reception_delivery_packages\"]= data[\"314_reception_delivery_packages\"].fillna(\"nothing\")\n",
        "#Este método llamado valores por un str en concreto se utilizo para la sustitución de valores nulos en el apartado de 300_did_not_find, ya que son valores de tipo str.\n",
        "#Se sustituyo por la palabra \"nothing\"."
      ],
      "metadata": {
        "id": "auLHS1m7ktFr"
      },
      "execution_count": 74,
      "outputs": []
    },
    {
      "cell_type": "code",
      "source": [
        "#Sustituir valores nulos por un str en concreto \n",
        "data[\"42_willingness_share_inventory_data_suppliers\"]= data[\"42_willingness_share_inventory_data_suppliers\"].fillna(\"nothing\")\n",
        "#Este método llamado valores por un str en concreto se utilizo para la sustitución de valores nulos en el apartado de 300_did_not_find, ya que son valores de tipo str.\n",
        "#Se sustituyo por la palabra \"nothing\"."
      ],
      "metadata": {
        "id": "mryhTKJSktI3"
      },
      "execution_count": 75,
      "outputs": []
    },
    {
      "cell_type": "code",
      "source": [
        "#Sustituir valores nulos por un str en concreto \n",
        "data[\"44_willingness_inventory_management_suppliers\"]= data[\"44_willingness_inventory_management_suppliers\"].fillna(\"nothing\")\n",
        "#Este método llamado valores por un str en concreto se utilizo para la sustitución de valores nulos en el apartado de 300_did_not_find, ya que son valores de tipo str.\n",
        "#Se sustituyo por la palabra \"nothing\"."
      ],
      "metadata": {
        "id": "U_50YvKnktLj"
      },
      "execution_count": 76,
      "outputs": []
    },
    {
      "cell_type": "code",
      "source": [
        "#Sustituir valores nulos por un str en concreto \n",
        "data[\"45_willingness_reorder_suppliers\"]= data[\"45_willingness_reorder_suppliers\"].fillna(\"nothing\")\n",
        "#Este método llamado valores por un str en concreto se utilizo para la sustitución de valores nulos en el apartado de 300_did_not_find, ya que son valores de tipo str.\n",
        "#Se sustituyo por la palabra \"nothing\"."
      ],
      "metadata": {
        "id": "NB9FXjhNktNl"
      },
      "execution_count": 77,
      "outputs": []
    },
    {
      "cell_type": "code",
      "source": [
        "#Sustituir valores nulos por un str en concreto \n",
        "data[\"46_willingness_reorder_suppliers_variety\"]= data[\"46_willingness_reorder_suppliers_variety\"].fillna(\"nothing\")\n",
        "#Este método llamado valores por un str en concreto se utilizo para la sustitución de valores nulos en el apartado de 300_did_not_find, ya que son valores de tipo str.\n",
        "#Se sustituyo por la palabra \"nothing\"."
      ],
      "metadata": {
        "id": "uYNusP8jktPt"
      },
      "execution_count": 78,
      "outputs": []
    },
    {
      "cell_type": "code",
      "source": [
        "#Sustituir valores nulos por un str en concreto \n",
        "data[\"47_willingness_reorder_suppliers_lower_prices\"]= data[\"47_willingness_reorder_suppliers_lower_prices\"].fillna(\"nothing\")\n",
        "#Este método llamado valores por un str en concreto se utilizo para la sustitución de valores nulos en el apartado de 300_did_not_find, ya que son valores de tipo str.\n",
        "#Se sustituyo por la palabra \"nothing\"."
      ],
      "metadata": {
        "id": "LiQ7j-C5ktR3"
      },
      "execution_count": 79,
      "outputs": []
    },
    {
      "cell_type": "code",
      "source": [
        "#Sustituir valores nulos por un str en concreto \n",
        "data[\"43_willingness_share_sales_data_suppliers\"]= data[\"43_willingness_share_sales_data_suppliers\"].fillna(\"nothing\")\n",
        "#Este método llamado valores por un str en concreto se utilizo para la sustitución de valores nulos en el apartado de 300_did_not_find, ya que son valores de tipo str.\n",
        "#Se sustituyo por la palabra \"nothing\"."
      ],
      "metadata": {
        "id": "DX2eyI_GktVF"
      },
      "execution_count": 80,
      "outputs": []
    },
    {
      "cell_type": "code",
      "source": [
        "#Sustituir valores nulos por un str en concreto \n",
        "data[\"58_willingness_share_sales_data_mse\"]= data[\"58_willingness_share_sales_data_mse\"].fillna(\"nothing\")\n",
        "#Este método llamado valores por un str en concreto se utilizo para la sustitución de valores nulos en el apartado de 300_did_not_find, ya que son valores de tipo str.\n",
        "#Se sustituyo por la palabra \"nothing\"."
      ],
      "metadata": {
        "id": "hji2ZrIuktr4"
      },
      "execution_count": 81,
      "outputs": []
    },
    {
      "cell_type": "code",
      "source": [
        "#Sustituir valores nulos por un str en concreto \n",
        "data[\"59_willingness_share_sales_data_mse_better_prices\"]= data[\"59_willingness_share_sales_data_mse_better_prices\"].fillna(\"nothing\")\n",
        "#Este método llamado valores por un str en concreto se utilizo para la sustitución de valores nulos en el apartado de 300_did_not_find, ya que son valores de tipo str.\n",
        "#Se sustituyo por la palabra \"nothing\"."
      ],
      "metadata": {
        "id": "sfQwK_ISkuCh"
      },
      "execution_count": 82,
      "outputs": []
    },
    {
      "cell_type": "code",
      "source": [
        "#Sustituir valores nulos por un str en concreto \n",
        "data[\"172_supplier_frequency\"]= data[\"172_supplier_frequency\"].fillna(\"nothing\")\n",
        "#Este método llamado valores por un str en concreto se utilizo para la sustitución de valores nulos en el apartado de 300_did_not_find, ya que son valores de tipo str.\n",
        "#Se sustituyo por la palabra \"nothing\"."
      ],
      "metadata": {
        "id": "bdEfjkuQkuFB"
      },
      "execution_count": 83,
      "outputs": []
    },
    {
      "cell_type": "code",
      "source": [
        "#Sustituir valores nulos por un str en concreto \n",
        "data[\"185_place_orders_suppliers\"]= data[\"185_place_orders_suppliers\"].fillna(\"nothing\")\n",
        "#Este método llamado valores por un str en concreto se utilizo para la sustitución de valores nulos en el apartado de 300_did_not_find, ya que son valores de tipo str.\n",
        "#Se sustituyo por la palabra \"nothing\"."
      ],
      "metadata": {
        "id": "0K6v6jlZkuHF"
      },
      "execution_count": 84,
      "outputs": []
    },
    {
      "cell_type": "code",
      "source": [
        "#Sustituir valores nulos por un str en concreto \n",
        "data[\"53_special_conditions_suppliers\"]= data[\"53_special_conditions_suppliers\"].fillna(\"nothing\")\n",
        "#Este método llamado valores por un str en concreto se utilizo para la sustitución de valores nulos en el apartado de 300_did_not_find, ya que son valores de tipo str.\n",
        "#Se sustituyo por la palabra \"nothing\"."
      ],
      "metadata": {
        "id": "JZLuySN8kuJm"
      },
      "execution_count": 85,
      "outputs": []
    },
    {
      "cell_type": "code",
      "source": [
        "#Sustituir valores nulos por un str en concreto \n",
        "data[\"278_credit_interest\"]= data[\"278_credit_interest\"].fillna(\"nothing\")\n",
        "#Este método llamado valores por un str en concreto se utilizo para la sustitución de valores nulos en el apartado de 300_did_not_find, ya que son valores de tipo str.\n",
        "#Se sustituyo por la palabra \"nothing\"."
      ],
      "metadata": {
        "id": "HTNVppgBkuM-"
      },
      "execution_count": 86,
      "outputs": []
    },
    {
      "cell_type": "code",
      "source": [
        "#Sustituir valores nulos por un str en concreto \n",
        "data[\"192_procurement_planning_tools\"]= data[\"192_procurement_planning_tools\"].fillna(\"nothing\")\n",
        "#Este método llamado valores por un str en concreto se utilizo para la sustitución de valores nulos en el apartado de 300_did_not_find, ya que son valores de tipo str.\n",
        "#Se sustituyo por la palabra \"nothing\"."
      ],
      "metadata": {
        "id": "A9RCudbjpY1r"
      },
      "execution_count": 87,
      "outputs": []
    },
    {
      "cell_type": "code",
      "source": [
        "#Sustituir valores nulos por un str en concreto \n",
        "data[\"277_payment_method_suppliers\"]= data[\"277_payment_method_suppliers\"].fillna(\"nothing\")\n",
        "#Este método llamado valores por un str en concreto se utilizo para la sustitución de valores nulos en el apartado de 300_did_not_find, ya que son valores de tipo str.\n",
        "#Se sustituyo por la palabra \"nothing\"."
      ],
      "metadata": {
        "id": "0Pbcor_GpY4R"
      },
      "execution_count": 88,
      "outputs": []
    },
    {
      "cell_type": "code",
      "source": [
        "#Sustituir valores nulos por un str en concreto \n",
        "data[\"56_procurement_changes_pandemic\"]= data[\"56_procurement_changes_pandemic\"].fillna(\"nothing\")\n",
        "#Este método llamado valores por un str en concreto se utilizo para la sustitución de valores nulos en el apartado de 300_did_not_find, ya que son valores de tipo str.\n",
        "#Se sustituyo por la palabra \"nothing\"."
      ],
      "metadata": {
        "id": "9kd5eGG7pY6J"
      },
      "execution_count": 89,
      "outputs": []
    },
    {
      "cell_type": "code",
      "source": [
        "#Sustituir valores nulos por un str en concreto \n",
        "data[\"279_changes_procurement_pandemic\"]= data[\"279_changes_procurement_pandemic\"].fillna(\"nothing\")\n",
        "#Este método llamado valores por un str en concreto se utilizo para la sustitución de valores nulos en el apartado de 300_did_not_find, ya que son valores de tipo str.\n",
        "#Se sustituyo por la palabra \"nothing\"."
      ],
      "metadata": {
        "id": "lGu03RcJpY8a"
      },
      "execution_count": 90,
      "outputs": []
    },
    {
      "cell_type": "code",
      "source": [
        "#Sustituir valores nulos por un str en concreto \n",
        "data[\"157_frequency_organize_shelves\"]= data[\"157_frequency_organize_shelves\"].fillna(\"nothing\")\n",
        "#Este método llamado valores por un str en concreto se utilizo para la sustitución de valores nulos en el apartado de 300_did_not_find, ya que son valores de tipo str.\n",
        "#Se sustituyo por la palabra \"nothing\"."
      ],
      "metadata": {
        "id": "ANDOzD3OpY_C"
      },
      "execution_count": 91,
      "outputs": []
    },
    {
      "cell_type": "code",
      "source": [
        "#Sustituir valores nulos por un str en concreto \n",
        "data[\"158_charact_organize_products_on_shelves\"]= data[\"158_charact_organize_products_on_shelves\"].fillna(\"nothing\")\n",
        "#Este método llamado valores por un str en concreto se utilizo para la sustitución de valores nulos en el apartado de 300_did_not_find, ya que son valores de tipo str.\n",
        "#Se sustituyo por la palabra \"nothing\"."
      ],
      "metadata": {
        "id": "uNz3787dpZA2"
      },
      "execution_count": 92,
      "outputs": []
    },
    {
      "cell_type": "code",
      "source": [
        "#Sustituir valores nulos por un str en concreto \n",
        "data[\"161_actions_stockouts\"]= data[\"161_actions_stockouts\"].fillna(\"nothing\")\n",
        "#Este método llamado valores por un str en concreto se utilizo para la sustitución de valores nulos en el apartado de 300_did_not_find, ya que son valores de tipo str.\n",
        "#Se sustituyo por la palabra \"nothing\"."
      ],
      "metadata": {
        "id": "Cc_wibo6pZCw"
      },
      "execution_count": 93,
      "outputs": []
    },
    {
      "cell_type": "code",
      "source": [
        "#Sustituir valores nulos por un str en concreto \n",
        "data[\"162_inventory_extra_space\"]= data[\"162_inventory_extra_space\"].fillna(\"nothing\")\n",
        "#Este método llamado valores por un str en concreto se utilizo para la sustitución de valores nulos en el apartado de 300_did_not_find, ya que son valores de tipo str.\n",
        "#Se sustituyo por la palabra \"nothing\"."
      ],
      "metadata": {
        "id": "xq0S3FLVpZGD"
      },
      "execution_count": 94,
      "outputs": []
    },
    {
      "cell_type": "code",
      "source": [
        "#Sustituir valores nulos por un str en concreto \n",
        "data[\"163_number_high_perishable_products\"]= data[\"163_number_high_perishable_products\"].fillna(\"nothing\")\n",
        "#Este método llamado valores por un str en concreto se utilizo para la sustitución de valores nulos en el apartado de 300_did_not_find, ya que son valores de tipo str.\n",
        "#Se sustituyo por la palabra \"nothing\"."
      ],
      "metadata": {
        "id": "G9d2ZVhEpZYa"
      },
      "execution_count": 95,
      "outputs": []
    },
    {
      "cell_type": "code",
      "source": [
        "#Sustituir valores nulos por un str en concreto \n",
        "data[\"249_technology_training\"]= data[\"249_technology_training\"].fillna(\"nothing\")\n",
        "#Este método llamado valores por un str en concreto se utilizo para la sustitución de valores nulos en el apartado de 300_did_not_find, ya que son valores de tipo str.\n",
        "#Se sustituyo por la palabra \"nothing\"."
      ],
      "metadata": {
        "id": "tWOxUmR0pZaT"
      },
      "execution_count": 96,
      "outputs": []
    },
    {
      "cell_type": "code",
      "source": [
        "#Sustituir valores nulos por un str en concreto \n",
        "data[\"250_technology_investment_operations\"]= data[\"250_technology_investment_operations\"].fillna(\"nothing\")\n",
        "#Este método llamado valores por un str en concreto se utilizo para la sustitución de valores nulos en el apartado de 300_did_not_find, ya que son valores de tipo str.\n",
        "#Se sustituyo por la palabra \"nothing\"."
      ],
      "metadata": {
        "id": "8F5cNGNRpZch"
      },
      "execution_count": 97,
      "outputs": []
    },
    {
      "cell_type": "code",
      "source": [
        "#Sustituir valores nulos por un str en concreto \n",
        "data[\"251_technology_investment_customers\"]= data[\"251_technology_investment_customers\"].fillna(\"nothing\")\n",
        "#Este método llamado valores por un str en concreto se utilizo para la sustitución de valores nulos en el apartado de 300_did_not_find, ya que son valores de tipo str.\n",
        "#Se sustituyo por la palabra \"nothing\"."
      ],
      "metadata": {
        "id": "b_BN25DKpZfp"
      },
      "execution_count": 98,
      "outputs": []
    },
    {
      "cell_type": "code",
      "source": [
        "#Sustituir valores nulos por un str en concreto \n",
        "data[\"254_technology_roadmap\"]= data[\"254_technology_roadmap\"].fillna(\"nothing\")\n",
        "#Este método llamado valores por un str en concreto se utilizo para la sustitución de valores nulos en el apartado de 300_did_not_find, ya que son valores de tipo str.\n",
        "#Se sustituyo por la palabra \"nothing\"."
      ],
      "metadata": {
        "id": "wT3uiKNTqe8D"
      },
      "execution_count": 99,
      "outputs": []
    },
    {
      "cell_type": "code",
      "source": [
        "#Sustituir valores nulos por un str en concreto \n",
        "data[\"260_technology_scalable\"]= data[\"260_technology_scalable\"].fillna(\"nothing\")\n",
        "#Este método llamado valores por un str en concreto se utilizo para la sustitución de valores nulos en el apartado de 300_did_not_find, ya que son valores de tipo str.\n",
        "#Se sustituyo por la palabra \"nothing\"."
      ],
      "metadata": {
        "id": "w0wToynjqe-n"
      },
      "execution_count": 100,
      "outputs": []
    },
    {
      "cell_type": "code",
      "source": [
        "#Sustituir valores nulos por un str en concreto \n",
        "data[\"261_technology_organization\"]= data[\"261_technology_organization\"].fillna(\"nothing\")\n",
        "#Este método llamado valores por un str en concreto se utilizo para la sustitución de valores nulos en el apartado de 300_did_not_find, ya que son valores de tipo str.\n",
        "#Se sustituyo por la palabra \"nothing\"."
      ],
      "metadata": {
        "id": "pVLeMJ4pqfAg"
      },
      "execution_count": 101,
      "outputs": []
    },
    {
      "cell_type": "code",
      "source": [
        "#Sustituir valores nulos por un str en concreto \n",
        "data[\"262_technology_serve_customers\"]= data[\"262_technology_serve_customers\"].fillna(\"nothing\")\n",
        "#Este método llamado valores por un str en concreto se utilizo para la sustitución de valores nulos en el apartado de 300_did_not_find, ya que son valores de tipo str.\n",
        "#Se sustituyo por la palabra \"nothing\"."
      ],
      "metadata": {
        "id": "LZXTxle4qfDc"
      },
      "execution_count": 102,
      "outputs": []
    },
    {
      "cell_type": "code",
      "source": [
        "#Sustituir valores nulos por un str en concreto \n",
        "data[\"263_technology_secure_sales\"]= data[\"263_technology_secure_sales\"].fillna(\"nothing\")\n",
        "#Este método llamado valores por un str en concreto se utilizo para la sustitución de valores nulos en el apartado de 300_did_not_find, ya que son valores de tipo str.\n",
        "#Se sustituyo por la palabra \"nothing\"."
      ],
      "metadata": {
        "id": "speEO7AsqfFu"
      },
      "execution_count": 103,
      "outputs": []
    },
    {
      "cell_type": "code",
      "source": [
        "#Sustituir valores nulos por un str en concreto \n",
        "data[\"264_technology_budget\"]= data[\"264_technology_budget\"].fillna(\"nothing\")\n",
        "#Este método llamado valores por un str en concreto se utilizo para la sustitución de valores nulos en el apartado de 300_did_not_find, ya que son valores de tipo str.\n",
        "#Se sustituyo por la palabra \"nothing\"."
      ],
      "metadata": {
        "id": "0sE8OLQpqfJ4"
      },
      "execution_count": 104,
      "outputs": []
    },
    {
      "cell_type": "code",
      "source": [
        "#Sustituir valores nulos por un str en concreto \n",
        "data[\"267_technology_investment_customer_preferences\"]= data[\"267_technology_investment_customer_preferences\"].fillna(\"nothing\")\n",
        "#Este método llamado valores por un str en concreto se utilizo para la sustitución de valores nulos en el apartado de 300_did_not_find, ya que son valores de tipo str.\n",
        "#Se sustituyo por la palabra \"nothing\"."
      ],
      "metadata": {
        "id": "ZLU0rNCQqfMr"
      },
      "execution_count": 105,
      "outputs": []
    },
    {
      "cell_type": "code",
      "source": [
        "#Sustituir valores nulos por un str en concreto \n",
        "data[\"234_willingness_participate_workshop\"]= data[\"234_willingness_participate_workshop\"].fillna(\"nothing\")\n",
        "#Este método llamado valores por un str en concreto se utilizo para la sustitución de valores nulos en el apartado de 300_did_not_find, ya que son valores de tipo str.\n",
        "#Se sustituyo por la palabra \"nothing\"."
      ],
      "metadata": {
        "id": "A4EngV25qfSt"
      },
      "execution_count": 106,
      "outputs": []
    },
    {
      "cell_type": "code",
      "source": [
        "#Sustituir valores nulos por un str en concreto \n",
        "data[\"318_shopkeeper_name\"]= data[\"318_shopkeeper_name\"].fillna(\"nothing\")\n",
        "#Este método llamado valores por un str en concreto se utilizo para la sustitución de valores nulos en el apartado de 300_did_not_find, ya que son valores de tipo str.\n",
        "#Se sustituyo por la palabra \"nothing\"."
      ],
      "metadata": {
        "id": "d6rCn6vdqfUE"
      },
      "execution_count": 107,
      "outputs": []
    },
    {
      "cell_type": "code",
      "source": [
        "#Sustituir valores nulos por un str en concreto \n",
        "data[\"319_shopkeepers_last_name\"]= data[\"319_shopkeepers_last_name\"].fillna(\"nothing\")\n",
        "#Este método llamado valores por un str en concreto se utilizo para la sustitución de valores nulos en el apartado de 300_did_not_find, ya que son valores de tipo str.\n",
        "#Se sustituyo por la palabra \"nothing\"."
      ],
      "metadata": {
        "id": "h-nxjWyFqfVZ"
      },
      "execution_count": 108,
      "outputs": []
    },
    {
      "cell_type": "code",
      "source": [
        "#Sustituir valores nulos por un str en concreto \n",
        "data[\"236_whatsapp\"]= data[\"236_whatsapp\"].fillna(\"nothing\")\n",
        "#Este método llamado valores por un str en concreto se utilizo para la sustitución de valores nulos en el apartado de 300_did_not_find, ya que son valores de tipo str.\n",
        "#Se sustituyo por la palabra \"nothing\"."
      ],
      "metadata": {
        "id": "8UwLIsOUqfWp"
      },
      "execution_count": 109,
      "outputs": []
    },
    {
      "cell_type": "code",
      "source": [
        "#Sustituir valores nulos por un str en concreto \n",
        "data[\"235_email\"]= data[\"235_email\"].fillna(\"nothing\")\n",
        "#Este método llamado valores por un str en concreto se utilizo para la sustitución de valores nulos en el apartado de 300_did_not_find, ya que son valores de tipo str.\n",
        "#Se sustituyo por la palabra \"nothing\"."
      ],
      "metadata": {
        "id": "dkJs0nOxqfYg"
      },
      "execution_count": 110,
      "outputs": []
    },
    {
      "cell_type": "code",
      "source": [
        "#Sustituir valores nulos por un str en concreto \n",
        "data[\"184_store_devices\"]= data[\"184_store_devices\"].fillna(\"nothing\")\n",
        "#Este método llamado valores por un str en concreto se utilizo para la sustitución de valores nulos en el apartado de 300_did_not_find, ya que son valores de tipo str.\n",
        "#Se sustituyo por la palabra \"nothing\"."
      ],
      "metadata": {
        "id": "XU3FF6fAsnfX"
      },
      "execution_count": 132,
      "outputs": []
    },
    {
      "cell_type": "code",
      "source": [
        "#Corroboramos valores nulos \n",
        "valores_nulos=data.isnull().sum().sum()\n",
        "valores_nulos"
      ],
      "metadata": {
        "colab": {
          "base_uri": "https://localhost:8080/"
        },
        "id": "3ai4FFk2rcAe",
        "outputId": "faeceed8-2193-4176-b57b-b99ab4e82470"
      },
      "execution_count": 138,
      "outputs": [
        {
          "output_type": "execute_result",
          "data": {
            "text/plain": [
              "0"
            ]
          },
          "metadata": {},
          "execution_count": 138
        }
      ]
    },
    {
      "cell_type": "code",
      "source": [
        "data.info(int)"
      ],
      "metadata": {
        "colab": {
          "base_uri": "https://localhost:8080/"
        },
        "id": "bbXlQ2fy2ZkG",
        "outputId": "eca2b465-4bf3-48d0-c36e-4ec5ba2cab90"
      },
      "execution_count": 141,
      "outputs": [
        {
          "output_type": "stream",
          "name": "stdout",
          "text": [
            "<class 'pandas.core.frame.DataFrame'>\n",
            "RangeIndex: 171 entries, 0 to 170\n",
            "Data columns (total 106 columns):\n",
            " #    Column                                                      Dtype  \n",
            "---   ------                                                      -----  \n",
            " 0    _record_id                                                  object \n",
            " 1    _title                                                      object \n",
            " 2    _server_updated_at                                          object \n",
            " 3    _updated_by                                                 object \n",
            " 4    _geometry                                                   object \n",
            " 5    _latitude                                                   float64\n",
            " 6    _longitude                                                  float64\n",
            " 7    228_store_name                                              object \n",
            " 8    229_store_picture                                           object \n",
            " 9    232_type_of_store                                           object \n",
            " 10   108_does_the_micro_retailer_has_a_barred_window_            object \n",
            " 11   99_does_the_micro_retailer_exhibits_products_outside_       object \n",
            " 12   102_does_the_micro_retailer_sells_fresh_products_           object \n",
            " 13   97_number_of_customers_in_store                             int64  \n",
            " 14   268_number_fridges                                          object \n",
            " 15   184_store_devices                                           object \n",
            " 16   104_how_many_shelves_does_the_micro_retailer_have           int64  \n",
            " 17   pictures_of_shelves_if_possible                             object \n",
            " 18   hola_somos_estudiantes_del_tec_de_monterrey_estamos_realiz  object \n",
            " 19   le_comento_que_toda_esta_informacin_es_confidencial         object \n",
            " 20   233_date_establishment                                      object \n",
            " 21   2_current_permanent_employees                               object \n",
            " 22   4_number_permanent_employees_last_year                      object \n",
            " 23   5_change_store_space_last_year                              object \n",
            " 24   6_change_employees_average_salary_last_year                 object \n",
            " 25   20_reviews_finances_monthly                                 object \n",
            " 26   49_inventory_records                                        object \n",
            " 27   18_sales_records                                            object \n",
            " 28   155_sales_registers_used_for                                object \n",
            " 29   103_number_own_fridges                                      object \n",
            " 30   19_tax_id                                                   object \n",
            " 31   145_number_direct_competitors                               object \n",
            " 32   310_burnout                                                 object \n",
            " 33   24_burnout                                                  object \n",
            " 34   186_internet_connection                                     object \n",
            " 35   210_sales_channels                                          object \n",
            " 36   189_payment_methods                                         object \n",
            " 37   28_prefered_payment_method                                  object \n",
            " 38   31_different_prices_payment_method                          object \n",
            " 39   269_cash_discount                                           object \n",
            " 40   270_card_extra_charge                                       object \n",
            " 41   271_card_fee                                                object \n",
            " 42   272_card_days_receive_money                                 object \n",
            " 43   273_platform_extra_charge                                   object \n",
            " 44   274_platform_fee                                            object \n",
            " 45   275_platform_days_receive_money                             object \n",
            " 46   30_payment_methods_large_purchases                          object \n",
            " 47   214_customer_relationship_tools                             object \n",
            " 48   33_credit_to_customers                                      object \n",
            " 49   276_expected_days_informal_credit                           object \n",
            " 50   35_interest_rate                                            object \n",
            " 51   36_credit_default_rate                                      object \n",
            " 52   38_average_margin_profits                                   object \n",
            " 53   193_sales_planning_tools                                    object \n",
            " 54   227_agreement_ecommerce_platforms                           object \n",
            " 55   60_services                                                 object \n",
            " 56   315_frequency_topups                                        object \n",
            " 57   316_frequency_utility_bills                                 object \n",
            " 58   317_home_deliveries                                         object \n",
            " 59   62_frequency_only_services                                  object \n",
            " 60   78_number_home_deliveries_week                              object \n",
            " 61   77_delivery_timeslots                                       object \n",
            " 62   79_delivery_vehicle                                         object \n",
            " 63   64_comission_services                                       object \n",
            " 64   66_percentaje_services_income                               object \n",
            " 65   69_why_not_services                                         object \n",
            " 66   311_topups                                                  object \n",
            " 67   312_payment_of_utilities                                    object \n",
            " 68   313_home_deliveries                                         object \n",
            " 69   314_reception_delivery_packages                             object \n",
            " 70   42_willingness_share_inventory_data_suppliers               object \n",
            " 71   44_willingness_inventory_management_suppliers               object \n",
            " 72   45_willingness_reorder_suppliers                            object \n",
            " 73   46_willingness_reorder_suppliers_variety                    object \n",
            " 74   47_willingness_reorder_suppliers_lower_prices               object \n",
            " 75   43_willingness_share_sales_data_suppliers                   object \n",
            " 76   58_willingness_share_sales_data_mse                         object \n",
            " 77   59_willingness_share_sales_data_mse_better_prices           object \n",
            " 78   172_supplier_frequency                                      object \n",
            " 79   185_place_orders_suppliers                                  object \n",
            " 80   53_special_conditions_suppliers                             object \n",
            " 81   278_credit_interest                                         object \n",
            " 82   192_procurement_planning_tools                              object \n",
            " 83   277_payment_method_suppliers                                object \n",
            " 84   56_procurement_changes_pandemic                             object \n",
            " 85   279_changes_procurement_pandemic                            object \n",
            " 86   157_frequency_organize_shelves                              object \n",
            " 87   158_charact_organize_products_on_shelves                    object \n",
            " 88   161_actions_stockouts                                       object \n",
            " 89   162_inventory_extra_space                                   object \n",
            " 90   163_number_high_perishable_products                         object \n",
            " 91   249_technology_training                                     object \n",
            " 92   250_technology_investment_operations                        object \n",
            " 93   251_technology_investment_customers                         object \n",
            " 94   254_technology_roadmap                                      object \n",
            " 95   260_technology_scalable                                     object \n",
            " 96   261_technology_organization                                 object \n",
            " 97   262_technology_serve_customers                              object \n",
            " 98   263_technology_secure_sales                                 object \n",
            " 99   264_technology_budget                                       object \n",
            " 100  267_technology_investment_customer_preferences              object \n",
            " 101  234_willingness_participate_workshop                        object \n",
            " 102  318_shopkeeper_name                                         object \n",
            " 103  319_shopkeepers_last_name                                   object \n",
            " 104  236_whatsapp                                                object \n",
            " 105  235_email                                                   object \n",
            "dtypes: float64(2), int64(2), object(102)\n",
            "memory usage: 141.7+ KB\n"
          ]
        }
      ]
    },
    {
      "cell_type": "code",
      "source": [
        "#Filtro por columnas\n",
        "filtro_col=data.iloc[ : , [0,1,2,3,4,5,6,7,8,10,11,12,14,15,17,18,19,20,21,22,23,24,25,26,27,28,29,30,31,32,33,34,35,36,37,38,39,40,41,42,43,44,45,46,47,48,49,50,51,52,53,54,55,56,57,58,59,60,61,62,63,64,65,66,67,68,69,70,71,72,73,74,75,76,77,78,79,80,81,82,83,84,85,86,87,88,89,90,91,92,93,94,95,96,97,98,99,100,101,102,103,104,105]]\n",
        "filtro_col"
      ],
      "metadata": {
        "id": "5cItzK5L3_lJ"
      },
      "execution_count": null,
      "outputs": []
    },
    {
      "cell_type": "code",
      "source": [
        "#Filtro por columnas\n",
        "filtro_i=data.iloc[ : , [13,16]]\n",
        "filtro_i"
      ],
      "metadata": {
        "colab": {
          "base_uri": "https://localhost:8080/",
          "height": 424
        },
        "id": "CEG7tIL_47YD",
        "outputId": "edcec025-7ad0-4669-d7a5-76f8bdb6b47a"
      },
      "execution_count": 145,
      "outputs": [
        {
          "output_type": "execute_result",
          "data": {
            "text/plain": [
              "     97_number_of_customers_in_store  \\\n",
              "0                                  2   \n",
              "1                                  0   \n",
              "2                                  0   \n",
              "3                                  0   \n",
              "4                                  0   \n",
              "..                               ...   \n",
              "166                                1   \n",
              "167                                1   \n",
              "168                                3   \n",
              "169                                0   \n",
              "170                                1   \n",
              "\n",
              "     104_how_many_shelves_does_the_micro_retailer_have  \n",
              "0                                                    4  \n",
              "1                                                    8  \n",
              "2                                                   24  \n",
              "3                                                    2  \n",
              "4                                                   16  \n",
              "..                                                 ...  \n",
              "166                                                  5  \n",
              "167                                                  5  \n",
              "168                                                  1  \n",
              "169                                                  1  \n",
              "170                                                  1  \n",
              "\n",
              "[171 rows x 2 columns]"
            ],
            "text/html": [
              "\n",
              "  <div id=\"df-f5d9d9d3-d44d-4172-9ba2-69d7ad9f00da\">\n",
              "    <div class=\"colab-df-container\">\n",
              "      <div>\n",
              "<style scoped>\n",
              "    .dataframe tbody tr th:only-of-type {\n",
              "        vertical-align: middle;\n",
              "    }\n",
              "\n",
              "    .dataframe tbody tr th {\n",
              "        vertical-align: top;\n",
              "    }\n",
              "\n",
              "    .dataframe thead th {\n",
              "        text-align: right;\n",
              "    }\n",
              "</style>\n",
              "<table border=\"1\" class=\"dataframe\">\n",
              "  <thead>\n",
              "    <tr style=\"text-align: right;\">\n",
              "      <th></th>\n",
              "      <th>97_number_of_customers_in_store</th>\n",
              "      <th>104_how_many_shelves_does_the_micro_retailer_have</th>\n",
              "    </tr>\n",
              "  </thead>\n",
              "  <tbody>\n",
              "    <tr>\n",
              "      <th>0</th>\n",
              "      <td>2</td>\n",
              "      <td>4</td>\n",
              "    </tr>\n",
              "    <tr>\n",
              "      <th>1</th>\n",
              "      <td>0</td>\n",
              "      <td>8</td>\n",
              "    </tr>\n",
              "    <tr>\n",
              "      <th>2</th>\n",
              "      <td>0</td>\n",
              "      <td>24</td>\n",
              "    </tr>\n",
              "    <tr>\n",
              "      <th>3</th>\n",
              "      <td>0</td>\n",
              "      <td>2</td>\n",
              "    </tr>\n",
              "    <tr>\n",
              "      <th>4</th>\n",
              "      <td>0</td>\n",
              "      <td>16</td>\n",
              "    </tr>\n",
              "    <tr>\n",
              "      <th>...</th>\n",
              "      <td>...</td>\n",
              "      <td>...</td>\n",
              "    </tr>\n",
              "    <tr>\n",
              "      <th>166</th>\n",
              "      <td>1</td>\n",
              "      <td>5</td>\n",
              "    </tr>\n",
              "    <tr>\n",
              "      <th>167</th>\n",
              "      <td>1</td>\n",
              "      <td>5</td>\n",
              "    </tr>\n",
              "    <tr>\n",
              "      <th>168</th>\n",
              "      <td>3</td>\n",
              "      <td>1</td>\n",
              "    </tr>\n",
              "    <tr>\n",
              "      <th>169</th>\n",
              "      <td>0</td>\n",
              "      <td>1</td>\n",
              "    </tr>\n",
              "    <tr>\n",
              "      <th>170</th>\n",
              "      <td>1</td>\n",
              "      <td>1</td>\n",
              "    </tr>\n",
              "  </tbody>\n",
              "</table>\n",
              "<p>171 rows × 2 columns</p>\n",
              "</div>\n",
              "      <button class=\"colab-df-convert\" onclick=\"convertToInteractive('df-f5d9d9d3-d44d-4172-9ba2-69d7ad9f00da')\"\n",
              "              title=\"Convert this dataframe to an interactive table.\"\n",
              "              style=\"display:none;\">\n",
              "        \n",
              "  <svg xmlns=\"http://www.w3.org/2000/svg\" height=\"24px\"viewBox=\"0 0 24 24\"\n",
              "       width=\"24px\">\n",
              "    <path d=\"M0 0h24v24H0V0z\" fill=\"none\"/>\n",
              "    <path d=\"M18.56 5.44l.94 2.06.94-2.06 2.06-.94-2.06-.94-.94-2.06-.94 2.06-2.06.94zm-11 1L8.5 8.5l.94-2.06 2.06-.94-2.06-.94L8.5 2.5l-.94 2.06-2.06.94zm10 10l.94 2.06.94-2.06 2.06-.94-2.06-.94-.94-2.06-.94 2.06-2.06.94z\"/><path d=\"M17.41 7.96l-1.37-1.37c-.4-.4-.92-.59-1.43-.59-.52 0-1.04.2-1.43.59L10.3 9.45l-7.72 7.72c-.78.78-.78 2.05 0 2.83L4 21.41c.39.39.9.59 1.41.59.51 0 1.02-.2 1.41-.59l7.78-7.78 2.81-2.81c.8-.78.8-2.07 0-2.86zM5.41 20L4 18.59l7.72-7.72 1.47 1.35L5.41 20z\"/>\n",
              "  </svg>\n",
              "      </button>\n",
              "      \n",
              "  <style>\n",
              "    .colab-df-container {\n",
              "      display:flex;\n",
              "      flex-wrap:wrap;\n",
              "      gap: 12px;\n",
              "    }\n",
              "\n",
              "    .colab-df-convert {\n",
              "      background-color: #E8F0FE;\n",
              "      border: none;\n",
              "      border-radius: 50%;\n",
              "      cursor: pointer;\n",
              "      display: none;\n",
              "      fill: #1967D2;\n",
              "      height: 32px;\n",
              "      padding: 0 0 0 0;\n",
              "      width: 32px;\n",
              "    }\n",
              "\n",
              "    .colab-df-convert:hover {\n",
              "      background-color: #E2EBFA;\n",
              "      box-shadow: 0px 1px 2px rgba(60, 64, 67, 0.3), 0px 1px 3px 1px rgba(60, 64, 67, 0.15);\n",
              "      fill: #174EA6;\n",
              "    }\n",
              "\n",
              "    [theme=dark] .colab-df-convert {\n",
              "      background-color: #3B4455;\n",
              "      fill: #D2E3FC;\n",
              "    }\n",
              "\n",
              "    [theme=dark] .colab-df-convert:hover {\n",
              "      background-color: #434B5C;\n",
              "      box-shadow: 0px 1px 3px 1px rgba(0, 0, 0, 0.15);\n",
              "      filter: drop-shadow(0px 1px 2px rgba(0, 0, 0, 0.3));\n",
              "      fill: #FFFFFF;\n",
              "    }\n",
              "  </style>\n",
              "\n",
              "      <script>\n",
              "        const buttonEl =\n",
              "          document.querySelector('#df-f5d9d9d3-d44d-4172-9ba2-69d7ad9f00da button.colab-df-convert');\n",
              "        buttonEl.style.display =\n",
              "          google.colab.kernel.accessAllowed ? 'block' : 'none';\n",
              "\n",
              "        async function convertToInteractive(key) {\n",
              "          const element = document.querySelector('#df-f5d9d9d3-d44d-4172-9ba2-69d7ad9f00da');\n",
              "          const dataTable =\n",
              "            await google.colab.kernel.invokeFunction('convertToInteractive',\n",
              "                                                     [key], {});\n",
              "          if (!dataTable) return;\n",
              "\n",
              "          const docLinkHtml = 'Like what you see? Visit the ' +\n",
              "            '<a target=\"_blank\" href=https://colab.research.google.com/notebooks/data_table.ipynb>data table notebook</a>'\n",
              "            + ' to learn more about interactive tables.';\n",
              "          element.innerHTML = '';\n",
              "          dataTable['output_type'] = 'display_data';\n",
              "          await google.colab.output.renderOutput(dataTable, element);\n",
              "          const docLink = document.createElement('div');\n",
              "          docLink.innerHTML = docLinkHtml;\n",
              "          element.appendChild(docLink);\n",
              "        }\n",
              "      </script>\n",
              "    </div>\n",
              "  </div>\n",
              "  "
            ]
          },
          "metadata": {},
          "execution_count": 145
        }
      ]
    },
    {
      "cell_type": "code",
      "source": [
        "#Corroboramos valores nulos \n",
        "valores_nulos=filtro_i.isnull().sum()\n",
        "valores_nulos"
      ],
      "metadata": {
        "colab": {
          "base_uri": "https://localhost:8080/"
        },
        "id": "GuHR-Ih75FDt",
        "outputId": "388a72da-7c51-4e47-bf93-01389ef94def"
      },
      "execution_count": 146,
      "outputs": [
        {
          "output_type": "execute_result",
          "data": {
            "text/plain": [
              "97_number_of_customers_in_store                      0\n",
              "104_how_many_shelves_does_the_micro_retailer_have    0\n",
              "dtype: int64"
            ]
          },
          "metadata": {},
          "execution_count": 146
        }
      ]
    },
    {
      "cell_type": "markdown",
      "source": [
        "Procedemos a remplazar outliers "
      ],
      "metadata": {
        "id": "IfinBzCJ5KMC"
      }
    },
    {
      "cell_type": "code",
      "source": [
        "#Realizamos diagrama de caja o bigote de cada columna del dataframe \n",
        "fig = plt.figure(figsize =(15, 8))\n",
        "filtro_i.plot(kind='box', vert=False)\n",
        "plt.title(\"Valores Atípicos del Dataframe\")\n",
        "plt.show() #Dibujamos el diagrama"
      ],
      "metadata": {
        "colab": {
          "base_uri": "https://localhost:8080/",
          "height": 298
        },
        "id": "HILqoJck5K2U",
        "outputId": "6a4ceb4d-1094-4faa-96e0-73ee94741930"
      },
      "execution_count": 147,
      "outputs": [
        {
          "output_type": "display_data",
          "data": {
            "text/plain": [
              "<Figure size 1080x576 with 0 Axes>"
            ]
          },
          "metadata": {}
        },
        {
          "output_type": "display_data",
          "data": {
            "text/plain": [
              "<Figure size 432x288 with 1 Axes>"
            ],
            "image/png": "[encoded data removed]"
          },
          "metadata": {
            "needs_background": "light"
          }
        }
      ]
    },
    {
      "cell_type": "code",
      "source": [
        "#Realizamos diagrama de caja o bigote\n",
        "fig = plt.figure(figsize =(10, 6))\n",
        "plt.boxplot(filtro_i[\"104_how_many_shelves_does_the_micro_retailer_have\"])\n",
        "plt.title(\"Valores atípicos del DataFrame\")\n",
        "plt.show() #dibujamos el diagrama"
      ],
      "metadata": {
        "colab": {
          "base_uri": "https://localhost:8080/",
          "height": 390
        },
        "id": "6zjPPPUh5QRu",
        "outputId": "d654a6b9-a602-4e86-c3f2-75c1ebd445df"
      },
      "execution_count": 149,
      "outputs": [
        {
          "output_type": "display_data",
          "data": {
            "text/plain": [
              "<Figure size 720x432 with 1 Axes>"
            ],
            "image/png": "[encoded data removed]"
          },
          "metadata": {
            "needs_background": "light"
          }
        }
      ]
    },
    {
      "cell_type": "markdown",
      "source": [
        "Método de desviación estandar \n",
        "Esté método se aplico para sustituir valores atípicos del DataFrame, encontrando los valores extremos, como siguiente paso encontrar los outliers, y así obtener datos limpios, estos valores se remplazaron con \"mean\"."
      ],
      "metadata": {
        "id": "3bZ2nERP5vXt"
      }
    },
    {
      "cell_type": "code",
      "source": [
        "#Método aplicando desviación estándar. Encuentro los valores extremos\n",
        "y=filtro_i\n",
        "Limite_Superior= y.mean() + 3*y.std()\n",
        "Limite_Inferior= y.mean() - 3*y.std()\n",
        "print(\"Límite superior permitido\", Limite_Superior)\n",
        "print(\"Limite inferior permitido\", Limite_Inferior)"
      ],
      "metadata": {
        "colab": {
          "base_uri": "https://localhost:8080/"
        },
        "id": "Y5i9CRVV5wdf",
        "outputId": "5cf39c99-40e6-448f-80b5-8a62e790d766"
      },
      "execution_count": 150,
      "outputs": [
        {
          "output_type": "stream",
          "name": "stdout",
          "text": [
            "Límite superior permitido 97_number_of_customers_in_store                       6.591777\n",
            "104_how_many_shelves_does_the_micro_retailer_have    55.812917\n",
            "dtype: float64\n",
            "Limite inferior permitido 97_number_of_customers_in_store                      -3.808151\n",
            "104_how_many_shelves_does_the_micro_retailer_have   -42.397712\n",
            "dtype: float64\n"
          ]
        }
      ]
    },
    {
      "cell_type": "code",
      "source": [
        "#Encontramos Outliers\n",
        "outliers= filtro_i[(y>Limite_Superior)|(y<Limite_Inferior)]\n",
        "outliers"
      ],
      "metadata": {
        "colab": {
          "base_uri": "https://localhost:8080/",
          "height": 424
        },
        "id": "qymSf72s5zs2",
        "outputId": "38ae25e7-16a1-4b07-ebcc-3e962f8b778f"
      },
      "execution_count": 151,
      "outputs": [
        {
          "output_type": "execute_result",
          "data": {
            "text/plain": [
              "     97_number_of_customers_in_store  \\\n",
              "0                                NaN   \n",
              "1                                NaN   \n",
              "2                                NaN   \n",
              "3                                NaN   \n",
              "4                                NaN   \n",
              "..                               ...   \n",
              "166                              NaN   \n",
              "167                              NaN   \n",
              "168                              NaN   \n",
              "169                              NaN   \n",
              "170                              NaN   \n",
              "\n",
              "     104_how_many_shelves_does_the_micro_retailer_have  \n",
              "0                                                  NaN  \n",
              "1                                                  NaN  \n",
              "2                                                  NaN  \n",
              "3                                                  NaN  \n",
              "4                                                  NaN  \n",
              "..                                                 ...  \n",
              "166                                                NaN  \n",
              "167                                                NaN  \n",
              "168                                                NaN  \n",
              "169                                                NaN  \n",
              "170                                                NaN  \n",
              "\n",
              "[171 rows x 2 columns]"
            ],
            "text/html": [
              "\n",
              "  <div id=\"df-6f333878-7c0b-4611-8fe3-ff825b39b6e1\">\n",
              "    <div class=\"colab-df-container\">\n",
              "      <div>\n",
              "<style scoped>\n",
              "    .dataframe tbody tr th:only-of-type {\n",
              "        vertical-align: middle;\n",
              "    }\n",
              "\n",
              "    .dataframe tbody tr th {\n",
              "        vertical-align: top;\n",
              "    }\n",
              "\n",
              "    .dataframe thead th {\n",
              "        text-align: right;\n",
              "    }\n",
              "</style>\n",
              "<table border=\"1\" class=\"dataframe\">\n",
              "  <thead>\n",
              "    <tr style=\"text-align: right;\">\n",
              "      <th></th>\n",
              "      <th>97_number_of_customers_in_store</th>\n",
              "      <th>104_how_many_shelves_does_the_micro_retailer_have</th>\n",
              "    </tr>\n",
              "  </thead>\n",
              "  <tbody>\n",
              "    <tr>\n",
              "      <th>0</th>\n",
              "      <td>NaN</td>\n",
              "      <td>NaN</td>\n",
              "    </tr>\n",
              "    <tr>\n",
              "      <th>1</th>\n",
              "      <td>NaN</td>\n",
              "      <td>NaN</td>\n",
              "    </tr>\n",
              "    <tr>\n",
              "      <th>2</th>\n",
              "      <td>NaN</td>\n",
              "      <td>NaN</td>\n",
              "    </tr>\n",
              "    <tr>\n",
              "      <th>3</th>\n",
              "      <td>NaN</td>\n",
              "      <td>NaN</td>\n",
              "    </tr>\n",
              "    <tr>\n",
              "      <th>4</th>\n",
              "      <td>NaN</td>\n",
              "      <td>NaN</td>\n",
              "    </tr>\n",
              "    <tr>\n",
              "      <th>...</th>\n",
              "      <td>...</td>\n",
              "      <td>...</td>\n",
              "    </tr>\n",
              "    <tr>\n",
              "      <th>166</th>\n",
              "      <td>NaN</td>\n",
              "      <td>NaN</td>\n",
              "    </tr>\n",
              "    <tr>\n",
              "      <th>167</th>\n",
              "      <td>NaN</td>\n",
              "      <td>NaN</td>\n",
              "    </tr>\n",
              "    <tr>\n",
              "      <th>168</th>\n",
              "      <td>NaN</td>\n",
              "      <td>NaN</td>\n",
              "    </tr>\n",
              "    <tr>\n",
              "      <th>169</th>\n",
              "      <td>NaN</td>\n",
              "      <td>NaN</td>\n",
              "    </tr>\n",
              "    <tr>\n",
              "      <th>170</th>\n",
              "      <td>NaN</td>\n",
              "      <td>NaN</td>\n",
              "    </tr>\n",
              "  </tbody>\n",
              "</table>\n",
              "<p>171 rows × 2 columns</p>\n",
              "</div>\n",
              "      <button class=\"colab-df-convert\" onclick=\"convertToInteractive('df-6f333878-7c0b-4611-8fe3-ff825b39b6e1')\"\n",
              "              title=\"Convert this dataframe to an interactive table.\"\n",
              "              style=\"display:none;\">\n",
              "        \n",
              "  <svg xmlns=\"http://www.w3.org/2000/svg\" height=\"24px\"viewBox=\"0 0 24 24\"\n",
              "       width=\"24px\">\n",
              "    <path d=\"M0 0h24v24H0V0z\" fill=\"none\"/>\n",
              "    <path d=\"M18.56 5.44l.94 2.06.94-2.06 2.06-.94-2.06-.94-.94-2.06-.94 2.06-2.06.94zm-11 1L8.5 8.5l.94-2.06 2.06-.94-2.06-.94L8.5 2.5l-.94 2.06-2.06.94zm10 10l.94 2.06.94-2.06 2.06-.94-2.06-.94-.94-2.06-.94 2.06-2.06.94z\"/><path d=\"M17.41 7.96l-1.37-1.37c-.4-.4-.92-.59-1.43-.59-.52 0-1.04.2-1.43.59L10.3 9.45l-7.72 7.72c-.78.78-.78 2.05 0 2.83L4 21.41c.39.39.9.59 1.41.59.51 0 1.02-.2 1.41-.59l7.78-7.78 2.81-2.81c.8-.78.8-2.07 0-2.86zM5.41 20L4 18.59l7.72-7.72 1.47 1.35L5.41 20z\"/>\n",
              "  </svg>\n",
              "      </button>\n",
              "      \n",
              "  <style>\n",
              "    .colab-df-container {\n",
              "      display:flex;\n",
              "      flex-wrap:wrap;\n",
              "      gap: 12px;\n",
              "    }\n",
              "\n",
              "    .colab-df-convert {\n",
              "      background-color: #E8F0FE;\n",
              "      border: none;\n",
              "      border-radius: 50%;\n",
              "      cursor: pointer;\n",
              "      display: none;\n",
              "      fill: #1967D2;\n",
              "      height: 32px;\n",
              "      padding: 0 0 0 0;\n",
              "      width: 32px;\n",
              "    }\n",
              "\n",
              "    .colab-df-convert:hover {\n",
              "      background-color: #E2EBFA;\n",
              "      box-shadow: 0px 1px 2px rgba(60, 64, 67, 0.3), 0px 1px 3px 1px rgba(60, 64, 67, 0.15);\n",
              "      fill: #174EA6;\n",
              "    }\n",
              "\n",
              "    [theme=dark] .colab-df-convert {\n",
              "      background-color: #3B4455;\n",
              "      fill: #D2E3FC;\n",
              "    }\n",
              "\n",
              "    [theme=dark] .colab-df-convert:hover {\n",
              "      background-color: #434B5C;\n",
              "      box-shadow: 0px 1px 3px 1px rgba(0, 0, 0, 0.15);\n",
              "      filter: drop-shadow(0px 1px 2px rgba(0, 0, 0, 0.3));\n",
              "      fill: #FFFFFF;\n",
              "    }\n",
              "  </style>\n",
              "\n",
              "      <script>\n",
              "        const buttonEl =\n",
              "          document.querySelector('#df-6f333878-7c0b-4611-8fe3-ff825b39b6e1 button.colab-df-convert');\n",
              "        buttonEl.style.display =\n",
              "          google.colab.kernel.accessAllowed ? 'block' : 'none';\n",
              "\n",
              "        async function convertToInteractive(key) {\n",
              "          const element = document.querySelector('#df-6f333878-7c0b-4611-8fe3-ff825b39b6e1');\n",
              "          const dataTable =\n",
              "            await google.colab.kernel.invokeFunction('convertToInteractive',\n",
              "                                                     [key], {});\n",
              "          if (!dataTable) return;\n",
              "\n",
              "          const docLinkHtml = 'Like what you see? Visit the ' +\n",
              "            '<a target=\"_blank\" href=https://colab.research.google.com/notebooks/data_table.ipynb>data table notebook</a>'\n",
              "            + ' to learn more about interactive tables.';\n",
              "          element.innerHTML = '';\n",
              "          dataTable['output_type'] = 'display_data';\n",
              "          await google.colab.output.renderOutput(dataTable, element);\n",
              "          const docLink = document.createElement('div');\n",
              "          docLink.innerHTML = docLinkHtml;\n",
              "          element.appendChild(docLink);\n",
              "        }\n",
              "      </script>\n",
              "    </div>\n",
              "  </div>\n",
              "  "
            ]
          },
          "metadata": {},
          "execution_count": 151
        }
      ]
    },
    {
      "cell_type": "code",
      "source": [
        "#Obtenemos datos limpios\n",
        "filtroi_clean= filtro_i[(y<=Limite_Superior)&(y>=Limite_Inferior)]\n",
        "filtroi_clean"
      ],
      "metadata": {
        "colab": {
          "base_uri": "https://localhost:8080/",
          "height": 424
        },
        "id": "_FWyf3LD525a",
        "outputId": "e69d5de8-aa75-45c6-c0e6-e360407a678d"
      },
      "execution_count": 152,
      "outputs": [
        {
          "output_type": "execute_result",
          "data": {
            "text/plain": [
              "     97_number_of_customers_in_store  \\\n",
              "0                                2.0   \n",
              "1                                0.0   \n",
              "2                                0.0   \n",
              "3                                0.0   \n",
              "4                                0.0   \n",
              "..                               ...   \n",
              "166                              1.0   \n",
              "167                              1.0   \n",
              "168                              3.0   \n",
              "169                              0.0   \n",
              "170                              1.0   \n",
              "\n",
              "     104_how_many_shelves_does_the_micro_retailer_have  \n",
              "0                                                  4.0  \n",
              "1                                                  8.0  \n",
              "2                                                 24.0  \n",
              "3                                                  2.0  \n",
              "4                                                 16.0  \n",
              "..                                                 ...  \n",
              "166                                                5.0  \n",
              "167                                                5.0  \n",
              "168                                                1.0  \n",
              "169                                                1.0  \n",
              "170                                                1.0  \n",
              "\n",
              "[171 rows x 2 columns]"
            ],
            "text/html": [
              "\n",
              "  <div id=\"df-a2f2a212-4e5c-41dc-85af-525219ab9f3a\">\n",
              "    <div class=\"colab-df-container\">\n",
              "      <div>\n",
              "<style scoped>\n",
              "    .dataframe tbody tr th:only-of-type {\n",
              "        vertical-align: middle;\n",
              "    }\n",
              "\n",
              "    .dataframe tbody tr th {\n",
              "        vertical-align: top;\n",
              "    }\n",
              "\n",
              "    .dataframe thead th {\n",
              "        text-align: right;\n",
              "    }\n",
              "</style>\n",
              "<table border=\"1\" class=\"dataframe\">\n",
              "  <thead>\n",
              "    <tr style=\"text-align: right;\">\n",
              "      <th></th>\n",
              "      <th>97_number_of_customers_in_store</th>\n",
              "      <th>104_how_many_shelves_does_the_micro_retailer_have</th>\n",
              "    </tr>\n",
              "  </thead>\n",
              "  <tbody>\n",
              "    <tr>\n",
              "      <th>0</th>\n",
              "      <td>2.0</td>\n",
              "      <td>4.0</td>\n",
              "    </tr>\n",
              "    <tr>\n",
              "      <th>1</th>\n",
              "      <td>0.0</td>\n",
              "      <td>8.0</td>\n",
              "    </tr>\n",
              "    <tr>\n",
              "      <th>2</th>\n",
              "      <td>0.0</td>\n",
              "      <td>24.0</td>\n",
              "    </tr>\n",
              "    <tr>\n",
              "      <th>3</th>\n",
              "      <td>0.0</td>\n",
              "      <td>2.0</td>\n",
              "    </tr>\n",
              "    <tr>\n",
              "      <th>4</th>\n",
              "      <td>0.0</td>\n",
              "      <td>16.0</td>\n",
              "    </tr>\n",
              "    <tr>\n",
              "      <th>...</th>\n",
              "      <td>...</td>\n",
              "      <td>...</td>\n",
              "    </tr>\n",
              "    <tr>\n",
              "      <th>166</th>\n",
              "      <td>1.0</td>\n",
              "      <td>5.0</td>\n",
              "    </tr>\n",
              "    <tr>\n",
              "      <th>167</th>\n",
              "      <td>1.0</td>\n",
              "      <td>5.0</td>\n",
              "    </tr>\n",
              "    <tr>\n",
              "      <th>168</th>\n",
              "      <td>3.0</td>\n",
              "      <td>1.0</td>\n",
              "    </tr>\n",
              "    <tr>\n",
              "      <th>169</th>\n",
              "      <td>0.0</td>\n",
              "      <td>1.0</td>\n",
              "    </tr>\n",
              "    <tr>\n",
              "      <th>170</th>\n",
              "      <td>1.0</td>\n",
              "      <td>1.0</td>\n",
              "    </tr>\n",
              "  </tbody>\n",
              "</table>\n",
              "<p>171 rows × 2 columns</p>\n",
              "</div>\n",
              "      <button class=\"colab-df-convert\" onclick=\"convertToInteractive('df-a2f2a212-4e5c-41dc-85af-525219ab9f3a')\"\n",
              "              title=\"Convert this dataframe to an interactive table.\"\n",
              "              style=\"display:none;\">\n",
              "        \n",
              "  <svg xmlns=\"http://www.w3.org/2000/svg\" height=\"24px\"viewBox=\"0 0 24 24\"\n",
              "       width=\"24px\">\n",
              "    <path d=\"M0 0h24v24H0V0z\" fill=\"none\"/>\n",
              "    <path d=\"M18.56 5.44l.94 2.06.94-2.06 2.06-.94-2.06-.94-.94-2.06-.94 2.06-2.06.94zm-11 1L8.5 8.5l.94-2.06 2.06-.94-2.06-.94L8.5 2.5l-.94 2.06-2.06.94zm10 10l.94 2.06.94-2.06 2.06-.94-2.06-.94-.94-2.06-.94 2.06-2.06.94z\"/><path d=\"M17.41 7.96l-1.37-1.37c-.4-.4-.92-.59-1.43-.59-.52 0-1.04.2-1.43.59L10.3 9.45l-7.72 7.72c-.78.78-.78 2.05 0 2.83L4 21.41c.39.39.9.59 1.41.59.51 0 1.02-.2 1.41-.59l7.78-7.78 2.81-2.81c.8-.78.8-2.07 0-2.86zM5.41 20L4 18.59l7.72-7.72 1.47 1.35L5.41 20z\"/>\n",
              "  </svg>\n",
              "      </button>\n",
              "      \n",
              "  <style>\n",
              "    .colab-df-container {\n",
              "      display:flex;\n",
              "      flex-wrap:wrap;\n",
              "      gap: 12px;\n",
              "    }\n",
              "\n",
              "    .colab-df-convert {\n",
              "      background-color: #E8F0FE;\n",
              "      border: none;\n",
              "      border-radius: 50%;\n",
              "      cursor: pointer;\n",
              "      display: none;\n",
              "      fill: #1967D2;\n",
              "      height: 32px;\n",
              "      padding: 0 0 0 0;\n",
              "      width: 32px;\n",
              "    }\n",
              "\n",
              "    .colab-df-convert:hover {\n",
              "      background-color: #E2EBFA;\n",
              "      box-shadow: 0px 1px 2px rgba(60, 64, 67, 0.3), 0px 1px 3px 1px rgba(60, 64, 67, 0.15);\n",
              "      fill: #174EA6;\n",
              "    }\n",
              "\n",
              "    [theme=dark] .colab-df-convert {\n",
              "      background-color: #3B4455;\n",
              "      fill: #D2E3FC;\n",
              "    }\n",
              "\n",
              "    [theme=dark] .colab-df-convert:hover {\n",
              "      background-color: #434B5C;\n",
              "      box-shadow: 0px 1px 3px 1px rgba(0, 0, 0, 0.15);\n",
              "      filter: drop-shadow(0px 1px 2px rgba(0, 0, 0, 0.3));\n",
              "      fill: #FFFFFF;\n",
              "    }\n",
              "  </style>\n",
              "\n",
              "      <script>\n",
              "        const buttonEl =\n",
              "          document.querySelector('#df-a2f2a212-4e5c-41dc-85af-525219ab9f3a button.colab-df-convert');\n",
              "        buttonEl.style.display =\n",
              "          google.colab.kernel.accessAllowed ? 'block' : 'none';\n",
              "\n",
              "        async function convertToInteractive(key) {\n",
              "          const element = document.querySelector('#df-a2f2a212-4e5c-41dc-85af-525219ab9f3a');\n",
              "          const dataTable =\n",
              "            await google.colab.kernel.invokeFunction('convertToInteractive',\n",
              "                                                     [key], {});\n",
              "          if (!dataTable) return;\n",
              "\n",
              "          const docLinkHtml = 'Like what you see? Visit the ' +\n",
              "            '<a target=\"_blank\" href=https://colab.research.google.com/notebooks/data_table.ipynb>data table notebook</a>'\n",
              "            + ' to learn more about interactive tables.';\n",
              "          element.innerHTML = '';\n",
              "          dataTable['output_type'] = 'display_data';\n",
              "          await google.colab.output.renderOutput(dataTable, element);\n",
              "          const docLink = document.createElement('div');\n",
              "          docLink.innerHTML = docLinkHtml;\n",
              "          element.appendChild(docLink);\n",
              "        }\n",
              "      </script>\n",
              "    </div>\n",
              "  </div>\n",
              "  "
            ]
          },
          "metadata": {},
          "execution_count": 152
        }
      ]
    },
    {
      "cell_type": "code",
      "source": [
        "#Corroboramos valores nulos \n",
        "valores_nulos=filtroi_clean.isnull().sum()\n",
        "valores_nulos"
      ],
      "metadata": {
        "colab": {
          "base_uri": "https://localhost:8080/"
        },
        "id": "4ragDSY056mT",
        "outputId": "2ee49e63-f983-4ad1-83a2-c8f888246cc9"
      },
      "execution_count": 153,
      "outputs": [
        {
          "output_type": "execute_result",
          "data": {
            "text/plain": [
              "97_number_of_customers_in_store                      4\n",
              "104_how_many_shelves_does_the_micro_retailer_have    3\n",
              "dtype: int64"
            ]
          },
          "metadata": {},
          "execution_count": 153
        }
      ]
    },
    {
      "cell_type": "code",
      "source": [
        "#Reemplazamos valores atípicos (nulos) del dataframe con \"mean\"\n",
        "#Realizamos una copia del dataframe\n",
        "data_clean=filtroi_clean.copy()\n",
        "data_clean=filtroi_clean.fillna(round(filtroi_clean.mean(),1))\n",
        "data_clean"
      ],
      "metadata": {
        "colab": {
          "base_uri": "https://localhost:8080/",
          "height": 424
        },
        "id": "EV03lgQJ5_Wl",
        "outputId": "1b86534b-6a2e-4bc5-d538-ae2a37a33c33"
      },
      "execution_count": 154,
      "outputs": [
        {
          "output_type": "execute_result",
          "data": {
            "text/plain": [
              "     97_number_of_customers_in_store  \\\n",
              "0                                2.0   \n",
              "1                                0.0   \n",
              "2                                0.0   \n",
              "3                                0.0   \n",
              "4                                0.0   \n",
              "..                               ...   \n",
              "166                              1.0   \n",
              "167                              1.0   \n",
              "168                              3.0   \n",
              "169                              0.0   \n",
              "170                              1.0   \n",
              "\n",
              "     104_how_many_shelves_does_the_micro_retailer_have  \n",
              "0                                                  4.0  \n",
              "1                                                  8.0  \n",
              "2                                                 24.0  \n",
              "3                                                  2.0  \n",
              "4                                                 16.0  \n",
              "..                                                 ...  \n",
              "166                                                5.0  \n",
              "167                                                5.0  \n",
              "168                                                1.0  \n",
              "169                                                1.0  \n",
              "170                                                1.0  \n",
              "\n",
              "[171 rows x 2 columns]"
            ],
            "text/html": [
              "\n",
              "  <div id=\"df-a835e6b2-2523-4cbf-910b-9778429154a0\">\n",
              "    <div class=\"colab-df-container\">\n",
              "      <div>\n",
              "<style scoped>\n",
              "    .dataframe tbody tr th:only-of-type {\n",
              "        vertical-align: middle;\n",
              "    }\n",
              "\n",
              "    .dataframe tbody tr th {\n",
              "        vertical-align: top;\n",
              "    }\n",
              "\n",
              "    .dataframe thead th {\n",
              "        text-align: right;\n",
              "    }\n",
              "</style>\n",
              "<table border=\"1\" class=\"dataframe\">\n",
              "  <thead>\n",
              "    <tr style=\"text-align: right;\">\n",
              "      <th></th>\n",
              "      <th>97_number_of_customers_in_store</th>\n",
              "      <th>104_how_many_shelves_does_the_micro_retailer_have</th>\n",
              "    </tr>\n",
              "  </thead>\n",
              "  <tbody>\n",
              "    <tr>\n",
              "      <th>0</th>\n",
              "      <td>2.0</td>\n",
              "      <td>4.0</td>\n",
              "    </tr>\n",
              "    <tr>\n",
              "      <th>1</th>\n",
              "      <td>0.0</td>\n",
              "      <td>8.0</td>\n",
              "    </tr>\n",
              "    <tr>\n",
              "      <th>2</th>\n",
              "      <td>0.0</td>\n",
              "      <td>24.0</td>\n",
              "    </tr>\n",
              "    <tr>\n",
              "      <th>3</th>\n",
              "      <td>0.0</td>\n",
              "      <td>2.0</td>\n",
              "    </tr>\n",
              "    <tr>\n",
              "      <th>4</th>\n",
              "      <td>0.0</td>\n",
              "      <td>16.0</td>\n",
              "    </tr>\n",
              "    <tr>\n",
              "      <th>...</th>\n",
              "      <td>...</td>\n",
              "      <td>...</td>\n",
              "    </tr>\n",
              "    <tr>\n",
              "      <th>166</th>\n",
              "      <td>1.0</td>\n",
              "      <td>5.0</td>\n",
              "    </tr>\n",
              "    <tr>\n",
              "      <th>167</th>\n",
              "      <td>1.0</td>\n",
              "      <td>5.0</td>\n",
              "    </tr>\n",
              "    <tr>\n",
              "      <th>168</th>\n",
              "      <td>3.0</td>\n",
              "      <td>1.0</td>\n",
              "    </tr>\n",
              "    <tr>\n",
              "      <th>169</th>\n",
              "      <td>0.0</td>\n",
              "      <td>1.0</td>\n",
              "    </tr>\n",
              "    <tr>\n",
              "      <th>170</th>\n",
              "      <td>1.0</td>\n",
              "      <td>1.0</td>\n",
              "    </tr>\n",
              "  </tbody>\n",
              "</table>\n",
              "<p>171 rows × 2 columns</p>\n",
              "</div>\n",
              "      <button class=\"colab-df-convert\" onclick=\"convertToInteractive('df-a835e6b2-2523-4cbf-910b-9778429154a0')\"\n",
              "              title=\"Convert this dataframe to an interactive table.\"\n",
              "              style=\"display:none;\">\n",
              "        \n",
              "  <svg xmlns=\"http://www.w3.org/2000/svg\" height=\"24px\"viewBox=\"0 0 24 24\"\n",
              "       width=\"24px\">\n",
              "    <path d=\"M0 0h24v24H0V0z\" fill=\"none\"/>\n",
              "    <path d=\"M18.56 5.44l.94 2.06.94-2.06 2.06-.94-2.06-.94-.94-2.06-.94 2.06-2.06.94zm-11 1L8.5 8.5l.94-2.06 2.06-.94-2.06-.94L8.5 2.5l-.94 2.06-2.06.94zm10 10l.94 2.06.94-2.06 2.06-.94-2.06-.94-.94-2.06-.94 2.06-2.06.94z\"/><path d=\"M17.41 7.96l-1.37-1.37c-.4-.4-.92-.59-1.43-.59-.52 0-1.04.2-1.43.59L10.3 9.45l-7.72 7.72c-.78.78-.78 2.05 0 2.83L4 21.41c.39.39.9.59 1.41.59.51 0 1.02-.2 1.41-.59l7.78-7.78 2.81-2.81c.8-.78.8-2.07 0-2.86zM5.41 20L4 18.59l7.72-7.72 1.47 1.35L5.41 20z\"/>\n",
              "  </svg>\n",
              "      </button>\n",
              "      \n",
              "  <style>\n",
              "    .colab-df-container {\n",
              "      display:flex;\n",
              "      flex-wrap:wrap;\n",
              "      gap: 12px;\n",
              "    }\n",
              "\n",
              "    .colab-df-convert {\n",
              "      background-color: #E8F0FE;\n",
              "      border: none;\n",
              "      border-radius: 50%;\n",
              "      cursor: pointer;\n",
              "      display: none;\n",
              "      fill: #1967D2;\n",
              "      height: 32px;\n",
              "      padding: 0 0 0 0;\n",
              "      width: 32px;\n",
              "    }\n",
              "\n",
              "    .colab-df-convert:hover {\n",
              "      background-color: #E2EBFA;\n",
              "      box-shadow: 0px 1px 2px rgba(60, 64, 67, 0.3), 0px 1px 3px 1px rgba(60, 64, 67, 0.15);\n",
              "      fill: #174EA6;\n",
              "    }\n",
              "\n",
              "    [theme=dark] .colab-df-convert {\n",
              "      background-color: #3B4455;\n",
              "      fill: #D2E3FC;\n",
              "    }\n",
              "\n",
              "    [theme=dark] .colab-df-convert:hover {\n",
              "      background-color: #434B5C;\n",
              "      box-shadow: 0px 1px 3px 1px rgba(0, 0, 0, 0.15);\n",
              "      filter: drop-shadow(0px 1px 2px rgba(0, 0, 0, 0.3));\n",
              "      fill: #FFFFFF;\n",
              "    }\n",
              "  </style>\n",
              "\n",
              "      <script>\n",
              "        const buttonEl =\n",
              "          document.querySelector('#df-a835e6b2-2523-4cbf-910b-9778429154a0 button.colab-df-convert');\n",
              "        buttonEl.style.display =\n",
              "          google.colab.kernel.accessAllowed ? 'block' : 'none';\n",
              "\n",
              "        async function convertToInteractive(key) {\n",
              "          const element = document.querySelector('#df-a835e6b2-2523-4cbf-910b-9778429154a0');\n",
              "          const dataTable =\n",
              "            await google.colab.kernel.invokeFunction('convertToInteractive',\n",
              "                                                     [key], {});\n",
              "          if (!dataTable) return;\n",
              "\n",
              "          const docLinkHtml = 'Like what you see? Visit the ' +\n",
              "            '<a target=\"_blank\" href=https://colab.research.google.com/notebooks/data_table.ipynb>data table notebook</a>'\n",
              "            + ' to learn more about interactive tables.';\n",
              "          element.innerHTML = '';\n",
              "          dataTable['output_type'] = 'display_data';\n",
              "          await google.colab.output.renderOutput(dataTable, element);\n",
              "          const docLink = document.createElement('div');\n",
              "          docLink.innerHTML = docLinkHtml;\n",
              "          element.appendChild(docLink);\n",
              "        }\n",
              "      </script>\n",
              "    </div>\n",
              "  </div>\n",
              "  "
            ]
          },
          "metadata": {},
          "execution_count": 154
        }
      ]
    },
    {
      "cell_type": "code",
      "source": [
        "Microretailer_Datos_Limpios = pd.concat([data_clean, filtro_col], axis=1)\n",
        "Microretailer_Datos_Limpios"
      ],
      "metadata": {
        "colab": {
          "base_uri": "https://localhost:8080/",
          "height": 939
        },
        "id": "6LBOGpAS6AZ9",
        "outputId": "cfdff965-7257-48bf-f02c-74a5bd343ee5"
      },
      "execution_count": 155,
      "outputs": [
        {
          "output_type": "execute_result",
          "data": {
            "text/plain": [
              "     97_number_of_customers_in_store  \\\n",
              "0                                2.0   \n",
              "1                                0.0   \n",
              "2                                0.0   \n",
              "3                                0.0   \n",
              "4                                0.0   \n",
              "..                               ...   \n",
              "166                              1.0   \n",
              "167                              1.0   \n",
              "168                              3.0   \n",
              "169                              0.0   \n",
              "170                              1.0   \n",
              "\n",
              "     104_how_many_shelves_does_the_micro_retailer_have  \\\n",
              "0                                                  4.0   \n",
              "1                                                  8.0   \n",
              "2                                                 24.0   \n",
              "3                                                  2.0   \n",
              "4                                                 16.0   \n",
              "..                                                 ...   \n",
              "166                                                5.0   \n",
              "167                                                5.0   \n",
              "168                                                1.0   \n",
              "169                                                1.0   \n",
              "170                                                1.0   \n",
              "\n",
              "                               _record_id             _title  \\\n",
              "0    dff2998e-af74-4de6-8efd-488aca24e67b  November 12, 2022   \n",
              "1    c596412f-4fc2-4983-acba-d9565859e42f  November 12, 2022   \n",
              "2    5bb632b3-41b5-4fb6-a817-b564e8b45a48  November 12, 2022   \n",
              "3    6774a0f6-bab4-4a58-bf94-95ad0b7cb438  November 12, 2022   \n",
              "4    6cc637fa-3d54-48c7-9499-6de13d0a26aa  November 12, 2022   \n",
              "..                                    ...                ...   \n",
              "166  2413f06e-15cc-4a6f-8e83-5224c6824b12   November 3, 2022   \n",
              "167  962bf5a6-1eff-4874-a627-9cd8e3ca27b4   November 3, 2022   \n",
              "168  9ff658db-4dc5-48b6-aa0b-5c6668bb6720   November 3, 2022   \n",
              "169  e88aa9c1-dc8b-4180-99a1-2e0118ad905d   November 3, 2022   \n",
              "170  bf720ff0-3b7d-47ed-ba49-f5d4bfb7293c   November 3, 2022   \n",
              "\n",
              "          _server_updated_at           _updated_by  \\\n",
              "0    2022-11-12 22:15:10 UTC  Salomon Abdala Perez   \n",
              "1    2022-11-12 22:15:09 UTC  Salomon Abdala Perez   \n",
              "2    2022-11-12 22:15:09 UTC  Salomon Abdala Perez   \n",
              "3    2022-11-12 22:15:09 UTC  Salomon Abdala Perez   \n",
              "4    2022-11-12 22:15:08 UTC  Salomon Abdala Perez   \n",
              "..                       ...                   ...   \n",
              "166  2022-11-03 16:50:48 UTC          Emilio Garza   \n",
              "167  2022-11-03 16:28:15 UTC          Emilio Garza   \n",
              "168  2022-11-03 16:28:14 UTC          Emilio Garza   \n",
              "169  2022-11-03 16:18:37 UTC        Francisco Adán   \n",
              "170  2022-11-03 16:15:13 UTC          Emilio Garza   \n",
              "\n",
              "                                         _geometry  _latitude  _longitude  \\\n",
              "0     SRID=4326;POINT(-98.233822273 19.0535362706)  19.053536  -98.233822   \n",
              "1    SRID=4326;POINT(-98.2341421351 19.0535610353)  19.053561  -98.234142   \n",
              "2      SRID=4326;POINT(-98.232299887 19.058654656)  19.058655  -98.232300   \n",
              "3    SRID=4326;POINT(-98.2331576513 19.0592929035)  19.059293  -98.233158   \n",
              "4    SRID=4326;POINT(-98.2338639604 19.0595846029)  19.059585  -98.233864   \n",
              "..                                             ...        ...         ...   \n",
              "166  SRID=4326;POINT(-98.1940658722 19.0431145635)  19.043115  -98.194066   \n",
              "167  SRID=4326;POINT(-98.1938023854 19.0427938182)  19.042794  -98.193802   \n",
              "168  SRID=4326;POINT(-98.1934387078 19.0428094171)  19.042809  -98.193439   \n",
              "169          SRID=4326;POINT(-98.193818 19.042558)  19.042558  -98.193818   \n",
              "170  SRID=4326;POINT(-98.1937349172 19.0428229892)  19.042823  -98.193735   \n",
              "\n",
              "                                        228_store_name  ...  \\\n",
              "0                                  Eugene’s Compostura  ...   \n",
              "1                               Frutas y verduras Angy  ...   \n",
              "2                                            Libélula   ...   \n",
              "3                                          Quality fix  ...   \n",
              "4                                 Artesanías Los Pinos  ...   \n",
              "..                                                 ...  ...   \n",
              "166                                         July Store  ...   \n",
              "167                                   Miscelánea rubí   ...   \n",
              "168                                          La fonda   ...   \n",
              "169  Birria de Res \"Hermanos Negreros 2\" estilo Tij...  ...   \n",
              "170                          Restaurante el alfeñique   ...   \n",
              "\n",
              "    261_technology_organization 262_technology_serve_customers  \\\n",
              "0                       nothing                        nothing   \n",
              "1                       nothing                        nothing   \n",
              "2                       nothing                        nothing   \n",
              "3                       nothing                        nothing   \n",
              "4                       nothing                        nothing   \n",
              "..                          ...                            ...   \n",
              "166                     nothing                        nothing   \n",
              "167                     nothing                        nothing   \n",
              "168                     nothing                        nothing   \n",
              "169                     nothing                        nothing   \n",
              "170                     nothing                        nothing   \n",
              "\n",
              "    263_technology_secure_sales 264_technology_budget  \\\n",
              "0                       nothing               nothing   \n",
              "1                       nothing               nothing   \n",
              "2                       nothing               nothing   \n",
              "3                       nothing               nothing   \n",
              "4                       nothing               nothing   \n",
              "..                          ...                   ...   \n",
              "166                     nothing               nothing   \n",
              "167                     nothing               nothing   \n",
              "168                     nothing               nothing   \n",
              "169                     nothing               nothing   \n",
              "170                     nothing               nothing   \n",
              "\n",
              "    267_technology_investment_customer_preferences  \\\n",
              "0                                          nothing   \n",
              "1                                          nothing   \n",
              "2                                          nothing   \n",
              "3                                          nothing   \n",
              "4                                          nothing   \n",
              "..                                             ...   \n",
              "166                                        nothing   \n",
              "167                                        nothing   \n",
              "168                                        nothing   \n",
              "169                                        nothing   \n",
              "170                                        nothing   \n",
              "\n",
              "    234_willingness_participate_workshop 318_shopkeeper_name  \\\n",
              "0                                     no             nothing   \n",
              "1                                     no             nothing   \n",
              "2                                     no             nothing   \n",
              "3                                     no             nothing   \n",
              "4                                     no             nothing   \n",
              "..                                   ...                 ...   \n",
              "166                              nothing             nothing   \n",
              "167                              nothing             nothing   \n",
              "168                              nothing             nothing   \n",
              "169                              nothing             nothing   \n",
              "170                              nothing             nothing   \n",
              "\n",
              "    319_shopkeepers_last_name 236_whatsapp 235_email  \n",
              "0                     nothing      nothing   nothing  \n",
              "1                     nothing      nothing   nothing  \n",
              "2                     nothing      nothing   nothing  \n",
              "3                     nothing      nothing   nothing  \n",
              "4                     nothing      nothing   nothing  \n",
              "..                        ...          ...       ...  \n",
              "166                   nothing      nothing   nothing  \n",
              "167                   nothing      nothing   nothing  \n",
              "168                   nothing      nothing   nothing  \n",
              "169                   nothing      nothing   nothing  \n",
              "170                   nothing      nothing   nothing  \n",
              "\n",
              "[171 rows x 105 columns]"
            ],
            "text/html": [
              "\n",
              "  <div id=\"df-146b47d4-5fb7-48f7-b850-fce332e98799\">\n",
              "    <div class=\"colab-df-container\">\n",
              "      <div>\n",
              "<style scoped>\n",
              "    .dataframe tbody tr th:only-of-type {\n",
              "        vertical-align: middle;\n",
              "    }\n",
              "\n",
              "    .dataframe tbody tr th {\n",
              "        vertical-align: top;\n",
              "    }\n",
              "\n",
              "    .dataframe thead th {\n",
              "        text-align: right;\n",
              "    }\n",
              "</style>\n",
              "<table border=\"1\" class=\"dataframe\">\n",
              "  <thead>\n",
              "    <tr style=\"text-align: right;\">\n",
              "      <th></th>\n",
              "      <th>97_number_of_customers_in_store</th>\n",
              "      <th>104_how_many_shelves_does_the_micro_retailer_have</th>\n",
              "      <th>_record_id</th>\n",
              "      <th>_title</th>\n",
              "      <th>_server_updated_at</th>\n",
              "      <th>_updated_by</th>\n",
              "      <th>_geometry</th>\n",
              "      <th>_latitude</th>\n",
              "      <th>_longitude</th>\n",
              "      <th>228_store_name</th>\n",
              "      <th>...</th>\n",
              "      <th>261_technology_organization</th>\n",
              "      <th>262_technology_serve_customers</th>\n",
              "      <th>263_technology_secure_sales</th>\n",
              "      <th>264_technology_budget</th>\n",
              "      <th>267_technology_investment_customer_preferences</th>\n",
              "      <th>234_willingness_participate_workshop</th>\n",
              "      <th>318_shopkeeper_name</th>\n",
              "      <th>319_shopkeepers_last_name</th>\n",
              "      <th>236_whatsapp</th>\n",
              "      <th>235_email</th>\n",
              "    </tr>\n",
              "  </thead>\n",
              "  <tbody>\n",
              "    <tr>\n",
              "      <th>0</th>\n",
              "      <td>2.0</td>\n",
              "      <td>4.0</td>\n",
              "      <td>dff2998e-af74-4de6-8efd-488aca24e67b</td>\n",
              "      <td>November 12, 2022</td>\n",
              "      <td>2022-11-12 22:15:10 UTC</td>\n",
              "      <td>Salomon Abdala Perez</td>\n",
              "      <td>SRID=4326;POINT(-98.233822273 19.0535362706)</td>\n",
              "      <td>19.053536</td>\n",
              "      <td>-98.233822</td>\n",
              "      <td>Eugene’s Compostura</td>\n",
              "      <td>...</td>\n",
              "      <td>nothing</td>\n",
              "      <td>nothing</td>\n",
              "      <td>nothing</td>\n",
              "      <td>nothing</td>\n",
              "      <td>nothing</td>\n",
              "      <td>no</td>\n",
              "      <td>nothing</td>\n",
              "      <td>nothing</td>\n",
              "      <td>nothing</td>\n",
              "      <td>nothing</td>\n",
              "    </tr>\n",
              "    <tr>\n",
              "      <th>1</th>\n",
              "      <td>0.0</td>\n",
              "      <td>8.0</td>\n",
              "      <td>c596412f-4fc2-4983-acba-d9565859e42f</td>\n",
              "      <td>November 12, 2022</td>\n",
              "      <td>2022-11-12 22:15:09 UTC</td>\n",
              "      <td>Salomon Abdala Perez</td>\n",
              "      <td>SRID=4326;POINT(-98.2341421351 19.0535610353)</td>\n",
              "      <td>19.053561</td>\n",
              "      <td>-98.234142</td>\n",
              "      <td>Frutas y verduras Angy</td>\n",
              "      <td>...</td>\n",
              "      <td>nothing</td>\n",
              "      <td>nothing</td>\n",
              "      <td>nothing</td>\n",
              "      <td>nothing</td>\n",
              "      <td>nothing</td>\n",
              "      <td>no</td>\n",
              "      <td>nothing</td>\n",
              "      <td>nothing</td>\n",
              "      <td>nothing</td>\n",
              "      <td>nothing</td>\n",
              "    </tr>\n",
              "    <tr>\n",
              "      <th>2</th>\n",
              "      <td>0.0</td>\n",
              "      <td>24.0</td>\n",
              "      <td>5bb632b3-41b5-4fb6-a817-b564e8b45a48</td>\n",
              "      <td>November 12, 2022</td>\n",
              "      <td>2022-11-12 22:15:09 UTC</td>\n",
              "      <td>Salomon Abdala Perez</td>\n",
              "      <td>SRID=4326;POINT(-98.232299887 19.058654656)</td>\n",
              "      <td>19.058655</td>\n",
              "      <td>-98.232300</td>\n",
              "      <td>Libélula</td>\n",
              "      <td>...</td>\n",
              "      <td>nothing</td>\n",
              "      <td>nothing</td>\n",
              "      <td>nothing</td>\n",
              "      <td>nothing</td>\n",
              "      <td>nothing</td>\n",
              "      <td>no</td>\n",
              "      <td>nothing</td>\n",
              "      <td>nothing</td>\n",
              "      <td>nothing</td>\n",
              "      <td>nothing</td>\n",
              "    </tr>\n",
              "    <tr>\n",
              "      <th>3</th>\n",
              "      <td>0.0</td>\n",
              "      <td>2.0</td>\n",
              "      <td>6774a0f6-bab4-4a58-bf94-95ad0b7cb438</td>\n",
              "      <td>November 12, 2022</td>\n",
              "      <td>2022-11-12 22:15:09 UTC</td>\n",
              "      <td>Salomon Abdala Perez</td>\n",
              "      <td>SRID=4326;POINT(-98.2331576513 19.0592929035)</td>\n",
              "      <td>19.059293</td>\n",
              "      <td>-98.233158</td>\n",
              "      <td>Quality fix</td>\n",
              "      <td>...</td>\n",
              "      <td>nothing</td>\n",
              "      <td>nothing</td>\n",
              "      <td>nothing</td>\n",
              "      <td>nothing</td>\n",
              "      <td>nothing</td>\n",
              "      <td>no</td>\n",
              "      <td>nothing</td>\n",
              "      <td>nothing</td>\n",
              "      <td>nothing</td>\n",
              "      <td>nothing</td>\n",
              "    </tr>\n",
              "    <tr>\n",
              "      <th>4</th>\n",
              "      <td>0.0</td>\n",
              "      <td>16.0</td>\n",
              "      <td>6cc637fa-3d54-48c7-9499-6de13d0a26aa</td>\n",
              "      <td>November 12, 2022</td>\n",
              "      <td>2022-11-12 22:15:08 UTC</td>\n",
              "      <td>Salomon Abdala Perez</td>\n",
              "      <td>SRID=4326;POINT(-98.2338639604 19.0595846029)</td>\n",
              "      <td>19.059585</td>\n",
              "      <td>-98.233864</td>\n",
              "      <td>Artesanías Los Pinos</td>\n",
              "      <td>...</td>\n",
              "      <td>nothing</td>\n",
              "      <td>nothing</td>\n",
              "      <td>nothing</td>\n",
              "      <td>nothing</td>\n",
              "      <td>nothing</td>\n",
              "      <td>no</td>\n",
              "      <td>nothing</td>\n",
              "      <td>nothing</td>\n",
              "      <td>nothing</td>\n",
              "      <td>nothing</td>\n",
              "    </tr>\n",
              "    <tr>\n",
              "      <th>...</th>\n",
              "      <td>...</td>\n",
              "      <td>...</td>\n",
              "      <td>...</td>\n",
              "      <td>...</td>\n",
              "      <td>...</td>\n",
              "      <td>...</td>\n",
              "      <td>...</td>\n",
              "      <td>...</td>\n",
              "      <td>...</td>\n",
              "      <td>...</td>\n",
              "      <td>...</td>\n",
              "      <td>...</td>\n",
              "      <td>...</td>\n",
              "      <td>...</td>\n",
              "      <td>...</td>\n",
              "      <td>...</td>\n",
              "      <td>...</td>\n",
              "      <td>...</td>\n",
              "      <td>...</td>\n",
              "      <td>...</td>\n",
              "      <td>...</td>\n",
              "    </tr>\n",
              "    <tr>\n",
              "      <th>166</th>\n",
              "      <td>1.0</td>\n",
              "      <td>5.0</td>\n",
              "      <td>2413f06e-15cc-4a6f-8e83-5224c6824b12</td>\n",
              "      <td>November 3, 2022</td>\n",
              "      <td>2022-11-03 16:50:48 UTC</td>\n",
              "      <td>Emilio Garza</td>\n",
              "      <td>SRID=4326;POINT(-98.1940658722 19.0431145635)</td>\n",
              "      <td>19.043115</td>\n",
              "      <td>-98.194066</td>\n",
              "      <td>July Store</td>\n",
              "      <td>...</td>\n",
              "      <td>nothing</td>\n",
              "      <td>nothing</td>\n",
              "      <td>nothing</td>\n",
              "      <td>nothing</td>\n",
              "      <td>nothing</td>\n",
              "      <td>nothing</td>\n",
              "      <td>nothing</td>\n",
              "      <td>nothing</td>\n",
              "      <td>nothing</td>\n",
              "      <td>nothing</td>\n",
              "    </tr>\n",
              "    <tr>\n",
              "      <th>167</th>\n",
              "      <td>1.0</td>\n",
              "      <td>5.0</td>\n",
              "      <td>962bf5a6-1eff-4874-a627-9cd8e3ca27b4</td>\n",
              "      <td>November 3, 2022</td>\n",
              "      <td>2022-11-03 16:28:15 UTC</td>\n",
              "      <td>Emilio Garza</td>\n",
              "      <td>SRID=4326;POINT(-98.1938023854 19.0427938182)</td>\n",
              "      <td>19.042794</td>\n",
              "      <td>-98.193802</td>\n",
              "      <td>Miscelánea rubí</td>\n",
              "      <td>...</td>\n",
              "      <td>nothing</td>\n",
              "      <td>nothing</td>\n",
              "      <td>nothing</td>\n",
              "      <td>nothing</td>\n",
              "      <td>nothing</td>\n",
              "      <td>nothing</td>\n",
              "      <td>nothing</td>\n",
              "      <td>nothing</td>\n",
              "      <td>nothing</td>\n",
              "      <td>nothing</td>\n",
              "    </tr>\n",
              "    <tr>\n",
              "      <th>168</th>\n",
              "      <td>3.0</td>\n",
              "      <td>1.0</td>\n",
              "      <td>9ff658db-4dc5-48b6-aa0b-5c6668bb6720</td>\n",
              "      <td>November 3, 2022</td>\n",
              "      <td>2022-11-03 16:28:14 UTC</td>\n",
              "      <td>Emilio Garza</td>\n",
              "      <td>SRID=4326;POINT(-98.1934387078 19.0428094171)</td>\n",
              "      <td>19.042809</td>\n",
              "      <td>-98.193439</td>\n",
              "      <td>La fonda</td>\n",
              "      <td>...</td>\n",
              "      <td>nothing</td>\n",
              "      <td>nothing</td>\n",
              "      <td>nothing</td>\n",
              "      <td>nothing</td>\n",
              "      <td>nothing</td>\n",
              "      <td>nothing</td>\n",
              "      <td>nothing</td>\n",
              "      <td>nothing</td>\n",
              "      <td>nothing</td>\n",
              "      <td>nothing</td>\n",
              "    </tr>\n",
              "    <tr>\n",
              "      <th>169</th>\n",
              "      <td>0.0</td>\n",
              "      <td>1.0</td>\n",
              "      <td>e88aa9c1-dc8b-4180-99a1-2e0118ad905d</td>\n",
              "      <td>November 3, 2022</td>\n",
              "      <td>2022-11-03 16:18:37 UTC</td>\n",
              "      <td>Francisco Adán</td>\n",
              "      <td>SRID=4326;POINT(-98.193818 19.042558)</td>\n",
              "      <td>19.042558</td>\n",
              "      <td>-98.193818</td>\n",
              "      <td>Birria de Res \"Hermanos Negreros 2\" estilo Tij...</td>\n",
              "      <td>...</td>\n",
              "      <td>nothing</td>\n",
              "      <td>nothing</td>\n",
              "      <td>nothing</td>\n",
              "      <td>nothing</td>\n",
              "      <td>nothing</td>\n",
              "      <td>nothing</td>\n",
              "      <td>nothing</td>\n",
              "      <td>nothing</td>\n",
              "      <td>nothing</td>\n",
              "      <td>nothing</td>\n",
              "    </tr>\n",
              "    <tr>\n",
              "      <th>170</th>\n",
              "      <td>1.0</td>\n",
              "      <td>1.0</td>\n",
              "      <td>bf720ff0-3b7d-47ed-ba49-f5d4bfb7293c</td>\n",
              "      <td>November 3, 2022</td>\n",
              "      <td>2022-11-03 16:15:13 UTC</td>\n",
              "      <td>Emilio Garza</td>\n",
              "      <td>SRID=4326;POINT(-98.1937349172 19.0428229892)</td>\n",
              "      <td>19.042823</td>\n",
              "      <td>-98.193735</td>\n",
              "      <td>Restaurante el alfeñique</td>\n",
              "      <td>...</td>\n",
              "      <td>nothing</td>\n",
              "      <td>nothing</td>\n",
              "      <td>nothing</td>\n",
              "      <td>nothing</td>\n",
              "      <td>nothing</td>\n",
              "      <td>nothing</td>\n",
              "      <td>nothing</td>\n",
              "      <td>nothing</td>\n",
              "      <td>nothing</td>\n",
              "      <td>nothing</td>\n",
              "    </tr>\n",
              "  </tbody>\n",
              "</table>\n",
              "<p>171 rows × 105 columns</p>\n",
              "</div>\n",
              "      <button class=\"colab-df-convert\" onclick=\"convertToInteractive('df-146b47d4-5fb7-48f7-b850-fce332e98799')\"\n",
              "              title=\"Convert this dataframe to an interactive table.\"\n",
              "              style=\"display:none;\">\n",
              "        \n",
              "  <svg xmlns=\"http://www.w3.org/2000/svg\" height=\"24px\"viewBox=\"0 0 24 24\"\n",
              "       width=\"24px\">\n",
              "    <path d=\"M0 0h24v24H0V0z\" fill=\"none\"/>\n",
              "    <path d=\"M18.56 5.44l.94 2.06.94-2.06 2.06-.94-2.06-.94-.94-2.06-.94 2.06-2.06.94zm-11 1L8.5 8.5l.94-2.06 2.06-.94-2.06-.94L8.5 2.5l-.94 2.06-2.06.94zm10 10l.94 2.06.94-2.06 2.06-.94-2.06-.94-.94-2.06-.94 2.06-2.06.94z\"/><path d=\"M17.41 7.96l-1.37-1.37c-.4-.4-.92-.59-1.43-.59-.52 0-1.04.2-1.43.59L10.3 9.45l-7.72 7.72c-.78.78-.78 2.05 0 2.83L4 21.41c.39.39.9.59 1.41.59.51 0 1.02-.2 1.41-.59l7.78-7.78 2.81-2.81c.8-.78.8-2.07 0-2.86zM5.41 20L4 18.59l7.72-7.72 1.47 1.35L5.41 20z\"/>\n",
              "  </svg>\n",
              "      </button>\n",
              "      \n",
              "  <style>\n",
              "    .colab-df-container {\n",
              "      display:flex;\n",
              "      flex-wrap:wrap;\n",
              "      gap: 12px;\n",
              "    }\n",
              "\n",
              "    .colab-df-convert {\n",
              "      background-color: #E8F0FE;\n",
              "      border: none;\n",
              "      border-radius: 50%;\n",
              "      cursor: pointer;\n",
              "      display: none;\n",
              "      fill: #1967D2;\n",
              "      height: 32px;\n",
              "      padding: 0 0 0 0;\n",
              "      width: 32px;\n",
              "    }\n",
              "\n",
              "    .colab-df-convert:hover {\n",
              "      background-color: #E2EBFA;\n",
              "      box-shadow: 0px 1px 2px rgba(60, 64, 67, 0.3), 0px 1px 3px 1px rgba(60, 64, 67, 0.15);\n",
              "      fill: #174EA6;\n",
              "    }\n",
              "\n",
              "    [theme=dark] .colab-df-convert {\n",
              "      background-color: #3B4455;\n",
              "      fill: #D2E3FC;\n",
              "    }\n",
              "\n",
              "    [theme=dark] .colab-df-convert:hover {\n",
              "      background-color: #434B5C;\n",
              "      box-shadow: 0px 1px 3px 1px rgba(0, 0, 0, 0.15);\n",
              "      filter: drop-shadow(0px 1px 2px rgba(0, 0, 0, 0.3));\n",
              "      fill: #FFFFFF;\n",
              "    }\n",
              "  </style>\n",
              "\n",
              "      <script>\n",
              "        const buttonEl =\n",
              "          document.querySelector('#df-146b47d4-5fb7-48f7-b850-fce332e98799 button.colab-df-convert');\n",
              "        buttonEl.style.display =\n",
              "          google.colab.kernel.accessAllowed ? 'block' : 'none';\n",
              "\n",
              "        async function convertToInteractive(key) {\n",
              "          const element = document.querySelector('#df-146b47d4-5fb7-48f7-b850-fce332e98799');\n",
              "          const dataTable =\n",
              "            await google.colab.kernel.invokeFunction('convertToInteractive',\n",
              "                                                     [key], {});\n",
              "          if (!dataTable) return;\n",
              "\n",
              "          const docLinkHtml = 'Like what you see? Visit the ' +\n",
              "            '<a target=\"_blank\" href=https://colab.research.google.com/notebooks/data_table.ipynb>data table notebook</a>'\n",
              "            + ' to learn more about interactive tables.';\n",
              "          element.innerHTML = '';\n",
              "          dataTable['output_type'] = 'display_data';\n",
              "          await google.colab.output.renderOutput(dataTable, element);\n",
              "          const docLink = document.createElement('div');\n",
              "          docLink.innerHTML = docLinkHtml;\n",
              "          element.appendChild(docLink);\n",
              "        }\n",
              "      </script>\n",
              "    </div>\n",
              "  </div>\n",
              "  "
            ]
          },
          "metadata": {},
          "execution_count": 155
        }
      ]
    },
    {
      "cell_type": "markdown",
      "source": [
        "Descargamos DataFrame "
      ],
      "metadata": {
        "id": "jtO2-WFb6RE3"
      }
    },
    {
      "cell_type": "code",
      "source": [
        "#Convertir DataFrame a CSV \n",
        "Microretailer_Datos_Limpios.to_csv(\"Microretailer_Datos_Limpios.csv\")"
      ],
      "metadata": {
        "id": "wZ_Rehbi6NPs"
      },
      "execution_count": 157,
      "outputs": []
    },
    {
      "cell_type": "code",
      "source": [
        "#Descargar archivo filtrado en csv \n",
        "from google.colab import files \n",
        "\n",
        "files.download(\"Microretailer_Datos_Limpios.csv\")"
      ],
      "metadata": {
        "colab": {
          "base_uri": "https://localhost:8080/",
          "height": 17
        },
        "id": "RwZaAYNP6fWM",
        "outputId": "6e53ce93-3690-4e71-c70b-360b474eb2c0"
      },
      "execution_count": 158,
      "outputs": [
        {
          "output_type": "display_data",
          "data": {
            "text/plain": [
              "<IPython.core.display.Javascript object>"
            ],
            "application/javascript": [
              "\n",
              "    async function download(id, filename, size) {\n",
              "      if (!google.colab.kernel.accessAllowed) {\n",
              "        return;\n",
              "      }\n",
              "      const div = document.createElement('div');\n",
              "      const label = document.createElement('label');\n",
              "      label.textContent = `Downloading \"${filename}\": `;\n",
              "      div.appendChild(label);\n",
              "      const progress = document.createElement('progress');\n",
              "      progress.max = size;\n",
              "      div.appendChild(progress);\n",
              "      document.body.appendChild(div);\n",
              "\n",
              "      const buffers = [];\n",
              "      let downloaded = 0;\n",
              "\n",
              "      const channel = await google.colab.kernel.comms.open(id);\n",
              "      // Send a message to notify the kernel that we're ready.\n",
              "      channel.send({})\n",
              "\n",
              "      for await (const message of channel.messages) {\n",
              "        // Send a message to notify the kernel that we're ready.\n",
              "        channel.send({})\n",
              "        if (message.buffers) {\n",
              "          for (const buffer of message.buffers) {\n",
              "            buffers.push(buffer);\n",
              "            downloaded += buffer.byteLength;\n",
              "            progress.value = downloaded;\n",
              "          }\n",
              "        }\n",
              "      }\n",
              "      const blob = new Blob(buffers, {type: 'application/binary'});\n",
              "      const a = document.createElement('a');\n",
              "      a.href = window.URL.createObjectURL(blob);\n",
              "      a.download = filename;\n",
              "      div.appendChild(a);\n",
              "      a.click();\n",
              "      div.remove();\n",
              "    }\n",
              "  "
            ]
          },
          "metadata": {}
        },
        {
          "output_type": "display_data",
          "data": {
            "text/plain": [
              "<IPython.core.display.Javascript object>"
            ],
            "application/javascript": [
              "download(\"download_c716d812-c3c1-4bc0-9b48-8ea324ff9120\", \"Microretailer_Datos_Limpios.csv\", 210509)"
            ]
          },
          "metadata": {}
        }
      ]
    }
  ]
}